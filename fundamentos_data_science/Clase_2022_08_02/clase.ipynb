{
 "cells": [
  {
   "cell_type": "code",
   "execution_count": 1,
   "metadata": {},
   "outputs": [],
   "source": [
    "import glob\n",
    "import pandas as pd\n",
    "from feature_engine.datetime import DatetimeFeatures\n",
    "from sklearn.linear_model import LinearRegression, TweedieRegressor\n",
    "from sklearn.metrics import mean_squared_error\n",
    "from sklearn.model_selection import train_test_split\n",
    "from sklearn.pipeline import Pipeline\n",
    "from sklearn.preprocessing import StandardScaler\n",
    "from sklearn import set_config\n",
    "set_config(display='diagram')"
   ]
  },
  {
   "cell_type": "code",
   "execution_count": 2,
   "metadata": {},
   "outputs": [
    {
     "data": {
      "text/plain": [
       "['data\\\\04 April 2017 Cyclist Numbers for Web.xlsx',\n",
       " 'data\\\\05 May 2017 Cyclist Numbers for Web.xlsx',\n",
       " 'data\\\\06 June 2017 Cyclist Numbers for Web.xlsx',\n",
       " 'data\\\\07 July 2017 Cyclist Numbers for Web.xlsx',\n",
       " 'data\\\\08 August 2017 Cyclist Numbers for Web.xlsx',\n",
       " 'data\\\\09 September 2017 Cyclist Numbers for Web.xlsx',\n",
       " 'data\\\\10 October 2017 Cyclist Numbers.xlsx']"
      ]
     },
     "execution_count": 2,
     "metadata": {},
     "output_type": "execute_result"
    }
   ],
   "source": [
    "files = glob.glob('data/*.xlsx')\t\n",
    "nrows = [30, 31, 30, 31, 31, 30, 31]\n",
    "files"
   ]
  },
  {
   "cell_type": "code",
   "execution_count": 3,
   "metadata": {},
   "outputs": [
    {
     "data": {
      "text/html": [
       "<div>\n",
       "<style scoped>\n",
       "    .dataframe tbody tr th:only-of-type {\n",
       "        vertical-align: middle;\n",
       "    }\n",
       "\n",
       "    .dataframe tbody tr th {\n",
       "        vertical-align: top;\n",
       "    }\n",
       "\n",
       "    .dataframe thead th {\n",
       "        text-align: right;\n",
       "    }\n",
       "</style>\n",
       "<table border=\"1\" class=\"dataframe\">\n",
       "  <thead>\n",
       "    <tr style=\"text-align: right;\">\n",
       "      <th></th>\n",
       "      <th>Date</th>\n",
       "      <th>High Temp (°F)</th>\n",
       "      <th>Low Temp (°F)</th>\n",
       "      <th>Precipitation</th>\n",
       "      <th>Brooklyn Bridge</th>\n",
       "      <th>Manhattan Bridge</th>\n",
       "      <th>Williamsburg Bridge</th>\n",
       "      <th>Queensboro Bridge</th>\n",
       "      <th>Total</th>\n",
       "    </tr>\n",
       "  </thead>\n",
       "  <tbody>\n",
       "    <tr>\n",
       "      <th>0</th>\n",
       "      <td>2017-04-01</td>\n",
       "      <td>46.0</td>\n",
       "      <td>37.0</td>\n",
       "      <td>0</td>\n",
       "      <td>606</td>\n",
       "      <td>1446</td>\n",
       "      <td>1915</td>\n",
       "      <td>1430</td>\n",
       "      <td>5397</td>\n",
       "    </tr>\n",
       "    <tr>\n",
       "      <th>1</th>\n",
       "      <td>2017-04-02</td>\n",
       "      <td>62.1</td>\n",
       "      <td>41.0</td>\n",
       "      <td>0</td>\n",
       "      <td>2021</td>\n",
       "      <td>3943</td>\n",
       "      <td>4207</td>\n",
       "      <td>2862</td>\n",
       "      <td>13033</td>\n",
       "    </tr>\n",
       "    <tr>\n",
       "      <th>2</th>\n",
       "      <td>2017-04-03</td>\n",
       "      <td>63.0</td>\n",
       "      <td>50.0</td>\n",
       "      <td>0.03</td>\n",
       "      <td>2470</td>\n",
       "      <td>4988</td>\n",
       "      <td>5178</td>\n",
       "      <td>3689</td>\n",
       "      <td>16325</td>\n",
       "    </tr>\n",
       "    <tr>\n",
       "      <th>3</th>\n",
       "      <td>2017-04-04</td>\n",
       "      <td>51.1</td>\n",
       "      <td>46.0</td>\n",
       "      <td>1.18</td>\n",
       "      <td>723</td>\n",
       "      <td>1913</td>\n",
       "      <td>2279</td>\n",
       "      <td>1666</td>\n",
       "      <td>6581</td>\n",
       "    </tr>\n",
       "    <tr>\n",
       "      <th>4</th>\n",
       "      <td>2017-04-05</td>\n",
       "      <td>63.0</td>\n",
       "      <td>46.0</td>\n",
       "      <td>0</td>\n",
       "      <td>2807</td>\n",
       "      <td>5276</td>\n",
       "      <td>5711</td>\n",
       "      <td>4197</td>\n",
       "      <td>17991</td>\n",
       "    </tr>\n",
       "    <tr>\n",
       "      <th>...</th>\n",
       "      <td>...</td>\n",
       "      <td>...</td>\n",
       "      <td>...</td>\n",
       "      <td>...</td>\n",
       "      <td>...</td>\n",
       "      <td>...</td>\n",
       "      <td>...</td>\n",
       "      <td>...</td>\n",
       "      <td>...</td>\n",
       "    </tr>\n",
       "    <tr>\n",
       "      <th>26</th>\n",
       "      <td>2017-10-27</td>\n",
       "      <td>62.1</td>\n",
       "      <td>48.0</td>\n",
       "      <td>0</td>\n",
       "      <td>3150</td>\n",
       "      <td>5610</td>\n",
       "      <td>6450</td>\n",
       "      <td>5181</td>\n",
       "      <td>20391</td>\n",
       "    </tr>\n",
       "    <tr>\n",
       "      <th>27</th>\n",
       "      <td>2017-10-28</td>\n",
       "      <td>68.0</td>\n",
       "      <td>55.9</td>\n",
       "      <td>0</td>\n",
       "      <td>2245</td>\n",
       "      <td>4520</td>\n",
       "      <td>5104</td>\n",
       "      <td>4069</td>\n",
       "      <td>15938</td>\n",
       "    </tr>\n",
       "    <tr>\n",
       "      <th>28</th>\n",
       "      <td>2017-10-29</td>\n",
       "      <td>64.9</td>\n",
       "      <td>61.0</td>\n",
       "      <td>3.03</td>\n",
       "      <td>183</td>\n",
       "      <td>661</td>\n",
       "      <td>1026</td>\n",
       "      <td>965</td>\n",
       "      <td>2835</td>\n",
       "    </tr>\n",
       "    <tr>\n",
       "      <th>29</th>\n",
       "      <td>2017-10-30</td>\n",
       "      <td>55.0</td>\n",
       "      <td>46.0</td>\n",
       "      <td>0.25</td>\n",
       "      <td>1428</td>\n",
       "      <td>2966</td>\n",
       "      <td>3547</td>\n",
       "      <td>2924</td>\n",
       "      <td>10865</td>\n",
       "    </tr>\n",
       "    <tr>\n",
       "      <th>30</th>\n",
       "      <td>2017-10-31</td>\n",
       "      <td>54.0</td>\n",
       "      <td>44.0</td>\n",
       "      <td>0</td>\n",
       "      <td>2727</td>\n",
       "      <td>5597</td>\n",
       "      <td>5894</td>\n",
       "      <td>4883</td>\n",
       "      <td>19101</td>\n",
       "    </tr>\n",
       "  </tbody>\n",
       "</table>\n",
       "<p>214 rows × 9 columns</p>\n",
       "</div>"
      ],
      "text/plain": [
       "         Date  High Temp (°F)  Low Temp (°F) Precipitation  Brooklyn Bridge  \\\n",
       "0  2017-04-01            46.0           37.0             0              606   \n",
       "1  2017-04-02            62.1           41.0             0             2021   \n",
       "2  2017-04-03            63.0           50.0          0.03             2470   \n",
       "3  2017-04-04            51.1           46.0          1.18              723   \n",
       "4  2017-04-05            63.0           46.0             0             2807   \n",
       "..        ...             ...            ...           ...              ...   \n",
       "26 2017-10-27            62.1           48.0             0             3150   \n",
       "27 2017-10-28            68.0           55.9             0             2245   \n",
       "28 2017-10-29            64.9           61.0          3.03              183   \n",
       "29 2017-10-30            55.0           46.0          0.25             1428   \n",
       "30 2017-10-31            54.0           44.0             0             2727   \n",
       "\n",
       "    Manhattan Bridge  Williamsburg Bridge  Queensboro Bridge  Total  \n",
       "0               1446                 1915               1430   5397  \n",
       "1               3943                 4207               2862  13033  \n",
       "2               4988                 5178               3689  16325  \n",
       "3               1913                 2279               1666   6581  \n",
       "4               5276                 5711               4197  17991  \n",
       "..               ...                  ...                ...    ...  \n",
       "26              5610                 6450               5181  20391  \n",
       "27              4520                 5104               4069  15938  \n",
       "28               661                 1026                965   2835  \n",
       "29              2966                 3547               2924  10865  \n",
       "30              5597                 5894               4883  19101  \n",
       "\n",
       "[214 rows x 9 columns]"
      ]
     },
     "execution_count": 3,
     "metadata": {},
     "output_type": "execute_result"
    }
   ],
   "source": [
    "df = pd.concat([pd.read_excel(file, skiprows=[0,1,2,3], header= 1, nrows=nrow) for file, nrow in zip(files,nrows)]).drop(columns=['Unnamed: 0', 'Unnamed: 11','Day'])\n",
    "df.dtypes\n",
    "df.sort_values(by=['Date'])"
   ]
  },
  {
   "cell_type": "code",
   "execution_count": 4,
   "metadata": {},
   "outputs": [
    {
     "data": {
      "text/plain": [
       "Date                   datetime64[ns]\n",
       "High Temp (°F)                float64\n",
       "Low Temp (°F)                 float64\n",
       "Precipitation                  object\n",
       "Brooklyn Bridge                 int64\n",
       "Manhattan Bridge                int64\n",
       "Williamsburg Bridge             int64\n",
       "Queensboro Bridge               int64\n",
       "Total                           int64\n",
       "dtype: object"
      ]
     },
     "execution_count": 4,
     "metadata": {},
     "output_type": "execute_result"
    }
   ],
   "source": [
    "df.dtypes"
   ]
  },
  {
   "cell_type": "code",
   "execution_count": 5,
   "metadata": {},
   "outputs": [
    {
     "data": {
      "text/plain": [
       "Date                   datetime64[ns]\n",
       "High Temp (°F)                float64\n",
       "Low Temp (°F)                 float64\n",
       "Precipitation                  object\n",
       "Brooklyn Bridge                 int64\n",
       "Manhattan Bridge                int64\n",
       "Williamsburg Bridge             int64\n",
       "Queensboro Bridge               int64\n",
       "Total                           int64\n",
       "dtype: object"
      ]
     },
     "execution_count": 5,
     "metadata": {},
     "output_type": "execute_result"
    }
   ],
   "source": [
    "df['Date'] = df['Date'].astype('datetime64')\n",
    "df['High Temp (°F)'] = df['High Temp (°F)'].astype('float')\n",
    "df['Low Temp (°F)'] = df['Low Temp (°F)'].astype('float')\n",
    "cols = df.filter(like='Bridge').columns\n",
    "df[cols] = df[cols].astype('int64')\n",
    "df['Total'] = df['Total'].astype('int64')\n",
    "df.dtypes"
   ]
  },
  {
   "cell_type": "code",
   "execution_count": 6,
   "metadata": {},
   "outputs": [
    {
     "data": {
      "text/plain": [
       "True"
      ]
     },
     "execution_count": 6,
     "metadata": {},
     "output_type": "execute_result"
    }
   ],
   "source": [
    "(df.filter(like='Bridge').sum(axis=1) == df.Total).all()"
   ]
  },
  {
   "cell_type": "code",
   "execution_count": 7,
   "metadata": {},
   "outputs": [],
   "source": [
    "df['Precipitation'] = df.Precipitation.astype('str').str.replace('T|S', '0', regex=True).astype('float')"
   ]
  },
  {
   "cell_type": "code",
   "execution_count": 8,
   "metadata": {},
   "outputs": [
    {
     "data": {
      "text/plain": [
       "Date                   datetime64[ns]\n",
       "High Temp (°F)                float64\n",
       "Low Temp (°F)                 float64\n",
       "Precipitation                 float64\n",
       "Brooklyn Bridge                 int64\n",
       "Manhattan Bridge                int64\n",
       "Williamsburg Bridge             int64\n",
       "Queensboro Bridge               int64\n",
       "Total                           int64\n",
       "dtype: object"
      ]
     },
     "execution_count": 8,
     "metadata": {},
     "output_type": "execute_result"
    }
   ],
   "source": [
    "df.dtypes"
   ]
  },
  {
   "cell_type": "code",
   "execution_count": 9,
   "metadata": {},
   "outputs": [],
   "source": [
    "X = df.drop(columns = cols).drop(columns = ['Total'])\n",
    "y = df.Total"
   ]
  },
  {
   "cell_type": "code",
   "execution_count": 10,
   "metadata": {},
   "outputs": [],
   "source": [
    "X_train, X_test, y_train, y_test = train_test_split(X, y, test_size=0.2, random_state=42, shuffle=True)"
   ]
  },
  {
   "cell_type": "code",
   "execution_count": 11,
   "metadata": {},
   "outputs": [],
   "source": [
    "dtf = DatetimeFeatures(features_to_extract=['week', 'month',  'day_of_month', 'day_of_year'])\n",
    "# dtf.fit_transform(X_train).dtypes"
   ]
  },
  {
   "cell_type": "code",
   "execution_count": 12,
   "metadata": {},
   "outputs": [
    {
     "data": {
      "text/plain": [
       "3543.848884011572"
      ]
     },
     "execution_count": 12,
     "metadata": {},
     "output_type": "execute_result"
    }
   ],
   "source": [
    "pipe = Pipeline(steps=[\n",
    "    ('dtf', DatetimeFeatures(features_to_extract=['day_of_year', 'day_of_month', 'month', 'week'])),\n",
    "    ('model', TweedieRegressor(power=1, link = 'log', max_iter=10000))  # distribución del total es una distribución gamma (valor/evento). Mixed poisson y gamma. ]1,2[ mixed poisson y gamma. 1: Poisson, 2: Gamma\n",
    "])\n",
    "\n",
    "pipe.fit(X_train, y_train)\n",
    "y_pred = pipe.predict(X_test)\n",
    "\n",
    "mean_squared_error(y_test, y_pred, squared=False)"
   ]
  },
  {
   "cell_type": "code",
   "execution_count": 13,
   "metadata": {},
   "outputs": [
    {
     "data": {
      "text/plain": [
       "(18627.67757009346, 2374, 26969)"
      ]
     },
     "execution_count": 13,
     "metadata": {},
     "output_type": "execute_result"
    }
   ],
   "source": [
    "y.mean(), y.min(), y.max()"
   ]
  },
  {
   "cell_type": "code",
   "execution_count": 14,
   "metadata": {},
   "outputs": [
    {
     "data": {
      "text/plain": [
       "4001.1751994690817"
      ]
     },
     "execution_count": 14,
     "metadata": {},
     "output_type": "execute_result"
    }
   ],
   "source": [
    "pipe = Pipeline(steps=[\n",
    "    ('dtf', DatetimeFeatures(features_to_extract=[ 'day_of_year', 'day_of_month', 'month', 'week'])),\n",
    "    # distribución del total es una distribución gamma (valor/evento). Mixed poisson y gamma. ]1,2[ mixed poisson y gamma. 1: Poisson, 2: Gamma\n",
    "    ('model', LinearRegression())\n",
    "])\n",
    "\n",
    "pipe.fit(X_train, y_train)\n",
    "y_pred = pipe.predict(X_test)\n",
    "\n",
    "mean_squared_error(y_test, y_pred, squared=False)\n"
   ]
  },
  {
   "cell_type": "code",
   "execution_count": 15,
   "metadata": {},
   "outputs": [
    {
     "data": {
      "text/plain": [
       "3300.9925314906695"
      ]
     },
     "execution_count": 15,
     "metadata": {},
     "output_type": "execute_result"
    }
   ],
   "source": [
    "from sklearn.model_selection import cross_val_score\n",
    "pipe = Pipeline(steps=[\n",
    "    ('dtf', DatetimeFeatures(features_to_extract=[ 'day_of_year', 'day_of_month', 'month', 'week'])),\n",
    "    ('model', TweedieRegressor(power=1, link = 'log', max_iter=10000))\n",
    "])\n",
    "\n",
    "-cross_val_score(pipe, X_train, y_train, cv=5, scoring='neg_root_mean_squared_error').mean()"
   ]
  },
  {
   "cell_type": "code",
   "execution_count": 16,
   "metadata": {},
   "outputs": [
    {
     "data": {
      "text/plain": [
       "3798.22032976436"
      ]
     },
     "execution_count": 16,
     "metadata": {},
     "output_type": "execute_result"
    }
   ],
   "source": [
    "pipe = Pipeline(steps=[\n",
    "    ('dtf', DatetimeFeatures(features_to_extract=['day_of_year', 'day_of_month', 'month', 'week'])),\n",
    "    ('model', LinearRegression())\n",
    "])\n",
    "\n",
    "-cross_val_score(pipe, X_train, y_train, cv=5, scoring='neg_root_mean_squared_error').mean()\n"
   ]
  },
  {
   "cell_type": "code",
   "execution_count": null,
   "metadata": {},
   "outputs": [],
   "source": []
  }
 ],
 "metadata": {
  "kernelspec": {
   "display_name": "Python 3.10.4 ('dl')",
   "language": "python",
   "name": "python3"
  },
  "language_info": {
   "codemirror_mode": {
    "name": "ipython",
    "version": 3
   },
   "file_extension": ".py",
   "mimetype": "text/x-python",
   "name": "python",
   "nbconvert_exporter": "python",
   "pygments_lexer": "ipython3",
   "version": "3.10.4"
  },
  "orig_nbformat": 4,
  "vscode": {
   "interpreter": {
    "hash": "c9ccd8639d7ac6d8ae46f08631d02de0d1c9f4a08850208985333be71082afd9"
   }
  }
 },
 "nbformat": 4,
 "nbformat_minor": 2
}
