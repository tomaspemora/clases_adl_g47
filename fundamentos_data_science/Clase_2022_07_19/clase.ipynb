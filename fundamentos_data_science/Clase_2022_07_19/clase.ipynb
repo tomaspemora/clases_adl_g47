{
 "cells": [
  {
   "cell_type": "markdown",
   "metadata": {},
   "source": [
    "![clas](problemas_clas.png)"
   ]
  },
  {
   "cell_type": "code",
   "execution_count": 256,
   "metadata": {},
   "outputs": [],
   "source": [
    "import pandas as pd\n",
    "import numpy as np\n",
    "import matplotlib.pyplot as plt\n",
    "import seaborn as sns\n",
    "import scipy as sp\n",
    "import statsmodels as sm\n",
    "import sklearn as sk\n",
    "import statsmodels.api as sm"
   ]
  },
  {
   "cell_type": "code",
   "execution_count": 257,
   "metadata": {},
   "outputs": [
    {
     "data": {
      "text/plain": [
       "0    549\n",
       "1    342\n",
       "Name: Survived, dtype: int64"
      ]
     },
     "execution_count": 257,
     "metadata": {},
     "output_type": "execute_result"
    }
   ],
   "source": [
    "df = pd.read_csv('../Clase_2022_06_07/titanic.csv', index_col = 0)\n",
    "x = df[['Fare']]\n",
    "X = sm.add_constant(x)\n",
    "X\n",
    "y = df.Survived\n",
    "y.value_counts()"
   ]
  },
  {
   "cell_type": "code",
   "execution_count": 258,
   "metadata": {},
   "outputs": [
    {
     "data": {
      "text/html": [
       "<table class=\"simpletable\">\n",
       "<caption>OLS Regression Results</caption>\n",
       "<tr>\n",
       "  <th>Dep. Variable:</th>        <td>Survived</td>     <th>  R-squared:         </th> <td>   0.066</td>\n",
       "</tr>\n",
       "<tr>\n",
       "  <th>Model:</th>                   <td>OLS</td>       <th>  Adj. R-squared:    </th> <td>   0.065</td>\n",
       "</tr>\n",
       "<tr>\n",
       "  <th>Method:</th>             <td>Least Squares</td>  <th>  F-statistic:       </th> <td>   63.03</td>\n",
       "</tr>\n",
       "<tr>\n",
       "  <th>Date:</th>             <td>Tue, 19 Jul 2022</td> <th>  Prob (F-statistic):</th> <td>6.12e-15</td>\n",
       "</tr>\n",
       "<tr>\n",
       "  <th>Time:</th>                 <td>21:13:53</td>     <th>  Log-Likelihood:    </th> <td> -591.44</td>\n",
       "</tr>\n",
       "<tr>\n",
       "  <th>No. Observations:</th>      <td>   891</td>      <th>  AIC:               </th> <td>   1187.</td>\n",
       "</tr>\n",
       "<tr>\n",
       "  <th>Df Residuals:</th>          <td>   889</td>      <th>  BIC:               </th> <td>   1196.</td>\n",
       "</tr>\n",
       "<tr>\n",
       "  <th>Df Model:</th>              <td>     1</td>      <th>                     </th>     <td> </td>   \n",
       "</tr>\n",
       "<tr>\n",
       "  <th>Covariance Type:</th>      <td>nonrobust</td>    <th>                     </th>     <td> </td>   \n",
       "</tr>\n",
       "</table>\n",
       "<table class=\"simpletable\">\n",
       "<tr>\n",
       "    <td></td>       <th>coef</th>     <th>std err</th>      <th>t</th>      <th>P>|t|</th>  <th>[0.025</th>    <th>0.975]</th>  \n",
       "</tr>\n",
       "<tr>\n",
       "  <th>const</th> <td>    0.3027</td> <td>    0.019</td> <td>   16.114</td> <td> 0.000</td> <td>    0.266</td> <td>    0.340</td>\n",
       "</tr>\n",
       "<tr>\n",
       "  <th>Fare</th>  <td>    0.0025</td> <td>    0.000</td> <td>    7.939</td> <td> 0.000</td> <td>    0.002</td> <td>    0.003</td>\n",
       "</tr>\n",
       "</table>\n",
       "<table class=\"simpletable\">\n",
       "<tr>\n",
       "  <th>Omnibus:</th>       <td>5596.359</td> <th>  Durbin-Watson:     </th> <td>   1.966</td>\n",
       "</tr>\n",
       "<tr>\n",
       "  <th>Prob(Omnibus):</th>  <td> 0.000</td>  <th>  Jarque-Bera (JB):  </th> <td> 125.732</td>\n",
       "</tr>\n",
       "<tr>\n",
       "  <th>Skew:</th>           <td> 0.490</td>  <th>  Prob(JB):          </th> <td>4.98e-28</td>\n",
       "</tr>\n",
       "<tr>\n",
       "  <th>Kurtosis:</th>       <td> 1.443</td>  <th>  Cond. No.          </th> <td>    70.6</td>\n",
       "</tr>\n",
       "</table><br/><br/>Notes:<br/>[1] Standard Errors assume that the covariance matrix of the errors is correctly specified."
      ],
      "text/plain": [
       "<class 'statsmodels.iolib.summary.Summary'>\n",
       "\"\"\"\n",
       "                            OLS Regression Results                            \n",
       "==============================================================================\n",
       "Dep. Variable:               Survived   R-squared:                       0.066\n",
       "Model:                            OLS   Adj. R-squared:                  0.065\n",
       "Method:                 Least Squares   F-statistic:                     63.03\n",
       "Date:                Tue, 19 Jul 2022   Prob (F-statistic):           6.12e-15\n",
       "Time:                        21:13:53   Log-Likelihood:                -591.44\n",
       "No. Observations:                 891   AIC:                             1187.\n",
       "Df Residuals:                     889   BIC:                             1196.\n",
       "Df Model:                           1                                         \n",
       "Covariance Type:            nonrobust                                         \n",
       "==============================================================================\n",
       "                 coef    std err          t      P>|t|      [0.025      0.975]\n",
       "------------------------------------------------------------------------------\n",
       "const          0.3027      0.019     16.114      0.000       0.266       0.340\n",
       "Fare           0.0025      0.000      7.939      0.000       0.002       0.003\n",
       "==============================================================================\n",
       "Omnibus:                     5596.359   Durbin-Watson:                   1.966\n",
       "Prob(Omnibus):                  0.000   Jarque-Bera (JB):              125.732\n",
       "Skew:                           0.490   Prob(JB):                     4.98e-28\n",
       "Kurtosis:                       1.443   Cond. No.                         70.6\n",
       "==============================================================================\n",
       "\n",
       "Notes:\n",
       "[1] Standard Errors assume that the covariance matrix of the errors is correctly specified.\n",
       "\"\"\""
      ]
     },
     "execution_count": 258,
     "metadata": {},
     "output_type": "execute_result"
    }
   ],
   "source": [
    "sm.OLS(y, X).fit().summary()"
   ]
  },
  {
   "cell_type": "code",
   "execution_count": 259,
   "metadata": {},
   "outputs": [
    {
     "data": {
      "text/plain": [
       "<AxesSubplot:xlabel='Fare', ylabel='Survived'>"
      ]
     },
     "execution_count": 259,
     "metadata": {},
     "output_type": "execute_result"
    },
    {
     "data": {
      "image/png": "[encoded data removed]",
      "text/plain": [
       "<Figure size 432x288 with 1 Axes>"
      ]
     },
     "metadata": {
      "needs_background": "light"
     },
     "output_type": "display_data"
    }
   ],
   "source": [
    "sns.regplot(x = 'Fare', y = 'Survived', data = df)"
   ]
  },
  {
   "cell_type": "code",
   "execution_count": 260,
   "metadata": {},
   "outputs": [
    {
     "name": "stdout",
     "output_type": "stream",
     "text": [
      "Optimization terminated successfully.\n",
      "         Current function value: 0.627143\n",
      "         Iterations 6\n"
     ]
    },
    {
     "data": {
      "text/html": [
       "<table class=\"simpletable\">\n",
       "<caption>Logit Regression Results</caption>\n",
       "<tr>\n",
       "  <th>Dep. Variable:</th>       <td>Survived</td>     <th>  No. Observations:  </th>  <td>   891</td>  \n",
       "</tr>\n",
       "<tr>\n",
       "  <th>Model:</th>                 <td>Logit</td>      <th>  Df Residuals:      </th>  <td>   889</td>  \n",
       "</tr>\n",
       "<tr>\n",
       "  <th>Method:</th>                 <td>MLE</td>       <th>  Df Model:          </th>  <td>     1</td>  \n",
       "</tr>\n",
       "<tr>\n",
       "  <th>Date:</th>            <td>Tue, 19 Jul 2022</td> <th>  Pseudo R-squ.:     </th>  <td>0.05822</td> \n",
       "</tr>\n",
       "<tr>\n",
       "  <th>Time:</th>                <td>21:13:53</td>     <th>  Log-Likelihood:    </th> <td> -558.78</td> \n",
       "</tr>\n",
       "<tr>\n",
       "  <th>converged:</th>             <td>True</td>       <th>  LL-Null:           </th> <td> -593.33</td> \n",
       "</tr>\n",
       "<tr>\n",
       "  <th>Covariance Type:</th>     <td>nonrobust</td>    <th>  LLR p-value:       </th> <td>9.427e-17</td>\n",
       "</tr>\n",
       "</table>\n",
       "<table class=\"simpletable\">\n",
       "<tr>\n",
       "    <td></td>       <th>coef</th>     <th>std err</th>      <th>z</th>      <th>P>|z|</th>  <th>[0.025</th>    <th>0.975]</th>  \n",
       "</tr>\n",
       "<tr>\n",
       "  <th>const</th> <td>   -0.9413</td> <td>    0.095</td> <td>   -9.895</td> <td> 0.000</td> <td>   -1.128</td> <td>   -0.755</td>\n",
       "</tr>\n",
       "<tr>\n",
       "  <th>Fare</th>  <td>    0.0152</td> <td>    0.002</td> <td>    6.809</td> <td> 0.000</td> <td>    0.011</td> <td>    0.020</td>\n",
       "</tr>\n",
       "</table>"
      ],
      "text/plain": [
       "<class 'statsmodels.iolib.summary.Summary'>\n",
       "\"\"\"\n",
       "                           Logit Regression Results                           \n",
       "==============================================================================\n",
       "Dep. Variable:               Survived   No. Observations:                  891\n",
       "Model:                          Logit   Df Residuals:                      889\n",
       "Method:                           MLE   Df Model:                            1\n",
       "Date:                Tue, 19 Jul 2022   Pseudo R-squ.:                 0.05822\n",
       "Time:                        21:13:53   Log-Likelihood:                -558.78\n",
       "converged:                       True   LL-Null:                       -593.33\n",
       "Covariance Type:            nonrobust   LLR p-value:                 9.427e-17\n",
       "==============================================================================\n",
       "                 coef    std err          z      P>|z|      [0.025      0.975]\n",
       "------------------------------------------------------------------------------\n",
       "const         -0.9413      0.095     -9.895      0.000      -1.128      -0.755\n",
       "Fare           0.0152      0.002      6.809      0.000       0.011       0.020\n",
       "==============================================================================\n",
       "\"\"\""
      ]
     },
     "execution_count": 260,
     "metadata": {},
     "output_type": "execute_result"
    }
   ],
   "source": [
    "## Regresion logistica\n",
    "model = sm.Logit(y, X).fit()\n",
    "model.summary()\n",
    "## Cond Number, Log Reg casi no sufre de multicolinealidad..."
   ]
  },
  {
   "cell_type": "code",
   "execution_count": 261,
   "metadata": {},
   "outputs": [
    {
     "name": "stdout",
     "output_type": "stream",
     "text": [
      "1121.5692185134253\n",
      "1131.1539073683668\n"
     ]
    }
   ],
   "source": [
    "print(model.aic)\n",
    "print(model.bic)\n",
    "# Menor es mejor.... y el BIC penaliza por el número de predictores."
   ]
  },
  {
   "cell_type": "markdown",
   "metadata": {},
   "source": [
    "# Entonces como evaluamos el modelo?\n"
   ]
  },
  {
   "cell_type": "code",
   "execution_count": 262,
   "metadata": {},
   "outputs": [
    {
     "data": {
      "text/plain": [
       "<AxesSubplot:ylabel='Frequency'>"
      ]
     },
     "execution_count": 262,
     "metadata": {},
     "output_type": "execute_result"
    },
    {
     "data": {
      "image/png": "[encoded data removed]",
      "text/plain": [
       "<Figure size 432x288 with 1 Axes>"
      ]
     },
     "metadata": {
      "needs_background": "light"
     },
     "output_type": "display_data"
    }
   ],
   "source": [
    "## Cuantas veces le achunta el modelo?\n",
    "from sklearn.metrics import accuracy_score\n",
    "# 0 no le achunte a nada, 1 le achunte a todo\n",
    "y_pred = model.predict(X)  ## output... Probabilidad... \n",
    "y_pred.plot(kind = 'hist')"
   ]
  },
  {
   "cell_type": "code",
   "execution_count": 263,
   "metadata": {},
   "outputs": [
    {
     "data": {
      "text/plain": [
       "PassengerId\n",
       "1      False\n",
       "2       True\n",
       "3      False\n",
       "4      False\n",
       "5      False\n",
       "       ...  \n",
       "887    False\n",
       "888    False\n",
       "889    False\n",
       "890    False\n",
       "891    False\n",
       "Length: 891, dtype: bool"
      ]
     },
     "execution_count": 263,
     "metadata": {},
     "output_type": "execute_result"
    }
   ],
   "source": [
    "y_pred = y_pred > 0.5\n",
    "accuracy_score(y, y_pred)\n",
    "y_pred"
   ]
  },
  {
   "cell_type": "markdown",
   "metadata": {},
   "source": [
    "## Modelo más potente"
   ]
  },
  {
   "cell_type": "code",
   "execution_count": 264,
   "metadata": {},
   "outputs": [
    {
     "name": "stdout",
     "output_type": "stream",
     "text": [
      "Optimization terminated successfully.\n",
      "         Current function value: 0.490007\n",
      "         Iterations 26\n"
     ]
    },
    {
     "data": {
      "text/html": [
       "<table class=\"simpletable\">\n",
       "<caption>Logit Regression Results</caption>\n",
       "<tr>\n",
       "  <th>Dep. Variable:</th>       <td>Survived</td>     <th>  No. Observations:  </th>  <td>   891</td>  \n",
       "</tr>\n",
       "<tr>\n",
       "  <th>Model:</th>                 <td>Logit</td>      <th>  Df Residuals:      </th>  <td>   885</td>  \n",
       "</tr>\n",
       "<tr>\n",
       "  <th>Method:</th>                 <td>MLE</td>       <th>  Df Model:          </th>  <td>     5</td>  \n",
       "</tr>\n",
       "<tr>\n",
       "  <th>Date:</th>            <td>Tue, 19 Jul 2022</td> <th>  Pseudo R-squ.:     </th>  <td>0.2642</td>  \n",
       "</tr>\n",
       "<tr>\n",
       "  <th>Time:</th>                <td>21:13:54</td>     <th>  Log-Likelihood:    </th> <td> -436.60</td> \n",
       "</tr>\n",
       "<tr>\n",
       "  <th>converged:</th>             <td>True</td>       <th>  LL-Null:           </th> <td> -593.33</td> \n",
       "</tr>\n",
       "<tr>\n",
       "  <th>Covariance Type:</th>     <td>nonrobust</td>    <th>  LLR p-value:       </th> <td>1.275e-65</td>\n",
       "</tr>\n",
       "</table>\n",
       "<table class=\"simpletable\">\n",
       "<tr>\n",
       "       <td></td>         <th>coef</th>     <th>std err</th>      <th>z</th>      <th>P>|z|</th>  <th>[0.025</th>    <th>0.975]</th>  \n",
       "</tr>\n",
       "<tr>\n",
       "  <th>const</th>      <td>   -0.0670</td> <td>      nan</td> <td>      nan</td> <td>   nan</td> <td>      nan</td> <td>      nan</td>\n",
       "</tr>\n",
       "<tr>\n",
       "  <th>Age</th>        <td>   -0.1295</td> <td>    0.086</td> <td>   -1.508</td> <td> 0.132</td> <td>   -0.298</td> <td>    0.039</td>\n",
       "</tr>\n",
       "<tr>\n",
       "  <th>Fare</th>       <td>    0.5053</td> <td>    0.117</td> <td>    4.304</td> <td> 0.000</td> <td>    0.275</td> <td>    0.735</td>\n",
       "</tr>\n",
       "<tr>\n",
       "  <th>Sex_male</th>   <td>   -1.2439</td> <td> 6.15e+06</td> <td>-2.02e-07</td> <td> 1.000</td> <td>-1.21e+07</td> <td> 1.21e+07</td>\n",
       "</tr>\n",
       "<tr>\n",
       "  <th>Sex_female</th> <td>    1.1769</td> <td> 6.17e+06</td> <td> 1.91e-07</td> <td> 1.000</td> <td>-1.21e+07</td> <td> 1.21e+07</td>\n",
       "</tr>\n",
       "<tr>\n",
       "  <th>Embarked_S</th> <td>   -0.2304</td> <td> 3.98e+06</td> <td>-5.79e-08</td> <td> 1.000</td> <td>-7.79e+06</td> <td> 7.79e+06</td>\n",
       "</tr>\n",
       "<tr>\n",
       "  <th>Embarked_C</th> <td>    0.4201</td> <td> 3.98e+06</td> <td> 1.06e-07</td> <td> 1.000</td> <td>-7.79e+06</td> <td> 7.79e+06</td>\n",
       "</tr>\n",
       "<tr>\n",
       "  <th>Embarked_Q</th> <td>   -0.2567</td> <td> 3.98e+06</td> <td>-6.45e-08</td> <td> 1.000</td> <td>-7.79e+06</td> <td> 7.79e+06</td>\n",
       "</tr>\n",
       "</table>"
      ],
      "text/plain": [
       "<class 'statsmodels.iolib.summary.Summary'>\n",
       "\"\"\"\n",
       "                           Logit Regression Results                           \n",
       "==============================================================================\n",
       "Dep. Variable:               Survived   No. Observations:                  891\n",
       "Model:                          Logit   Df Residuals:                      885\n",
       "Method:                           MLE   Df Model:                            5\n",
       "Date:                Tue, 19 Jul 2022   Pseudo R-squ.:                  0.2642\n",
       "Time:                        21:13:54   Log-Likelihood:                -436.60\n",
       "converged:                       True   LL-Null:                       -593.33\n",
       "Covariance Type:            nonrobust   LLR p-value:                 1.275e-65\n",
       "==============================================================================\n",
       "                 coef    std err          z      P>|z|      [0.025      0.975]\n",
       "------------------------------------------------------------------------------\n",
       "const         -0.0670        nan        nan        nan         nan         nan\n",
       "Age           -0.1295      0.086     -1.508      0.132      -0.298       0.039\n",
       "Fare           0.5053      0.117      4.304      0.000       0.275       0.735\n",
       "Sex_male      -1.2439   6.15e+06  -2.02e-07      1.000   -1.21e+07    1.21e+07\n",
       "Sex_female     1.1769   6.17e+06   1.91e-07      1.000   -1.21e+07    1.21e+07\n",
       "Embarked_S    -0.2304   3.98e+06  -5.79e-08      1.000   -7.79e+06    7.79e+06\n",
       "Embarked_C     0.4201   3.98e+06   1.06e-07      1.000   -7.79e+06    7.79e+06\n",
       "Embarked_Q    -0.2567   3.98e+06  -6.45e-08      1.000   -7.79e+06    7.79e+06\n",
       "==============================================================================\n",
       "\"\"\""
      ]
     },
     "execution_count": 264,
     "metadata": {},
     "output_type": "execute_result"
    }
   ],
   "source": [
    "from feature_engine.encoding import OneHotEncoder\n",
    "from sklearn.preprocessing import StandardScaler\n",
    "from feature_engine.wrappers import SklearnTransformerWrapper\n",
    "from feature_engine.imputation import CategoricalImputer, MeanMedianImputer\n",
    "\n",
    "X = df[['Sex', 'Age', 'Fare', 'Embarked']]\n",
    "y = df.Survived\n",
    "ci = CategoricalImputer(imputation_method = 'frequent') # moda\n",
    "#ci = CategoricalImputer(imputation_method = 'missing')\n",
    "mmi = MeanMedianImputer(imputation_method= 'median')\n",
    "#mmi = MeanMedianImputer(imputation_method= 'mean')\n",
    "ohe = OneHotEncoder()\n",
    "sc = SklearnTransformerWrapper(StandardScaler(), variables = ['Age', 'Fare']) # Solo a numericas\n",
    "\n",
    "# Preprocesamiento\n",
    "X_ci = ci.fit_transform(X)\n",
    "X_mmi = mmi.fit_transform(X_ci)\n",
    "X_ohe = ohe.fit_transform(X_mmi)\n",
    "X_sc = sc.fit_transform(X_ohe)\n",
    "X_final = sm.add_constant(X_sc)\n",
    "\n",
    "model = sm.Logit(y, X_final).fit()\n",
    "model.summary()"
   ]
  },
  {
   "cell_type": "code",
   "execution_count": 265,
   "metadata": {},
   "outputs": [
    {
     "data": {
      "text/plain": [
       "0.7811447811447811"
      ]
     },
     "execution_count": 265,
     "metadata": {},
     "output_type": "execute_result"
    }
   ],
   "source": [
    "y_pred = model.predict(X_final)\n",
    "accuracy_score(y, y_pred>0.5)"
   ]
  },
  {
   "cell_type": "code",
   "execution_count": 266,
   "metadata": {},
   "outputs": [
    {
     "name": "stdout",
     "output_type": "stream",
     "text": [
      "885.1923540327414\n",
      "913.9464205975662\n"
     ]
    }
   ],
   "source": [
    "print(model.aic)\n",
    "print(model.bic)"
   ]
  },
  {
   "cell_type": "code",
   "execution_count": 267,
   "metadata": {},
   "outputs": [
    {
     "data": {
      "text/html": [
       "<div>\n",
       "<style scoped>\n",
       "    .dataframe tbody tr th:only-of-type {\n",
       "        vertical-align: middle;\n",
       "    }\n",
       "\n",
       "    .dataframe tbody tr th {\n",
       "        vertical-align: top;\n",
       "    }\n",
       "\n",
       "    .dataframe thead th {\n",
       "        text-align: right;\n",
       "    }\n",
       "</style>\n",
       "<table border=\"1\" class=\"dataframe\">\n",
       "  <thead>\n",
       "    <tr style=\"text-align: right;\">\n",
       "      <th></th>\n",
       "      <th>prob</th>\n",
       "      <th>Odds</th>\n",
       "      <th>Survived</th>\n",
       "    </tr>\n",
       "    <tr>\n",
       "      <th>PassengerId</th>\n",
       "      <th></th>\n",
       "      <th></th>\n",
       "      <th></th>\n",
       "    </tr>\n",
       "  </thead>\n",
       "  <tbody>\n",
       "    <tr>\n",
       "      <th>1</th>\n",
       "      <td>0.151622</td>\n",
       "      <td>1.163720</td>\n",
       "      <td>0</td>\n",
       "    </tr>\n",
       "    <tr>\n",
       "      <th>2</th>\n",
       "      <td>0.863133</td>\n",
       "      <td>2.370575</td>\n",
       "      <td>1</td>\n",
       "    </tr>\n",
       "    <tr>\n",
       "      <th>3</th>\n",
       "      <td>0.660602</td>\n",
       "      <td>1.935957</td>\n",
       "      <td>1</td>\n",
       "    </tr>\n",
       "    <tr>\n",
       "      <th>4</th>\n",
       "      <td>0.738074</td>\n",
       "      <td>2.091902</td>\n",
       "      <td>1</td>\n",
       "    </tr>\n",
       "    <tr>\n",
       "      <th>5</th>\n",
       "      <td>0.136676</td>\n",
       "      <td>1.146456</td>\n",
       "      <td>0</td>\n",
       "    </tr>\n",
       "    <tr>\n",
       "      <th>...</th>\n",
       "      <td>...</td>\n",
       "      <td>...</td>\n",
       "      <td>...</td>\n",
       "    </tr>\n",
       "    <tr>\n",
       "      <th>887</th>\n",
       "      <td>0.152749</td>\n",
       "      <td>1.165033</td>\n",
       "      <td>0</td>\n",
       "    </tr>\n",
       "    <tr>\n",
       "      <th>888</th>\n",
       "      <td>0.723166</td>\n",
       "      <td>2.060947</td>\n",
       "      <td>1</td>\n",
       "    </tr>\n",
       "    <tr>\n",
       "      <th>889</th>\n",
       "      <td>0.690832</td>\n",
       "      <td>1.995375</td>\n",
       "      <td>0</td>\n",
       "    </tr>\n",
       "    <tr>\n",
       "      <th>890</th>\n",
       "      <td>0.293208</td>\n",
       "      <td>1.340722</td>\n",
       "      <td>1</td>\n",
       "    </tr>\n",
       "    <tr>\n",
       "      <th>891</th>\n",
       "      <td>0.136740</td>\n",
       "      <td>1.146529</td>\n",
       "      <td>0</td>\n",
       "    </tr>\n",
       "  </tbody>\n",
       "</table>\n",
       "<p>891 rows × 3 columns</p>\n",
       "</div>"
      ],
      "text/plain": [
       "                 prob      Odds  Survived\n",
       "PassengerId                              \n",
       "1            0.151622  1.163720         0\n",
       "2            0.863133  2.370575         1\n",
       "3            0.660602  1.935957         1\n",
       "4            0.738074  2.091902         1\n",
       "5            0.136676  1.146456         0\n",
       "...               ...       ...       ...\n",
       "887          0.152749  1.165033         0\n",
       "888          0.723166  2.060947         1\n",
       "889          0.690832  1.995375         0\n",
       "890          0.293208  1.340722         1\n",
       "891          0.136740  1.146529         0\n",
       "\n",
       "[891 rows x 3 columns]"
      ]
     },
     "execution_count": 267,
     "metadata": {},
     "output_type": "execute_result"
    }
   ],
   "source": [
    "df['prob'] = y_pred\n",
    "df['Odds'] = np.exp(y_pred)\n",
    "df[['prob', 'Odds', 'Survived']]"
   ]
  },
  {
   "cell_type": "code",
   "execution_count": 268,
   "metadata": {},
   "outputs": [
    {
     "data": {
      "text/plain": [
       "0.6655443322109988"
      ]
     },
     "execution_count": 268,
     "metadata": {},
     "output_type": "execute_result"
    }
   ],
   "source": [
    "from sklearn.linear_model import LogisticRegression\n",
    "\n",
    "X = df[['Fare']]\n",
    "y = df.Survived\n",
    "\n",
    "## no se añade la constante acá, scikit lo tiene por defecto...add()\n",
    "\n",
    "lr = LogisticRegression(random_state = 42) # Equivalente a sm.Logit...\n",
    "lr.fit(X, y)\n",
    "y_pred = lr.predict(X)\n",
    "accuracy_score(y,y_pred)"
   ]
  },
  {
   "cell_type": "code",
   "execution_count": 269,
   "metadata": {},
   "outputs": [
    {
     "data": {
      "text/plain": [
       "(array([[0.01519666]]), array([-0.94131796]))"
      ]
     },
     "execution_count": 269,
     "metadata": {},
     "output_type": "execute_result"
    }
   ],
   "source": [
    "lr.coef_, lr.intercept_"
   ]
  },
  {
   "cell_type": "code",
   "execution_count": 270,
   "metadata": {},
   "outputs": [],
   "source": [
    "from sklearn.model_selection import train_test_split\n",
    "from sklearn.pipeline import Pipeline\n",
    "from sklearn import set_config\n",
    "set_config(display = 'diagram')\n",
    "\n",
    "X = df[['Sex','Age','Fare','Embarked']]\n",
    "y = df.Survived\n",
    "\n",
    "X_train, X_test, y_train, y_test = train_test_split(X, y , test_size = .2, random_state = 42)"
   ]
  },
  {
   "cell_type": "code",
   "execution_count": 271,
   "metadata": {},
   "outputs": [
    {
     "name": "stdout",
     "output_type": "stream",
     "text": [
      "Accuracy calculado en Train Data: 0.7823033707865169\n",
      "Accuracy calculado en Test Data: 0.776536312849162\n",
      "Indicador de overfitting 0.00576705793735488\n"
     ]
    }
   ],
   "source": [
    "pipe = Pipeline(steps = [\n",
    "    ('ci', CategoricalImputer(imputation_method = 'frequent')),\n",
    "    ('mmi', MeanMedianImputer(imputation_method = 'median')),\n",
    "    ('ohe', OneHotEncoder()),\n",
    "    ('sc', SklearnTransformerWrapper(StandardScaler(), variables = ['Age', 'Fare'])),\n",
    "    ('lr', lr)\n",
    "])\n",
    "\n",
    "pipe.fit(X_train, y_train)\n",
    "\n",
    "y_pred = pipe.predict(X_test)\n",
    "y_pred_train = pipe.predict(X_train)\n",
    "\n",
    "print(f'Accuracy calculado en Train Data: {accuracy_score(y_train, y_pred_train)}')\n",
    "print(f'Accuracy calculado en Test Data: {accuracy_score(y_test, y_pred)}')\n",
    "print(f'Indicador de overfitting {accuracy_score(y_train, y_pred_train) - accuracy_score(y_test, y_pred) }')"
   ]
  },
  {
   "cell_type": "markdown",
   "metadata": {},
   "source": [
    "![msg](msg.png)"
   ]
  },
  {
   "cell_type": "markdown",
   "metadata": {},
   "source": [
    "# Probar nuestro modelo"
   ]
  },
  {
   "cell_type": "markdown",
   "metadata": {},
   "source": [
    "![jack](jack.png)\n",
    "![rose](rose.png)\n",
    "![rose](titanic.png)"
   ]
  },
  {
   "cell_type": "code",
   "execution_count": 272,
   "metadata": {},
   "outputs": [
    {
     "data": {
      "text/plain": [
       "array([0, 1], dtype=int64)"
      ]
     },
     "execution_count": 272,
     "metadata": {},
     "output_type": "execute_result"
    }
   ],
   "source": [
    "data1 = pd.DataFrame(dict(Sex = ['male','female'], Age = [22,17], Fare = [0, 250], Embarked = ['S','S']))\n",
    "\n",
    "pipe.predict(data1)"
   ]
  },
  {
   "cell_type": "code",
   "execution_count": 273,
   "metadata": {},
   "outputs": [
    {
     "name": "stdout",
     "output_type": "stream",
     "text": [
      "  (0, 0)\t22.0\n",
      "  (0, 1)\t7.25\n",
      "  (0, 2)\t1.0\n",
      "  (0, 4)\t1.0\n",
      "  (1, 0)\t38.0\n",
      "  (1, 1)\t71.2833\n",
      "  (1, 3)\t1.0\n",
      "  (1, 5)\t1.0\n",
      "  (2, 0)\t26.0\n",
      "  (2, 1)\t7.925\n",
      "  (2, 3)\t1.0\n",
      "  (2, 4)\t1.0\n",
      "  (3, 0)\t35.0\n",
      "  (3, 1)\t53.1\n",
      "  (3, 3)\t1.0\n",
      "  (3, 4)\t1.0\n",
      "  (4, 0)\t35.0\n",
      "  (4, 1)\t8.05\n",
      "  (4, 2)\t1.0\n",
      "  (4, 4)\t1.0\n",
      "  (5, 0)\t28.0\n",
      "  (5, 1)\t8.4583\n",
      "  (5, 2)\t1.0\n",
      "  (5, 6)\t1.0\n",
      "  (6, 0)\t54.0\n",
      "  :\t:\n",
      "  (884, 4)\t1.0\n",
      "  (885, 0)\t39.0\n",
      "  (885, 1)\t29.125\n",
      "  (885, 3)\t1.0\n",
      "  (885, 6)\t1.0\n",
      "  (886, 0)\t27.0\n",
      "  (886, 1)\t13.0\n",
      "  (886, 2)\t1.0\n",
      "  (886, 4)\t1.0\n",
      "  (887, 0)\t19.0\n",
      "  (887, 1)\t30.0\n",
      "  (887, 3)\t1.0\n",
      "  (887, 4)\t1.0\n",
      "  (888, 0)\t28.0\n",
      "  (888, 1)\t23.45\n",
      "  (888, 3)\t1.0\n",
      "  (888, 4)\t1.0\n",
      "  (889, 0)\t26.0\n",
      "  (889, 1)\t30.0\n",
      "  (889, 2)\t1.0\n",
      "  (889, 5)\t1.0\n",
      "  (890, 0)\t32.0\n",
      "  (890, 1)\t7.75\n",
      "  (890, 2)\t1.0\n",
      "  (890, 6)\t1.0\n"
     ]
    }
   ],
   "source": [
    "from scipy.sparse import csr_matrix\n",
    "matriz = csr_matrix(X_ohe)\n",
    "print(matriz)"
   ]
  },
  {
   "cell_type": "code",
   "execution_count": null,
   "metadata": {},
   "outputs": [],
   "source": []
  }
 ],
 "metadata": {
  "kernelspec": {
   "display_name": "Python 3.10.4 ('dl')",
   "language": "python",
   "name": "python3"
  },
  "language_info": {
   "codemirror_mode": {
    "name": "ipython",
    "version": 3
   },
   "file_extension": ".py",
   "mimetype": "text/x-python",
   "name": "python",
   "nbconvert_exporter": "python",
   "pygments_lexer": "ipython3",
   "version": "3.10.4"
  },
  "orig_nbformat": 4,
  "vscode": {
   "interpreter": {
    "hash": "c9ccd8639d7ac6d8ae46f08631d02de0d1c9f4a08850208985333be71082afd9"
   }
  }
 },
 "nbformat": 4,
 "nbformat_minor": 2
}
