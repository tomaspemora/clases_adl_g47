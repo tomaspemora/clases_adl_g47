{
 "cells": [
  {
   "cell_type": "code",
   "execution_count": 100,
   "metadata": {},
   "outputs": [],
   "source": [
    "import pandas as pd\n",
    "import numpy as np\n",
    "import matplotlib.pyplot as plt\n",
    "import seaborn as sns\n",
    "import scipy as sp\n",
    "import statsmodels as sm\n",
    "import sklearn as sk\n",
    "from sklearn.model_selection import train_test_split, KFold, LeaveOneOut, cross_val_score\n",
    "from sklearn.pipeline import Pipeline\n",
    "from sklearn.linear_model import LinearRegression, LogisticRegression\n",
    "from sklearn.metrics import mean_squared_error\n",
    "from feature_engine.encoding import OneHotEncoder, OrdinalEncoder\n",
    "from feature_engine.imputation import CategoricalImputer, MeanMedianImputer\n",
    "from feature_engine.wrappers import SklearnTransformerWrapper\n",
    "from sklearn.preprocessing import StandardScaler, PolynomialFeatures\n",
    "\n",
    "from sklearn import set_config\n",
    "set_config(display='diagram')\n"
   ]
  },
  {
   "cell_type": "code",
   "execution_count": 101,
   "metadata": {},
   "outputs": [
    {
     "data": {
      "text/html": [
       "<div>\n",
       "<style scoped>\n",
       "    .dataframe tbody tr th:only-of-type {\n",
       "        vertical-align: middle;\n",
       "    }\n",
       "\n",
       "    .dataframe tbody tr th {\n",
       "        vertical-align: top;\n",
       "    }\n",
       "\n",
       "    .dataframe thead th {\n",
       "        text-align: right;\n",
       "    }\n",
       "</style>\n",
       "<table border=\"1\" class=\"dataframe\">\n",
       "  <thead>\n",
       "    <tr style=\"text-align: right;\">\n",
       "      <th></th>\n",
       "      <th>0</th>\n",
       "      <th>1</th>\n",
       "      <th>2</th>\n",
       "      <th>3</th>\n",
       "    </tr>\n",
       "  </thead>\n",
       "  <tbody>\n",
       "    <tr>\n",
       "      <th>0</th>\n",
       "      <td>-0.938669</td>\n",
       "      <td>-0.817312</td>\n",
       "      <td>0.110687</td>\n",
       "      <td>-0.652692</td>\n",
       "    </tr>\n",
       "    <tr>\n",
       "      <th>1</th>\n",
       "      <td>0.669932</td>\n",
       "      <td>-0.255465</td>\n",
       "      <td>-1.861435</td>\n",
       "      <td>0.048010</td>\n",
       "    </tr>\n",
       "    <tr>\n",
       "      <th>2</th>\n",
       "      <td>0.314635</td>\n",
       "      <td>-0.581389</td>\n",
       "      <td>0.856725</td>\n",
       "      <td>-0.967931</td>\n",
       "    </tr>\n",
       "    <tr>\n",
       "      <th>3</th>\n",
       "      <td>1.515974</td>\n",
       "      <td>0.480953</td>\n",
       "      <td>-1.705045</td>\n",
       "      <td>0.013319</td>\n",
       "    </tr>\n",
       "    <tr>\n",
       "      <th>4</th>\n",
       "      <td>-0.996548</td>\n",
       "      <td>0.350242</td>\n",
       "      <td>-0.607316</td>\n",
       "      <td>1.239806</td>\n",
       "    </tr>\n",
       "    <tr>\n",
       "      <th>5</th>\n",
       "      <td>1.540909</td>\n",
       "      <td>1.262496</td>\n",
       "      <td>-0.411315</td>\n",
       "      <td>0.889306</td>\n",
       "    </tr>\n",
       "    <tr>\n",
       "      <th>6</th>\n",
       "      <td>-0.051422</td>\n",
       "      <td>-0.166656</td>\n",
       "      <td>-0.188734</td>\n",
       "      <td>0.069960</td>\n",
       "    </tr>\n",
       "    <tr>\n",
       "      <th>7</th>\n",
       "      <td>0.728771</td>\n",
       "      <td>-0.206037</td>\n",
       "      <td>0.703645</td>\n",
       "      <td>-1.290878</td>\n",
       "    </tr>\n",
       "  </tbody>\n",
       "</table>\n",
       "</div>"
      ],
      "text/plain": [
       "          0         1         2         3\n",
       "0 -0.938669 -0.817312  0.110687 -0.652692\n",
       "1  0.669932 -0.255465 -1.861435  0.048010\n",
       "2  0.314635 -0.581389  0.856725 -0.967931\n",
       "3  1.515974  0.480953 -1.705045  0.013319\n",
       "4 -0.996548  0.350242 -0.607316  1.239806\n",
       "5  1.540909  1.262496 -0.411315  0.889306\n",
       "6 -0.051422 -0.166656 -0.188734  0.069960\n",
       "7  0.728771 -0.206037  0.703645 -1.290878"
      ]
     },
     "execution_count": 101,
     "metadata": {},
     "output_type": "execute_result"
    }
   ],
   "source": [
    "dummy_data = pd.DataFrame(np.random.randn(8,4))\n",
    "dummy_data"
   ]
  },
  {
   "cell_type": "code",
   "execution_count": 102,
   "metadata": {},
   "outputs": [
    {
     "data": {
      "text/plain": [
       "((6, 4), (2, 4))"
      ]
     },
     "execution_count": 102,
     "metadata": {},
     "output_type": "execute_result"
    }
   ],
   "source": [
    "# Holdout: Proceso inestable porque puede variar... eso no es bueno. Dependiendo del split, podemos tener resultados distintos.\n",
    "\n",
    "X_train, X_val = train_test_split(dummy_data, test_size=0.2, random_state=42)\n",
    "X_train.shape, X_val.shape"
   ]
  },
  {
   "cell_type": "code",
   "execution_count": 103,
   "metadata": {},
   "outputs": [
    {
     "data": {
      "text/html": [
       "<div>\n",
       "<style scoped>\n",
       "    .dataframe tbody tr th:only-of-type {\n",
       "        vertical-align: middle;\n",
       "    }\n",
       "\n",
       "    .dataframe tbody tr th {\n",
       "        vertical-align: top;\n",
       "    }\n",
       "\n",
       "    .dataframe thead th {\n",
       "        text-align: right;\n",
       "    }\n",
       "</style>\n",
       "<table border=\"1\" class=\"dataframe\">\n",
       "  <thead>\n",
       "    <tr style=\"text-align: right;\">\n",
       "      <th></th>\n",
       "      <th>0</th>\n",
       "      <th>1</th>\n",
       "      <th>2</th>\n",
       "      <th>3</th>\n",
       "    </tr>\n",
       "  </thead>\n",
       "  <tbody>\n",
       "    <tr>\n",
       "      <th>0</th>\n",
       "      <td>-0.938669</td>\n",
       "      <td>-0.817312</td>\n",
       "      <td>0.110687</td>\n",
       "      <td>-0.652692</td>\n",
       "    </tr>\n",
       "    <tr>\n",
       "      <th>7</th>\n",
       "      <td>0.728771</td>\n",
       "      <td>-0.206037</td>\n",
       "      <td>0.703645</td>\n",
       "      <td>-1.290878</td>\n",
       "    </tr>\n",
       "    <tr>\n",
       "      <th>2</th>\n",
       "      <td>0.314635</td>\n",
       "      <td>-0.581389</td>\n",
       "      <td>0.856725</td>\n",
       "      <td>-0.967931</td>\n",
       "    </tr>\n",
       "    <tr>\n",
       "      <th>4</th>\n",
       "      <td>-0.996548</td>\n",
       "      <td>0.350242</td>\n",
       "      <td>-0.607316</td>\n",
       "      <td>1.239806</td>\n",
       "    </tr>\n",
       "    <tr>\n",
       "      <th>3</th>\n",
       "      <td>1.515974</td>\n",
       "      <td>0.480953</td>\n",
       "      <td>-1.705045</td>\n",
       "      <td>0.013319</td>\n",
       "    </tr>\n",
       "    <tr>\n",
       "      <th>6</th>\n",
       "      <td>-0.051422</td>\n",
       "      <td>-0.166656</td>\n",
       "      <td>-0.188734</td>\n",
       "      <td>0.069960</td>\n",
       "    </tr>\n",
       "  </tbody>\n",
       "</table>\n",
       "</div>"
      ],
      "text/plain": [
       "          0         1         2         3\n",
       "0 -0.938669 -0.817312  0.110687 -0.652692\n",
       "7  0.728771 -0.206037  0.703645 -1.290878\n",
       "2  0.314635 -0.581389  0.856725 -0.967931\n",
       "4 -0.996548  0.350242 -0.607316  1.239806\n",
       "3  1.515974  0.480953 -1.705045  0.013319\n",
       "6 -0.051422 -0.166656 -0.188734  0.069960"
      ]
     },
     "execution_count": 103,
     "metadata": {},
     "output_type": "execute_result"
    }
   ],
   "source": [
    "X_train"
   ]
  },
  {
   "cell_type": "code",
   "execution_count": 104,
   "metadata": {},
   "outputs": [
    {
     "data": {
      "text/html": [
       "<div>\n",
       "<style scoped>\n",
       "    .dataframe tbody tr th:only-of-type {\n",
       "        vertical-align: middle;\n",
       "    }\n",
       "\n",
       "    .dataframe tbody tr th {\n",
       "        vertical-align: top;\n",
       "    }\n",
       "\n",
       "    .dataframe thead th {\n",
       "        text-align: right;\n",
       "    }\n",
       "</style>\n",
       "<table border=\"1\" class=\"dataframe\">\n",
       "  <thead>\n",
       "    <tr style=\"text-align: right;\">\n",
       "      <th></th>\n",
       "      <th>0</th>\n",
       "      <th>1</th>\n",
       "      <th>2</th>\n",
       "      <th>3</th>\n",
       "    </tr>\n",
       "  </thead>\n",
       "  <tbody>\n",
       "    <tr>\n",
       "      <th>1</th>\n",
       "      <td>0.669932</td>\n",
       "      <td>-0.255465</td>\n",
       "      <td>-1.861435</td>\n",
       "      <td>0.048010</td>\n",
       "    </tr>\n",
       "    <tr>\n",
       "      <th>5</th>\n",
       "      <td>1.540909</td>\n",
       "      <td>1.262496</td>\n",
       "      <td>-0.411315</td>\n",
       "      <td>0.889306</td>\n",
       "    </tr>\n",
       "  </tbody>\n",
       "</table>\n",
       "</div>"
      ],
      "text/plain": [
       "          0         1         2         3\n",
       "1  0.669932 -0.255465 -1.861435  0.048010\n",
       "5  1.540909  1.262496 -0.411315  0.889306"
      ]
     },
     "execution_count": 104,
     "metadata": {},
     "output_type": "execute_result"
    }
   ],
   "source": [
    "X_val"
   ]
  },
  {
   "cell_type": "markdown",
   "metadata": {},
   "source": [
    "> Quien me asegura que este split funciona?"
   ]
  },
  {
   "cell_type": "markdown",
   "metadata": {},
   "source": [
    "> El holdout es muy útil cuando tengo muuuuuuuuuuuuucha data..."
   ]
  },
  {
   "cell_type": "markdown",
   "metadata": {},
   "source": [
    "## KFold"
   ]
  },
  {
   "cell_type": "code",
   "execution_count": 105,
   "metadata": {},
   "outputs": [
    {
     "name": "stdout",
     "output_type": "stream",
     "text": [
      "Validation fold: 1\n",
      "\n",
      "Data Entrenamiento:           0         1         2         3\n",
      "2  0.314635 -0.581389  0.856725 -0.967931\n",
      "3  1.515974  0.480953 -1.705045  0.013319\n",
      "4 -0.996548  0.350242 -0.607316  1.239806\n",
      "5  1.540909  1.262496 -0.411315  0.889306\n",
      "6 -0.051422 -0.166656 -0.188734  0.069960\n",
      "7  0.728771 -0.206037  0.703645 -1.290878\n",
      "\n",
      "Data Validación:           0         1         2         3\n",
      "0 -0.938669 -0.817312  0.110687 -0.652692\n",
      "1  0.669932 -0.255465 -1.861435  0.048010\n",
      "\n",
      "\n",
      "Validation fold: 2\n",
      "\n",
      "Data Entrenamiento:           0         1         2         3\n",
      "0 -0.938669 -0.817312  0.110687 -0.652692\n",
      "1  0.669932 -0.255465 -1.861435  0.048010\n",
      "4 -0.996548  0.350242 -0.607316  1.239806\n",
      "5  1.540909  1.262496 -0.411315  0.889306\n",
      "6 -0.051422 -0.166656 -0.188734  0.069960\n",
      "7  0.728771 -0.206037  0.703645 -1.290878\n",
      "\n",
      "Data Validación:           0         1         2         3\n",
      "2  0.314635 -0.581389  0.856725 -0.967931\n",
      "3  1.515974  0.480953 -1.705045  0.013319\n",
      "\n",
      "\n",
      "Validation fold: 3\n",
      "\n",
      "Data Entrenamiento:           0         1         2         3\n",
      "0 -0.938669 -0.817312  0.110687 -0.652692\n",
      "1  0.669932 -0.255465 -1.861435  0.048010\n",
      "2  0.314635 -0.581389  0.856725 -0.967931\n",
      "3  1.515974  0.480953 -1.705045  0.013319\n",
      "6 -0.051422 -0.166656 -0.188734  0.069960\n",
      "7  0.728771 -0.206037  0.703645 -1.290878\n",
      "\n",
      "Data Validación:           0         1         2         3\n",
      "4 -0.996548  0.350242 -0.607316  1.239806\n",
      "5  1.540909  1.262496 -0.411315  0.889306\n",
      "\n",
      "\n",
      "Validation fold: 4\n",
      "\n",
      "Data Entrenamiento:           0         1         2         3\n",
      "0 -0.938669 -0.817312  0.110687 -0.652692\n",
      "1  0.669932 -0.255465 -1.861435  0.048010\n",
      "2  0.314635 -0.581389  0.856725 -0.967931\n",
      "3  1.515974  0.480953 -1.705045  0.013319\n",
      "4 -0.996548  0.350242 -0.607316  1.239806\n",
      "5  1.540909  1.262496 -0.411315  0.889306\n",
      "\n",
      "Data Validación:           0         1         2         3\n",
      "6 -0.051422 -0.166656 -0.188734  0.069960\n",
      "7  0.728771 -0.206037  0.703645 -1.290878\n",
      "\n",
      "\n"
     ]
    }
   ],
   "source": [
    "kf = KFold(n_splits=4) # lo que hace es darme los índices de entrenamiento y validación... Proceso estándar.\n",
    "for fold, (train_idx, val_idx) in enumerate(kf.split(dummy_data), start= 1):\n",
    "    print(f'Validation fold: {fold}')\n",
    "    print()\n",
    "    print(f'Data Entrenamiento: {dummy_data.iloc[train_idx]}')\n",
    "    print()\n",
    "    print(f'Data Validación: {dummy_data.iloc[val_idx]}')\n",
    "    print('\\n')\n",
    "    \n",
    "# cross_val_score...\n"
   ]
  },
  {
   "cell_type": "code",
   "execution_count": 106,
   "metadata": {},
   "outputs": [
    {
     "name": "stdout",
     "output_type": "stream",
     "text": [
      "Validation fold: 1\n",
      "\n",
      "Data Entrenamiento:           0         1         2         3\n",
      "1  0.669932 -0.255465 -1.861435  0.048010\n",
      "2  0.314635 -0.581389  0.856725 -0.967931\n",
      "3  1.515974  0.480953 -1.705045  0.013319\n",
      "4 -0.996548  0.350242 -0.607316  1.239806\n",
      "5  1.540909  1.262496 -0.411315  0.889306\n",
      "6 -0.051422 -0.166656 -0.188734  0.069960\n",
      "7  0.728771 -0.206037  0.703645 -1.290878\n",
      "\n",
      "Data Validación:           0         1         2         3\n",
      "0 -0.938669 -0.817312  0.110687 -0.652692\n",
      "\n",
      "\n",
      "Validation fold: 2\n",
      "\n",
      "Data Entrenamiento:           0         1         2         3\n",
      "0 -0.938669 -0.817312  0.110687 -0.652692\n",
      "2  0.314635 -0.581389  0.856725 -0.967931\n",
      "3  1.515974  0.480953 -1.705045  0.013319\n",
      "4 -0.996548  0.350242 -0.607316  1.239806\n",
      "5  1.540909  1.262496 -0.411315  0.889306\n",
      "6 -0.051422 -0.166656 -0.188734  0.069960\n",
      "7  0.728771 -0.206037  0.703645 -1.290878\n",
      "\n",
      "Data Validación:           0         1         2        3\n",
      "1  0.669932 -0.255465 -1.861435  0.04801\n",
      "\n",
      "\n",
      "Validation fold: 3\n",
      "\n",
      "Data Entrenamiento:           0         1         2         3\n",
      "0 -0.938669 -0.817312  0.110687 -0.652692\n",
      "1  0.669932 -0.255465 -1.861435  0.048010\n",
      "3  1.515974  0.480953 -1.705045  0.013319\n",
      "4 -0.996548  0.350242 -0.607316  1.239806\n",
      "5  1.540909  1.262496 -0.411315  0.889306\n",
      "6 -0.051422 -0.166656 -0.188734  0.069960\n",
      "7  0.728771 -0.206037  0.703645 -1.290878\n",
      "\n",
      "Data Validación:           0         1         2         3\n",
      "2  0.314635 -0.581389  0.856725 -0.967931\n",
      "\n",
      "\n",
      "Validation fold: 4\n",
      "\n",
      "Data Entrenamiento:           0         1         2         3\n",
      "0 -0.938669 -0.817312  0.110687 -0.652692\n",
      "1  0.669932 -0.255465 -1.861435  0.048010\n",
      "2  0.314635 -0.581389  0.856725 -0.967931\n",
      "4 -0.996548  0.350242 -0.607316  1.239806\n",
      "5  1.540909  1.262496 -0.411315  0.889306\n",
      "6 -0.051422 -0.166656 -0.188734  0.069960\n",
      "7  0.728771 -0.206037  0.703645 -1.290878\n",
      "\n",
      "Data Validación:           0         1         2         3\n",
      "3  1.515974  0.480953 -1.705045  0.013319\n",
      "\n",
      "\n",
      "Validation fold: 5\n",
      "\n",
      "Data Entrenamiento:           0         1         2         3\n",
      "0 -0.938669 -0.817312  0.110687 -0.652692\n",
      "1  0.669932 -0.255465 -1.861435  0.048010\n",
      "2  0.314635 -0.581389  0.856725 -0.967931\n",
      "3  1.515974  0.480953 -1.705045  0.013319\n",
      "5  1.540909  1.262496 -0.411315  0.889306\n",
      "6 -0.051422 -0.166656 -0.188734  0.069960\n",
      "7  0.728771 -0.206037  0.703645 -1.290878\n",
      "\n",
      "Data Validación:           0         1         2         3\n",
      "4 -0.996548  0.350242 -0.607316  1.239806\n",
      "\n",
      "\n",
      "Validation fold: 6\n",
      "\n",
      "Data Entrenamiento:           0         1         2         3\n",
      "0 -0.938669 -0.817312  0.110687 -0.652692\n",
      "1  0.669932 -0.255465 -1.861435  0.048010\n",
      "2  0.314635 -0.581389  0.856725 -0.967931\n",
      "3  1.515974  0.480953 -1.705045  0.013319\n",
      "4 -0.996548  0.350242 -0.607316  1.239806\n",
      "6 -0.051422 -0.166656 -0.188734  0.069960\n",
      "7  0.728771 -0.206037  0.703645 -1.290878\n",
      "\n",
      "Data Validación:           0         1         2         3\n",
      "5  1.540909  1.262496 -0.411315  0.889306\n",
      "\n",
      "\n",
      "Validation fold: 7\n",
      "\n",
      "Data Entrenamiento:           0         1         2         3\n",
      "0 -0.938669 -0.817312  0.110687 -0.652692\n",
      "1  0.669932 -0.255465 -1.861435  0.048010\n",
      "2  0.314635 -0.581389  0.856725 -0.967931\n",
      "3  1.515974  0.480953 -1.705045  0.013319\n",
      "4 -0.996548  0.350242 -0.607316  1.239806\n",
      "5  1.540909  1.262496 -0.411315  0.889306\n",
      "7  0.728771 -0.206037  0.703645 -1.290878\n",
      "\n",
      "Data Validación:           0         1         2        3\n",
      "6 -0.051422 -0.166656 -0.188734  0.06996\n",
      "\n",
      "\n",
      "Validation fold: 8\n",
      "\n",
      "Data Entrenamiento:           0         1         2         3\n",
      "0 -0.938669 -0.817312  0.110687 -0.652692\n",
      "1  0.669932 -0.255465 -1.861435  0.048010\n",
      "2  0.314635 -0.581389  0.856725 -0.967931\n",
      "3  1.515974  0.480953 -1.705045  0.013319\n",
      "4 -0.996548  0.350242 -0.607316  1.239806\n",
      "5  1.540909  1.262496 -0.411315  0.889306\n",
      "6 -0.051422 -0.166656 -0.188734  0.069960\n",
      "\n",
      "Data Validación:           0         1         2         3\n",
      "7  0.728771 -0.206037  0.703645 -1.290878\n",
      "\n",
      "\n"
     ]
    }
   ],
   "source": [
    "loo = LeaveOneOut() #se utiliza para base de 300 filas máximo.\n",
    "for fold, (train_idx, val_idx) in enumerate(loo.split(dummy_data), start= 1):\n",
    "    print(f'Validation fold: {fold}')\n",
    "    print()\n",
    "    print(f'Data Entrenamiento: {dummy_data.iloc[train_idx]}')\n",
    "    print()\n",
    "    print(f'Data Validación: {dummy_data.iloc[val_idx]}')\n",
    "    print('\\n')\n",
    "        \n",
    "# cross_val_score..."
   ]
  },
  {
   "cell_type": "code",
   "execution_count": 107,
   "metadata": {},
   "outputs": [
    {
     "name": "stdout",
     "output_type": "stream",
     "text": [
      "RMSE Entrenamiento: 2.0556595451475492\n",
      "RMSE Validación: 3.182790390174519\n"
     ]
    }
   ],
   "source": [
    "def houldout_train(random_state = 42):\n",
    "    df = pd.read_csv('../Clase_2022_07_07/mtcars.csv', index_col = 0)\n",
    "\n",
    "    y = df.mpg \n",
    "    X = df.drop(columns = 'mpg')\n",
    "\n",
    "    X_train, X_val, y_train, y_val = train_test_split(X,y, test_size=0.2, random_state=random_state)\n",
    "\n",
    "    lr = LinearRegression()\n",
    "    lr.fit(X_train, y_train)\n",
    "\n",
    "    y_pred_train = lr.predict(X_train)\n",
    "    y_pred = lr.predict(X_val)\n",
    "\n",
    "    print(f'RMSE Entrenamiento: {mean_squared_error(y_train, y_pred_train, squared=False)}')\n",
    "    print(f'RMSE Validación: {mean_squared_error(y_val, y_pred, squared=False)}')\n",
    "\n",
    "houldout_train()"
   ]
  },
  {
   "cell_type": "code",
   "execution_count": 108,
   "metadata": {},
   "outputs": [
    {
     "name": "stdout",
     "output_type": "stream",
     "text": [
      "RMSE Entrenamiento: 1.9652043190055988\n",
      "RMSE Validación: 3.728928472065335\n"
     ]
    }
   ],
   "source": [
    "houldout_train(24)"
   ]
  },
  {
   "cell_type": "code",
   "execution_count": 109,
   "metadata": {},
   "outputs": [
    {
     "name": "stdout",
     "output_type": "stream",
     "text": [
      "RMSE Entrenamiento: 1.9150043704276754\n",
      "RMSE Validación: 5.220103196276678\n"
     ]
    }
   ],
   "source": [
    "houldout_train(78)"
   ]
  },
  {
   "cell_type": "markdown",
   "metadata": {},
   "source": [
    "## KFold:"
   ]
  },
  {
   "cell_type": "code",
   "execution_count": 110,
   "metadata": {},
   "outputs": [
    {
     "data": {
      "text/plain": [
       "16.17083679057401"
      ]
     },
     "execution_count": 110,
     "metadata": {},
     "output_type": "execute_result"
    }
   ],
   "source": [
    "df = pd.read_csv('../Clase_2022_07_07/mtcars.csv', index_col=0)\n",
    "X = df.drop(columns = 'mpg')\n",
    "y = df.mpg\n",
    "\n",
    "lr = LinearRegression()\n",
    "cvs = -cross_val_score(lr, X, y, cv=5, scoring='neg_mean_squared_error')\n",
    "cvs.mean()"
   ]
  },
  {
   "cell_type": "markdown",
   "metadata": {},
   "source": [
    "![sc1](sc1.png)\n",
    "![sc2](sc2.png)"
   ]
  },
  {
   "cell_type": "markdown",
   "metadata": {},
   "source": [
    "# LOO"
   ]
  },
  {
   "cell_type": "code",
   "execution_count": 111,
   "metadata": {},
   "outputs": [
    {
     "data": {
      "text/plain": [
       "12.181558006901954"
      ]
     },
     "execution_count": 111,
     "metadata": {},
     "output_type": "execute_result"
    }
   ],
   "source": [
    "df = pd.read_csv('../Clase_2022_07_07/mtcars.csv', index_col=0)\n",
    "X = df.drop(columns='mpg')\n",
    "y = df.mpg\n",
    "\n",
    "lr = LinearRegression()\n",
    "cvs = -cross_val_score(lr, X, y, cv=LeaveOneOut(), scoring='neg_mean_squared_error')\n",
    "cvs.mean()\n"
   ]
  },
  {
   "cell_type": "markdown",
   "metadata": {},
   "source": [
    "Los modelos son iguales!!! El metodo de validación se elige y se deja así hasta el final."
   ]
  },
  {
   "cell_type": "code",
   "execution_count": 112,
   "metadata": {},
   "outputs": [
    {
     "data": {
      "text/html": [
       "<div>\n",
       "<style scoped>\n",
       "    .dataframe tbody tr th:only-of-type {\n",
       "        vertical-align: middle;\n",
       "    }\n",
       "\n",
       "    .dataframe tbody tr th {\n",
       "        vertical-align: top;\n",
       "    }\n",
       "\n",
       "    .dataframe thead th {\n",
       "        text-align: right;\n",
       "    }\n",
       "</style>\n",
       "<table border=\"1\" class=\"dataframe\">\n",
       "  <thead>\n",
       "    <tr style=\"text-align: right;\">\n",
       "      <th></th>\n",
       "      <th>hp</th>\n",
       "      <th>am</th>\n",
       "      <th>hp</th>\n",
       "      <th>am</th>\n",
       "      <th>hp am</th>\n",
       "    </tr>\n",
       "  </thead>\n",
       "  <tbody>\n",
       "    <tr>\n",
       "      <th>Mazda RX4</th>\n",
       "      <td>110</td>\n",
       "      <td>1</td>\n",
       "      <td>110.0</td>\n",
       "      <td>1.0</td>\n",
       "      <td>110.0</td>\n",
       "    </tr>\n",
       "    <tr>\n",
       "      <th>Mazda RX4 Wag</th>\n",
       "      <td>110</td>\n",
       "      <td>1</td>\n",
       "      <td>110.0</td>\n",
       "      <td>1.0</td>\n",
       "      <td>110.0</td>\n",
       "    </tr>\n",
       "    <tr>\n",
       "      <th>Datsun 710</th>\n",
       "      <td>93</td>\n",
       "      <td>1</td>\n",
       "      <td>93.0</td>\n",
       "      <td>1.0</td>\n",
       "      <td>93.0</td>\n",
       "    </tr>\n",
       "    <tr>\n",
       "      <th>Hornet 4 Drive</th>\n",
       "      <td>110</td>\n",
       "      <td>0</td>\n",
       "      <td>110.0</td>\n",
       "      <td>0.0</td>\n",
       "      <td>0.0</td>\n",
       "    </tr>\n",
       "    <tr>\n",
       "      <th>Hornet Sportabout</th>\n",
       "      <td>175</td>\n",
       "      <td>0</td>\n",
       "      <td>175.0</td>\n",
       "      <td>0.0</td>\n",
       "      <td>0.0</td>\n",
       "    </tr>\n",
       "    <tr>\n",
       "      <th>Valiant</th>\n",
       "      <td>105</td>\n",
       "      <td>0</td>\n",
       "      <td>105.0</td>\n",
       "      <td>0.0</td>\n",
       "      <td>0.0</td>\n",
       "    </tr>\n",
       "    <tr>\n",
       "      <th>Duster 360</th>\n",
       "      <td>245</td>\n",
       "      <td>0</td>\n",
       "      <td>245.0</td>\n",
       "      <td>0.0</td>\n",
       "      <td>0.0</td>\n",
       "    </tr>\n",
       "    <tr>\n",
       "      <th>Merc 240D</th>\n",
       "      <td>62</td>\n",
       "      <td>0</td>\n",
       "      <td>62.0</td>\n",
       "      <td>0.0</td>\n",
       "      <td>0.0</td>\n",
       "    </tr>\n",
       "    <tr>\n",
       "      <th>Merc 230</th>\n",
       "      <td>95</td>\n",
       "      <td>0</td>\n",
       "      <td>95.0</td>\n",
       "      <td>0.0</td>\n",
       "      <td>0.0</td>\n",
       "    </tr>\n",
       "    <tr>\n",
       "      <th>Merc 280</th>\n",
       "      <td>123</td>\n",
       "      <td>0</td>\n",
       "      <td>123.0</td>\n",
       "      <td>0.0</td>\n",
       "      <td>0.0</td>\n",
       "    </tr>\n",
       "    <tr>\n",
       "      <th>Merc 280C</th>\n",
       "      <td>123</td>\n",
       "      <td>0</td>\n",
       "      <td>123.0</td>\n",
       "      <td>0.0</td>\n",
       "      <td>0.0</td>\n",
       "    </tr>\n",
       "    <tr>\n",
       "      <th>Merc 450SE</th>\n",
       "      <td>180</td>\n",
       "      <td>0</td>\n",
       "      <td>180.0</td>\n",
       "      <td>0.0</td>\n",
       "      <td>0.0</td>\n",
       "    </tr>\n",
       "    <tr>\n",
       "      <th>Merc 450SL</th>\n",
       "      <td>180</td>\n",
       "      <td>0</td>\n",
       "      <td>180.0</td>\n",
       "      <td>0.0</td>\n",
       "      <td>0.0</td>\n",
       "    </tr>\n",
       "    <tr>\n",
       "      <th>Merc 450SLC</th>\n",
       "      <td>180</td>\n",
       "      <td>0</td>\n",
       "      <td>180.0</td>\n",
       "      <td>0.0</td>\n",
       "      <td>0.0</td>\n",
       "    </tr>\n",
       "    <tr>\n",
       "      <th>Cadillac Fleetwood</th>\n",
       "      <td>205</td>\n",
       "      <td>0</td>\n",
       "      <td>205.0</td>\n",
       "      <td>0.0</td>\n",
       "      <td>0.0</td>\n",
       "    </tr>\n",
       "    <tr>\n",
       "      <th>Lincoln Continental</th>\n",
       "      <td>215</td>\n",
       "      <td>0</td>\n",
       "      <td>215.0</td>\n",
       "      <td>0.0</td>\n",
       "      <td>0.0</td>\n",
       "    </tr>\n",
       "    <tr>\n",
       "      <th>Chrysler Imperial</th>\n",
       "      <td>230</td>\n",
       "      <td>0</td>\n",
       "      <td>230.0</td>\n",
       "      <td>0.0</td>\n",
       "      <td>0.0</td>\n",
       "    </tr>\n",
       "    <tr>\n",
       "      <th>Fiat 128</th>\n",
       "      <td>66</td>\n",
       "      <td>1</td>\n",
       "      <td>66.0</td>\n",
       "      <td>1.0</td>\n",
       "      <td>66.0</td>\n",
       "    </tr>\n",
       "    <tr>\n",
       "      <th>Honda Civic</th>\n",
       "      <td>52</td>\n",
       "      <td>1</td>\n",
       "      <td>52.0</td>\n",
       "      <td>1.0</td>\n",
       "      <td>52.0</td>\n",
       "    </tr>\n",
       "    <tr>\n",
       "      <th>Toyota Corolla</th>\n",
       "      <td>65</td>\n",
       "      <td>1</td>\n",
       "      <td>65.0</td>\n",
       "      <td>1.0</td>\n",
       "      <td>65.0</td>\n",
       "    </tr>\n",
       "    <tr>\n",
       "      <th>Toyota Corona</th>\n",
       "      <td>97</td>\n",
       "      <td>0</td>\n",
       "      <td>97.0</td>\n",
       "      <td>0.0</td>\n",
       "      <td>0.0</td>\n",
       "    </tr>\n",
       "    <tr>\n",
       "      <th>Dodge Challenger</th>\n",
       "      <td>150</td>\n",
       "      <td>0</td>\n",
       "      <td>150.0</td>\n",
       "      <td>0.0</td>\n",
       "      <td>0.0</td>\n",
       "    </tr>\n",
       "    <tr>\n",
       "      <th>AMC Javelin</th>\n",
       "      <td>150</td>\n",
       "      <td>0</td>\n",
       "      <td>150.0</td>\n",
       "      <td>0.0</td>\n",
       "      <td>0.0</td>\n",
       "    </tr>\n",
       "    <tr>\n",
       "      <th>Camaro Z28</th>\n",
       "      <td>245</td>\n",
       "      <td>0</td>\n",
       "      <td>245.0</td>\n",
       "      <td>0.0</td>\n",
       "      <td>0.0</td>\n",
       "    </tr>\n",
       "    <tr>\n",
       "      <th>Pontiac Firebird</th>\n",
       "      <td>175</td>\n",
       "      <td>0</td>\n",
       "      <td>175.0</td>\n",
       "      <td>0.0</td>\n",
       "      <td>0.0</td>\n",
       "    </tr>\n",
       "    <tr>\n",
       "      <th>Fiat X1-9</th>\n",
       "      <td>66</td>\n",
       "      <td>1</td>\n",
       "      <td>66.0</td>\n",
       "      <td>1.0</td>\n",
       "      <td>66.0</td>\n",
       "    </tr>\n",
       "    <tr>\n",
       "      <th>Porsche 914-2</th>\n",
       "      <td>91</td>\n",
       "      <td>1</td>\n",
       "      <td>91.0</td>\n",
       "      <td>1.0</td>\n",
       "      <td>91.0</td>\n",
       "    </tr>\n",
       "    <tr>\n",
       "      <th>Lotus Europa</th>\n",
       "      <td>113</td>\n",
       "      <td>1</td>\n",
       "      <td>113.0</td>\n",
       "      <td>1.0</td>\n",
       "      <td>113.0</td>\n",
       "    </tr>\n",
       "    <tr>\n",
       "      <th>Ford Pantera L</th>\n",
       "      <td>264</td>\n",
       "      <td>1</td>\n",
       "      <td>264.0</td>\n",
       "      <td>1.0</td>\n",
       "      <td>264.0</td>\n",
       "    </tr>\n",
       "    <tr>\n",
       "      <th>Ferrari Dino</th>\n",
       "      <td>175</td>\n",
       "      <td>1</td>\n",
       "      <td>175.0</td>\n",
       "      <td>1.0</td>\n",
       "      <td>175.0</td>\n",
       "    </tr>\n",
       "    <tr>\n",
       "      <th>Maserati Bora</th>\n",
       "      <td>335</td>\n",
       "      <td>1</td>\n",
       "      <td>335.0</td>\n",
       "      <td>1.0</td>\n",
       "      <td>335.0</td>\n",
       "    </tr>\n",
       "    <tr>\n",
       "      <th>Volvo 142E</th>\n",
       "      <td>109</td>\n",
       "      <td>1</td>\n",
       "      <td>109.0</td>\n",
       "      <td>1.0</td>\n",
       "      <td>109.0</td>\n",
       "    </tr>\n",
       "  </tbody>\n",
       "</table>\n",
       "</div>"
      ],
      "text/plain": [
       "                      hp  am     hp   am  hp am\n",
       "Mazda RX4            110   1  110.0  1.0  110.0\n",
       "Mazda RX4 Wag        110   1  110.0  1.0  110.0\n",
       "Datsun 710            93   1   93.0  1.0   93.0\n",
       "Hornet 4 Drive       110   0  110.0  0.0    0.0\n",
       "Hornet Sportabout    175   0  175.0  0.0    0.0\n",
       "Valiant              105   0  105.0  0.0    0.0\n",
       "Duster 360           245   0  245.0  0.0    0.0\n",
       "Merc 240D             62   0   62.0  0.0    0.0\n",
       "Merc 230              95   0   95.0  0.0    0.0\n",
       "Merc 280             123   0  123.0  0.0    0.0\n",
       "Merc 280C            123   0  123.0  0.0    0.0\n",
       "Merc 450SE           180   0  180.0  0.0    0.0\n",
       "Merc 450SL           180   0  180.0  0.0    0.0\n",
       "Merc 450SLC          180   0  180.0  0.0    0.0\n",
       "Cadillac Fleetwood   205   0  205.0  0.0    0.0\n",
       "Lincoln Continental  215   0  215.0  0.0    0.0\n",
       "Chrysler Imperial    230   0  230.0  0.0    0.0\n",
       "Fiat 128              66   1   66.0  1.0   66.0\n",
       "Honda Civic           52   1   52.0  1.0   52.0\n",
       "Toyota Corolla        65   1   65.0  1.0   65.0\n",
       "Toyota Corona         97   0   97.0  0.0    0.0\n",
       "Dodge Challenger     150   0  150.0  0.0    0.0\n",
       "AMC Javelin          150   0  150.0  0.0    0.0\n",
       "Camaro Z28           245   0  245.0  0.0    0.0\n",
       "Pontiac Firebird     175   0  175.0  0.0    0.0\n",
       "Fiat X1-9             66   1   66.0  1.0   66.0\n",
       "Porsche 914-2         91   1   91.0  1.0   91.0\n",
       "Lotus Europa         113   1  113.0  1.0  113.0\n",
       "Ford Pantera L       264   1  264.0  1.0  264.0\n",
       "Ferrari Dino         175   1  175.0  1.0  175.0\n",
       "Maserati Bora        335   1  335.0  1.0  335.0\n",
       "Volvo 142E           109   1  109.0  1.0  109.0"
      ]
     },
     "execution_count": 112,
     "metadata": {},
     "output_type": "execute_result"
    }
   ],
   "source": [
    "# Mejoremos el modelo\n",
    "\n",
    "pl = SklearnTransformerWrapper(PolynomialFeatures(degree=2, interaction_only = True, include_bias = False)) # Una manera de combinar variables más rapido.\n",
    "pl.fit_transform(df[['hp','am']])"
   ]
  },
  {
   "cell_type": "code",
   "execution_count": 113,
   "metadata": {},
   "outputs": [
    {
     "data": {
      "text/plain": [
       "531.1480210884931"
      ]
     },
     "execution_count": 113,
     "metadata": {},
     "output_type": "execute_result"
    }
   ],
   "source": [
    "\n",
    "pipe = Pipeline(steps = [\n",
    "    ('poly', PolynomialFeatures(degree=2, interaction_only=True, include_bias=False)),\n",
    "    ('sc', StandardScaler()),\n",
    "    ('lr', LinearRegression())])\n",
    "\n",
    "(-cross_val_score(pipe, X, y, cv=LeaveOneOut(), scoring='neg_mean_squared_error')).mean()"
   ]
  },
  {
   "cell_type": "code",
   "execution_count": 114,
   "metadata": {},
   "outputs": [
    {
     "data": {
      "text/plain": [
       "635.459420766536"
      ]
     },
     "execution_count": 114,
     "metadata": {},
     "output_type": "execute_result"
    }
   ],
   "source": [
    "pipe = Pipeline(steps = [\n",
    "    ('poly', PolynomialFeatures(degree=2, interaction_only=False, include_bias=False)),\n",
    "    ('sc', StandardScaler()),\n",
    "    ('lr', LinearRegression())])\n",
    "\n",
    "(-cross_val_score(pipe, X, y, cv=LeaveOneOut(), scoring='neg_mean_squared_error')).mean()"
   ]
  },
  {
   "cell_type": "markdown",
   "metadata": {},
   "source": [
    "# Titanic "
   ]
  },
  {
   "cell_type": "code",
   "execution_count": 115,
   "metadata": {},
   "outputs": [
    {
     "data": {
      "text/plain": [
       "Pclass        int64\n",
       "Sex          object\n",
       "Age         float64\n",
       "Fare        float64\n",
       "Embarked     object\n",
       "dtype: object"
      ]
     },
     "execution_count": 115,
     "metadata": {},
     "output_type": "execute_result"
    }
   ],
   "source": [
    "df = pd.read_csv('../Clase_2022_06_07/titanic.csv')\n",
    "\n",
    "X = df[['Pclass','Sex','Age','Fare','Embarked']]\n",
    "y = df.Survived\n",
    "\n",
    "X.dtypes"
   ]
  },
  {
   "cell_type": "code",
   "execution_count": 116,
   "metadata": {},
   "outputs": [
    {
     "data": {
      "text/html": [
       "<style>#sk-container-id-22 {color: black;background-color: white;}#sk-container-id-22 pre{padding: 0;}#sk-container-id-22 div.sk-toggleable {background-color: white;}#sk-container-id-22 label.sk-toggleable__label {cursor: pointer;display: block;width: 100%;margin-bottom: 0;padding: 0.3em;box-sizing: border-box;text-align: center;}#sk-container-id-22 label.sk-toggleable__label-arrow:before {content: \"▸\";float: left;margin-right: 0.25em;color: #696969;}#sk-container-id-22 label.sk-toggleable__label-arrow:hover:before {color: black;}#sk-container-id-22 div.sk-estimator:hover label.sk-toggleable__label-arrow:before {color: black;}#sk-container-id-22 div.sk-toggleable__content {max-height: 0;max-width: 0;overflow: hidden;text-align: left;background-color: #f0f8ff;}#sk-container-id-22 div.sk-toggleable__content pre {margin: 0.2em;color: black;border-radius: 0.25em;background-color: #f0f8ff;}#sk-container-id-22 input.sk-toggleable__control:checked~div.sk-toggleable__content {max-height: 200px;max-width: 100%;overflow: auto;}#sk-container-id-22 input.sk-toggleable__control:checked~label.sk-toggleable__label-arrow:before {content: \"▾\";}#sk-container-id-22 div.sk-estimator input.sk-toggleable__control:checked~label.sk-toggleable__label {background-color: #d4ebff;}#sk-container-id-22 div.sk-label input.sk-toggleable__control:checked~label.sk-toggleable__label {background-color: #d4ebff;}#sk-container-id-22 input.sk-hidden--visually {border: 0;clip: rect(1px 1px 1px 1px);clip: rect(1px, 1px, 1px, 1px);height: 1px;margin: -1px;overflow: hidden;padding: 0;position: absolute;width: 1px;}#sk-container-id-22 div.sk-estimator {font-family: monospace;background-color: #f0f8ff;border: 1px dotted black;border-radius: 0.25em;box-sizing: border-box;margin-bottom: 0.5em;}#sk-container-id-22 div.sk-estimator:hover {background-color: #d4ebff;}#sk-container-id-22 div.sk-parallel-item::after {content: \"\";width: 100%;border-bottom: 1px solid gray;flex-grow: 1;}#sk-container-id-22 div.sk-label:hover label.sk-toggleable__label {background-color: #d4ebff;}#sk-container-id-22 div.sk-serial::before {content: \"\";position: absolute;border-left: 1px solid gray;box-sizing: border-box;top: 0;bottom: 0;left: 50%;z-index: 0;}#sk-container-id-22 div.sk-serial {display: flex;flex-direction: column;align-items: center;background-color: white;padding-right: 0.2em;padding-left: 0.2em;position: relative;}#sk-container-id-22 div.sk-item {position: relative;z-index: 1;}#sk-container-id-22 div.sk-parallel {display: flex;align-items: stretch;justify-content: center;background-color: white;position: relative;}#sk-container-id-22 div.sk-item::before, #sk-container-id-22 div.sk-parallel-item::before {content: \"\";position: absolute;border-left: 1px solid gray;box-sizing: border-box;top: 0;bottom: 0;left: 50%;z-index: -1;}#sk-container-id-22 div.sk-parallel-item {display: flex;flex-direction: column;z-index: 1;position: relative;background-color: white;}#sk-container-id-22 div.sk-parallel-item:first-child::after {align-self: flex-end;width: 50%;}#sk-container-id-22 div.sk-parallel-item:last-child::after {align-self: flex-start;width: 50%;}#sk-container-id-22 div.sk-parallel-item:only-child::after {width: 0;}#sk-container-id-22 div.sk-dashed-wrapped {border: 1px dashed gray;margin: 0 0.4em 0.5em 0.4em;box-sizing: border-box;padding-bottom: 0.4em;background-color: white;}#sk-container-id-22 div.sk-label label {font-family: monospace;font-weight: bold;display: inline-block;line-height: 1.2em;}#sk-container-id-22 div.sk-label-container {text-align: center;}#sk-container-id-22 div.sk-container {/* jupyter's `normalize.less` sets `[hidden] { display: none; }` but bootstrap.min.css set `[hidden] { display: none !important; }` so we also need the `!important` here to be able to override the default hidden behavior on the sphinx rendered scikit-learn.org. See: https://github.com/scikit-learn/scikit-learn/issues/21755 */display: inline-block !important;position: relative;}#sk-container-id-22 div.sk-text-repr-fallback {display: none;}</style><div id=\"sk-container-id-22\" class=\"sk-top-container\"><div class=\"sk-text-repr-fallback\"><pre>Pipeline(steps=[(&#x27;ci&#x27;, CategoricalImputer(imputation_method=&#x27;frequent&#x27;)),\n",
       "                (&#x27;mmi&#x27;, MeanMedianImputer(imputation_method=&#x27;mean&#x27;)),\n",
       "                (&#x27;ohe&#x27;, OrdinalEncoder()),\n",
       "                (&#x27;pl&#x27;,\n",
       "                 SklearnTransformerWrapper(transformer=PolynomialFeatures(include_bias=False,\n",
       "                                                                          interaction_only=True),\n",
       "                                           variables=[&#x27;Pclass&#x27;, &#x27;Sex&#x27;])),\n",
       "                (&#x27;sc&#x27;,\n",
       "                 SklearnTransformerWrapper(transformer=StandardScaler(),\n",
       "                                           variables=[&#x27;Age&#x27;, &#x27;Fare&#x27;])),\n",
       "                (&#x27;lr&#x27;, LogisticRegression(random_state=42))])</pre><b>In a Jupyter environment, please rerun this cell to show the HTML representation or trust the notebook. <br />On GitHub, the HTML representation is unable to render, please try loading this page with nbviewer.org.</b></div><div class=\"sk-container\" hidden><div class=\"sk-item sk-dashed-wrapped\"><div class=\"sk-label-container\"><div class=\"sk-label sk-toggleable\"><input class=\"sk-toggleable__control sk-hidden--visually\" id=\"sk-estimator-id-202\" type=\"checkbox\" ><label for=\"sk-estimator-id-202\" class=\"sk-toggleable__label sk-toggleable__label-arrow\">Pipeline</label><div class=\"sk-toggleable__content\"><pre>Pipeline(steps=[(&#x27;ci&#x27;, CategoricalImputer(imputation_method=&#x27;frequent&#x27;)),\n",
       "                (&#x27;mmi&#x27;, MeanMedianImputer(imputation_method=&#x27;mean&#x27;)),\n",
       "                (&#x27;ohe&#x27;, OrdinalEncoder()),\n",
       "                (&#x27;pl&#x27;,\n",
       "                 SklearnTransformerWrapper(transformer=PolynomialFeatures(include_bias=False,\n",
       "                                                                          interaction_only=True),\n",
       "                                           variables=[&#x27;Pclass&#x27;, &#x27;Sex&#x27;])),\n",
       "                (&#x27;sc&#x27;,\n",
       "                 SklearnTransformerWrapper(transformer=StandardScaler(),\n",
       "                                           variables=[&#x27;Age&#x27;, &#x27;Fare&#x27;])),\n",
       "                (&#x27;lr&#x27;, LogisticRegression(random_state=42))])</pre></div></div></div><div class=\"sk-serial\"><div class=\"sk-item\"><div class=\"sk-estimator sk-toggleable\"><input class=\"sk-toggleable__control sk-hidden--visually\" id=\"sk-estimator-id-203\" type=\"checkbox\" ><label for=\"sk-estimator-id-203\" class=\"sk-toggleable__label sk-toggleable__label-arrow\">CategoricalImputer</label><div class=\"sk-toggleable__content\"><pre>CategoricalImputer(imputation_method=&#x27;frequent&#x27;)</pre></div></div></div><div class=\"sk-item\"><div class=\"sk-estimator sk-toggleable\"><input class=\"sk-toggleable__control sk-hidden--visually\" id=\"sk-estimator-id-204\" type=\"checkbox\" ><label for=\"sk-estimator-id-204\" class=\"sk-toggleable__label sk-toggleable__label-arrow\">MeanMedianImputer</label><div class=\"sk-toggleable__content\"><pre>MeanMedianImputer(imputation_method=&#x27;mean&#x27;)</pre></div></div></div><div class=\"sk-item\"><div class=\"sk-estimator sk-toggleable\"><input class=\"sk-toggleable__control sk-hidden--visually\" id=\"sk-estimator-id-205\" type=\"checkbox\" ><label for=\"sk-estimator-id-205\" class=\"sk-toggleable__label sk-toggleable__label-arrow\">OrdinalEncoder</label><div class=\"sk-toggleable__content\"><pre>OrdinalEncoder()</pre></div></div></div><div class=\"sk-item sk-dashed-wrapped\"><div class=\"sk-label-container\"><div class=\"sk-label sk-toggleable\"><input class=\"sk-toggleable__control sk-hidden--visually\" id=\"sk-estimator-id-206\" type=\"checkbox\" ><label for=\"sk-estimator-id-206\" class=\"sk-toggleable__label sk-toggleable__label-arrow\">pl: SklearnTransformerWrapper</label><div class=\"sk-toggleable__content\"><pre>SklearnTransformerWrapper(transformer=PolynomialFeatures(include_bias=False,\n",
       "                                                         interaction_only=True),\n",
       "                          variables=[&#x27;Pclass&#x27;, &#x27;Sex&#x27;])</pre></div></div></div><div class=\"sk-parallel\"><div class=\"sk-parallel-item\"><div class=\"sk-item\"><div class=\"sk-label-container\"><div class=\"sk-label sk-toggleable\"><input class=\"sk-toggleable__control sk-hidden--visually\" id=\"sk-estimator-id-207\" type=\"checkbox\" ><label for=\"sk-estimator-id-207\" class=\"sk-toggleable__label sk-toggleable__label-arrow\">transformer: PolynomialFeatures</label><div class=\"sk-toggleable__content\"><pre>PolynomialFeatures(include_bias=False, interaction_only=True)</pre></div></div></div><div class=\"sk-serial\"><div class=\"sk-item\"><div class=\"sk-estimator sk-toggleable\"><input class=\"sk-toggleable__control sk-hidden--visually\" id=\"sk-estimator-id-208\" type=\"checkbox\" ><label for=\"sk-estimator-id-208\" class=\"sk-toggleable__label sk-toggleable__label-arrow\">PolynomialFeatures</label><div class=\"sk-toggleable__content\"><pre>PolynomialFeatures(include_bias=False, interaction_only=True)</pre></div></div></div></div></div></div></div></div><div class=\"sk-item sk-dashed-wrapped\"><div class=\"sk-label-container\"><div class=\"sk-label sk-toggleable\"><input class=\"sk-toggleable__control sk-hidden--visually\" id=\"sk-estimator-id-209\" type=\"checkbox\" ><label for=\"sk-estimator-id-209\" class=\"sk-toggleable__label sk-toggleable__label-arrow\">sc: SklearnTransformerWrapper</label><div class=\"sk-toggleable__content\"><pre>SklearnTransformerWrapper(transformer=StandardScaler(),\n",
       "                          variables=[&#x27;Age&#x27;, &#x27;Fare&#x27;])</pre></div></div></div><div class=\"sk-parallel\"><div class=\"sk-parallel-item\"><div class=\"sk-item\"><div class=\"sk-label-container\"><div class=\"sk-label sk-toggleable\"><input class=\"sk-toggleable__control sk-hidden--visually\" id=\"sk-estimator-id-210\" type=\"checkbox\" ><label for=\"sk-estimator-id-210\" class=\"sk-toggleable__label sk-toggleable__label-arrow\">transformer: StandardScaler</label><div class=\"sk-toggleable__content\"><pre>StandardScaler()</pre></div></div></div><div class=\"sk-serial\"><div class=\"sk-item\"><div class=\"sk-estimator sk-toggleable\"><input class=\"sk-toggleable__control sk-hidden--visually\" id=\"sk-estimator-id-211\" type=\"checkbox\" ><label for=\"sk-estimator-id-211\" class=\"sk-toggleable__label sk-toggleable__label-arrow\">StandardScaler</label><div class=\"sk-toggleable__content\"><pre>StandardScaler()</pre></div></div></div></div></div></div></div></div><div class=\"sk-item\"><div class=\"sk-estimator sk-toggleable\"><input class=\"sk-toggleable__control sk-hidden--visually\" id=\"sk-estimator-id-212\" type=\"checkbox\" ><label for=\"sk-estimator-id-212\" class=\"sk-toggleable__label sk-toggleable__label-arrow\">LogisticRegression</label><div class=\"sk-toggleable__content\"><pre>LogisticRegression(random_state=42)</pre></div></div></div></div></div></div></div>"
      ],
      "text/plain": [
       "Pipeline(steps=[('ci', CategoricalImputer(imputation_method='frequent')),\n",
       "                ('mmi', MeanMedianImputer(imputation_method='mean')),\n",
       "                ('ohe', OrdinalEncoder()),\n",
       "                ('pl',\n",
       "                 SklearnTransformerWrapper(transformer=PolynomialFeatures(include_bias=False,\n",
       "                                                                          interaction_only=True),\n",
       "                                           variables=['Pclass', 'Sex'])),\n",
       "                ('sc',\n",
       "                 SklearnTransformerWrapper(transformer=StandardScaler(),\n",
       "                                           variables=['Age', 'Fare'])),\n",
       "                ('lr', LogisticRegression(random_state=42))])"
      ]
     },
     "metadata": {},
     "output_type": "display_data"
    }
   ],
   "source": [
    "pipe = Pipeline(steps=[\n",
    "    ('ci',CategoricalImputer(imputation_method='frequent')), # imputar por la mode\n",
    "    ('mmi', MeanMedianImputer(imputation_method='mean')), # imputar por la media... variables numéricas\n",
    "    ('ohe',OrdinalEncoder()),\n",
    "    ('pl', SklearnTransformerWrapper(PolynomialFeatures(degree=2, interaction_only=True, include_bias=False ), variables = ['Pclass','Sex'])),\n",
    "    ('sc', SklearnTransformerWrapper(StandardScaler(), variables = ['Age','Fare'])),\n",
    "    ('lr', LogisticRegression(random_state=42))\n",
    "    ])\n",
    "display(pipe)\n",
    "model1 = (cross_val_score(pipe, X, y, cv=5, scoring='accuracy')).mean()   #  0.7855 con houldout. LR es de alto sesgo (Sin embargo es un modelo super estable)\n"
   ]
  },
  {
   "cell_type": "code",
   "execution_count": 117,
   "metadata": {},
   "outputs": [
    {
     "data": {
      "text/html": [
       "<style>#sk-container-id-23 {color: black;background-color: white;}#sk-container-id-23 pre{padding: 0;}#sk-container-id-23 div.sk-toggleable {background-color: white;}#sk-container-id-23 label.sk-toggleable__label {cursor: pointer;display: block;width: 100%;margin-bottom: 0;padding: 0.3em;box-sizing: border-box;text-align: center;}#sk-container-id-23 label.sk-toggleable__label-arrow:before {content: \"▸\";float: left;margin-right: 0.25em;color: #696969;}#sk-container-id-23 label.sk-toggleable__label-arrow:hover:before {color: black;}#sk-container-id-23 div.sk-estimator:hover label.sk-toggleable__label-arrow:before {color: black;}#sk-container-id-23 div.sk-toggleable__content {max-height: 0;max-width: 0;overflow: hidden;text-align: left;background-color: #f0f8ff;}#sk-container-id-23 div.sk-toggleable__content pre {margin: 0.2em;color: black;border-radius: 0.25em;background-color: #f0f8ff;}#sk-container-id-23 input.sk-toggleable__control:checked~div.sk-toggleable__content {max-height: 200px;max-width: 100%;overflow: auto;}#sk-container-id-23 input.sk-toggleable__control:checked~label.sk-toggleable__label-arrow:before {content: \"▾\";}#sk-container-id-23 div.sk-estimator input.sk-toggleable__control:checked~label.sk-toggleable__label {background-color: #d4ebff;}#sk-container-id-23 div.sk-label input.sk-toggleable__control:checked~label.sk-toggleable__label {background-color: #d4ebff;}#sk-container-id-23 input.sk-hidden--visually {border: 0;clip: rect(1px 1px 1px 1px);clip: rect(1px, 1px, 1px, 1px);height: 1px;margin: -1px;overflow: hidden;padding: 0;position: absolute;width: 1px;}#sk-container-id-23 div.sk-estimator {font-family: monospace;background-color: #f0f8ff;border: 1px dotted black;border-radius: 0.25em;box-sizing: border-box;margin-bottom: 0.5em;}#sk-container-id-23 div.sk-estimator:hover {background-color: #d4ebff;}#sk-container-id-23 div.sk-parallel-item::after {content: \"\";width: 100%;border-bottom: 1px solid gray;flex-grow: 1;}#sk-container-id-23 div.sk-label:hover label.sk-toggleable__label {background-color: #d4ebff;}#sk-container-id-23 div.sk-serial::before {content: \"\";position: absolute;border-left: 1px solid gray;box-sizing: border-box;top: 0;bottom: 0;left: 50%;z-index: 0;}#sk-container-id-23 div.sk-serial {display: flex;flex-direction: column;align-items: center;background-color: white;padding-right: 0.2em;padding-left: 0.2em;position: relative;}#sk-container-id-23 div.sk-item {position: relative;z-index: 1;}#sk-container-id-23 div.sk-parallel {display: flex;align-items: stretch;justify-content: center;background-color: white;position: relative;}#sk-container-id-23 div.sk-item::before, #sk-container-id-23 div.sk-parallel-item::before {content: \"\";position: absolute;border-left: 1px solid gray;box-sizing: border-box;top: 0;bottom: 0;left: 50%;z-index: -1;}#sk-container-id-23 div.sk-parallel-item {display: flex;flex-direction: column;z-index: 1;position: relative;background-color: white;}#sk-container-id-23 div.sk-parallel-item:first-child::after {align-self: flex-end;width: 50%;}#sk-container-id-23 div.sk-parallel-item:last-child::after {align-self: flex-start;width: 50%;}#sk-container-id-23 div.sk-parallel-item:only-child::after {width: 0;}#sk-container-id-23 div.sk-dashed-wrapped {border: 1px dashed gray;margin: 0 0.4em 0.5em 0.4em;box-sizing: border-box;padding-bottom: 0.4em;background-color: white;}#sk-container-id-23 div.sk-label label {font-family: monospace;font-weight: bold;display: inline-block;line-height: 1.2em;}#sk-container-id-23 div.sk-label-container {text-align: center;}#sk-container-id-23 div.sk-container {/* jupyter's `normalize.less` sets `[hidden] { display: none; }` but bootstrap.min.css set `[hidden] { display: none !important; }` so we also need the `!important` here to be able to override the default hidden behavior on the sphinx rendered scikit-learn.org. See: https://github.com/scikit-learn/scikit-learn/issues/21755 */display: inline-block !important;position: relative;}#sk-container-id-23 div.sk-text-repr-fallback {display: none;}</style><div id=\"sk-container-id-23\" class=\"sk-top-container\"><div class=\"sk-text-repr-fallback\"><pre>Pipeline(steps=[(&#x27;ci&#x27;, CategoricalImputer(imputation_method=&#x27;frequent&#x27;)),\n",
       "                (&#x27;mmi&#x27;, MeanMedianImputer()),\n",
       "                (&#x27;ohe&#x27;, OrdinalEncoder(encoding_method=&#x27;arbitrary&#x27;)),\n",
       "                (&#x27;pl&#x27;,\n",
       "                 SklearnTransformerWrapper(transformer=PolynomialFeatures(include_bias=False,\n",
       "                                                                          interaction_only=True),\n",
       "                                           variables=[&#x27;Pclass&#x27;, &#x27;Sex&#x27;])),\n",
       "                (&#x27;sc&#x27;,\n",
       "                 SklearnTransformerWrapper(transformer=StandardScaler(),\n",
       "                                           variables=[&#x27;Age&#x27;, &#x27;Fare&#x27;])),\n",
       "                (&#x27;lr&#x27;, LogisticRegression(random_state=42))])</pre><b>In a Jupyter environment, please rerun this cell to show the HTML representation or trust the notebook. <br />On GitHub, the HTML representation is unable to render, please try loading this page with nbviewer.org.</b></div><div class=\"sk-container\" hidden><div class=\"sk-item sk-dashed-wrapped\"><div class=\"sk-label-container\"><div class=\"sk-label sk-toggleable\"><input class=\"sk-toggleable__control sk-hidden--visually\" id=\"sk-estimator-id-213\" type=\"checkbox\" ><label for=\"sk-estimator-id-213\" class=\"sk-toggleable__label sk-toggleable__label-arrow\">Pipeline</label><div class=\"sk-toggleable__content\"><pre>Pipeline(steps=[(&#x27;ci&#x27;, CategoricalImputer(imputation_method=&#x27;frequent&#x27;)),\n",
       "                (&#x27;mmi&#x27;, MeanMedianImputer()),\n",
       "                (&#x27;ohe&#x27;, OrdinalEncoder(encoding_method=&#x27;arbitrary&#x27;)),\n",
       "                (&#x27;pl&#x27;,\n",
       "                 SklearnTransformerWrapper(transformer=PolynomialFeatures(include_bias=False,\n",
       "                                                                          interaction_only=True),\n",
       "                                           variables=[&#x27;Pclass&#x27;, &#x27;Sex&#x27;])),\n",
       "                (&#x27;sc&#x27;,\n",
       "                 SklearnTransformerWrapper(transformer=StandardScaler(),\n",
       "                                           variables=[&#x27;Age&#x27;, &#x27;Fare&#x27;])),\n",
       "                (&#x27;lr&#x27;, LogisticRegression(random_state=42))])</pre></div></div></div><div class=\"sk-serial\"><div class=\"sk-item\"><div class=\"sk-estimator sk-toggleable\"><input class=\"sk-toggleable__control sk-hidden--visually\" id=\"sk-estimator-id-214\" type=\"checkbox\" ><label for=\"sk-estimator-id-214\" class=\"sk-toggleable__label sk-toggleable__label-arrow\">CategoricalImputer</label><div class=\"sk-toggleable__content\"><pre>CategoricalImputer(imputation_method=&#x27;frequent&#x27;)</pre></div></div></div><div class=\"sk-item\"><div class=\"sk-estimator sk-toggleable\"><input class=\"sk-toggleable__control sk-hidden--visually\" id=\"sk-estimator-id-215\" type=\"checkbox\" ><label for=\"sk-estimator-id-215\" class=\"sk-toggleable__label sk-toggleable__label-arrow\">MeanMedianImputer</label><div class=\"sk-toggleable__content\"><pre>MeanMedianImputer()</pre></div></div></div><div class=\"sk-item\"><div class=\"sk-estimator sk-toggleable\"><input class=\"sk-toggleable__control sk-hidden--visually\" id=\"sk-estimator-id-216\" type=\"checkbox\" ><label for=\"sk-estimator-id-216\" class=\"sk-toggleable__label sk-toggleable__label-arrow\">OrdinalEncoder</label><div class=\"sk-toggleable__content\"><pre>OrdinalEncoder(encoding_method=&#x27;arbitrary&#x27;)</pre></div></div></div><div class=\"sk-item sk-dashed-wrapped\"><div class=\"sk-label-container\"><div class=\"sk-label sk-toggleable\"><input class=\"sk-toggleable__control sk-hidden--visually\" id=\"sk-estimator-id-217\" type=\"checkbox\" ><label for=\"sk-estimator-id-217\" class=\"sk-toggleable__label sk-toggleable__label-arrow\">pl: SklearnTransformerWrapper</label><div class=\"sk-toggleable__content\"><pre>SklearnTransformerWrapper(transformer=PolynomialFeatures(include_bias=False,\n",
       "                                                         interaction_only=True),\n",
       "                          variables=[&#x27;Pclass&#x27;, &#x27;Sex&#x27;])</pre></div></div></div><div class=\"sk-parallel\"><div class=\"sk-parallel-item\"><div class=\"sk-item\"><div class=\"sk-label-container\"><div class=\"sk-label sk-toggleable\"><input class=\"sk-toggleable__control sk-hidden--visually\" id=\"sk-estimator-id-218\" type=\"checkbox\" ><label for=\"sk-estimator-id-218\" class=\"sk-toggleable__label sk-toggleable__label-arrow\">transformer: PolynomialFeatures</label><div class=\"sk-toggleable__content\"><pre>PolynomialFeatures(include_bias=False, interaction_only=True)</pre></div></div></div><div class=\"sk-serial\"><div class=\"sk-item\"><div class=\"sk-estimator sk-toggleable\"><input class=\"sk-toggleable__control sk-hidden--visually\" id=\"sk-estimator-id-219\" type=\"checkbox\" ><label for=\"sk-estimator-id-219\" class=\"sk-toggleable__label sk-toggleable__label-arrow\">PolynomialFeatures</label><div class=\"sk-toggleable__content\"><pre>PolynomialFeatures(include_bias=False, interaction_only=True)</pre></div></div></div></div></div></div></div></div><div class=\"sk-item sk-dashed-wrapped\"><div class=\"sk-label-container\"><div class=\"sk-label sk-toggleable\"><input class=\"sk-toggleable__control sk-hidden--visually\" id=\"sk-estimator-id-220\" type=\"checkbox\" ><label for=\"sk-estimator-id-220\" class=\"sk-toggleable__label sk-toggleable__label-arrow\">sc: SklearnTransformerWrapper</label><div class=\"sk-toggleable__content\"><pre>SklearnTransformerWrapper(transformer=StandardScaler(),\n",
       "                          variables=[&#x27;Age&#x27;, &#x27;Fare&#x27;])</pre></div></div></div><div class=\"sk-parallel\"><div class=\"sk-parallel-item\"><div class=\"sk-item\"><div class=\"sk-label-container\"><div class=\"sk-label sk-toggleable\"><input class=\"sk-toggleable__control sk-hidden--visually\" id=\"sk-estimator-id-221\" type=\"checkbox\" ><label for=\"sk-estimator-id-221\" class=\"sk-toggleable__label sk-toggleable__label-arrow\">transformer: StandardScaler</label><div class=\"sk-toggleable__content\"><pre>StandardScaler()</pre></div></div></div><div class=\"sk-serial\"><div class=\"sk-item\"><div class=\"sk-estimator sk-toggleable\"><input class=\"sk-toggleable__control sk-hidden--visually\" id=\"sk-estimator-id-222\" type=\"checkbox\" ><label for=\"sk-estimator-id-222\" class=\"sk-toggleable__label sk-toggleable__label-arrow\">StandardScaler</label><div class=\"sk-toggleable__content\"><pre>StandardScaler()</pre></div></div></div></div></div></div></div></div><div class=\"sk-item\"><div class=\"sk-estimator sk-toggleable\"><input class=\"sk-toggleable__control sk-hidden--visually\" id=\"sk-estimator-id-223\" type=\"checkbox\" ><label for=\"sk-estimator-id-223\" class=\"sk-toggleable__label sk-toggleable__label-arrow\">LogisticRegression</label><div class=\"sk-toggleable__content\"><pre>LogisticRegression(random_state=42)</pre></div></div></div></div></div></div></div>"
      ],
      "text/plain": [
       "Pipeline(steps=[('ci', CategoricalImputer(imputation_method='frequent')),\n",
       "                ('mmi', MeanMedianImputer()),\n",
       "                ('ohe', OrdinalEncoder(encoding_method='arbitrary')),\n",
       "                ('pl',\n",
       "                 SklearnTransformerWrapper(transformer=PolynomialFeatures(include_bias=False,\n",
       "                                                                          interaction_only=True),\n",
       "                                           variables=['Pclass', 'Sex'])),\n",
       "                ('sc',\n",
       "                 SklearnTransformerWrapper(transformer=StandardScaler(),\n",
       "                                           variables=['Age', 'Fare'])),\n",
       "                ('lr', LogisticRegression(random_state=42))])"
      ]
     },
     "metadata": {},
     "output_type": "display_data"
    }
   ],
   "source": [
    "pipe = Pipeline(steps=[\n",
    "    ('ci',CategoricalImputer(imputation_method='frequent')), # imputar por la mode\n",
    "    ('mmi', MeanMedianImputer(imputation_method='median')), # imputar por la media... variables numéricas\n",
    "    ('ohe',OrdinalEncoder(encoding_method= 'arbitrary')),\n",
    "    ('pl', SklearnTransformerWrapper(PolynomialFeatures(degree=2, interaction_only=True, include_bias=False ), variables = ['Pclass','Sex'])),\n",
    "    ('sc', SklearnTransformerWrapper(StandardScaler(), variables = ['Age','Fare'])),\n",
    "    ('lr', LogisticRegression(random_state=42))\n",
    "    ])\n",
    "display(pipe)\n",
    "model2 = (cross_val_score(pipe, X, y, cv=5, scoring='accuracy')).mean()   #  0.7855 con houldout. LR es de alto sesgo (Sin embargo es un modelo super estable)"
   ]
  },
  {
   "cell_type": "code",
   "execution_count": 118,
   "metadata": {},
   "outputs": [
    {
     "data": {
      "text/html": [
       "<style>#sk-container-id-24 {color: black;background-color: white;}#sk-container-id-24 pre{padding: 0;}#sk-container-id-24 div.sk-toggleable {background-color: white;}#sk-container-id-24 label.sk-toggleable__label {cursor: pointer;display: block;width: 100%;margin-bottom: 0;padding: 0.3em;box-sizing: border-box;text-align: center;}#sk-container-id-24 label.sk-toggleable__label-arrow:before {content: \"▸\";float: left;margin-right: 0.25em;color: #696969;}#sk-container-id-24 label.sk-toggleable__label-arrow:hover:before {color: black;}#sk-container-id-24 div.sk-estimator:hover label.sk-toggleable__label-arrow:before {color: black;}#sk-container-id-24 div.sk-toggleable__content {max-height: 0;max-width: 0;overflow: hidden;text-align: left;background-color: #f0f8ff;}#sk-container-id-24 div.sk-toggleable__content pre {margin: 0.2em;color: black;border-radius: 0.25em;background-color: #f0f8ff;}#sk-container-id-24 input.sk-toggleable__control:checked~div.sk-toggleable__content {max-height: 200px;max-width: 100%;overflow: auto;}#sk-container-id-24 input.sk-toggleable__control:checked~label.sk-toggleable__label-arrow:before {content: \"▾\";}#sk-container-id-24 div.sk-estimator input.sk-toggleable__control:checked~label.sk-toggleable__label {background-color: #d4ebff;}#sk-container-id-24 div.sk-label input.sk-toggleable__control:checked~label.sk-toggleable__label {background-color: #d4ebff;}#sk-container-id-24 input.sk-hidden--visually {border: 0;clip: rect(1px 1px 1px 1px);clip: rect(1px, 1px, 1px, 1px);height: 1px;margin: -1px;overflow: hidden;padding: 0;position: absolute;width: 1px;}#sk-container-id-24 div.sk-estimator {font-family: monospace;background-color: #f0f8ff;border: 1px dotted black;border-radius: 0.25em;box-sizing: border-box;margin-bottom: 0.5em;}#sk-container-id-24 div.sk-estimator:hover {background-color: #d4ebff;}#sk-container-id-24 div.sk-parallel-item::after {content: \"\";width: 100%;border-bottom: 1px solid gray;flex-grow: 1;}#sk-container-id-24 div.sk-label:hover label.sk-toggleable__label {background-color: #d4ebff;}#sk-container-id-24 div.sk-serial::before {content: \"\";position: absolute;border-left: 1px solid gray;box-sizing: border-box;top: 0;bottom: 0;left: 50%;z-index: 0;}#sk-container-id-24 div.sk-serial {display: flex;flex-direction: column;align-items: center;background-color: white;padding-right: 0.2em;padding-left: 0.2em;position: relative;}#sk-container-id-24 div.sk-item {position: relative;z-index: 1;}#sk-container-id-24 div.sk-parallel {display: flex;align-items: stretch;justify-content: center;background-color: white;position: relative;}#sk-container-id-24 div.sk-item::before, #sk-container-id-24 div.sk-parallel-item::before {content: \"\";position: absolute;border-left: 1px solid gray;box-sizing: border-box;top: 0;bottom: 0;left: 50%;z-index: -1;}#sk-container-id-24 div.sk-parallel-item {display: flex;flex-direction: column;z-index: 1;position: relative;background-color: white;}#sk-container-id-24 div.sk-parallel-item:first-child::after {align-self: flex-end;width: 50%;}#sk-container-id-24 div.sk-parallel-item:last-child::after {align-self: flex-start;width: 50%;}#sk-container-id-24 div.sk-parallel-item:only-child::after {width: 0;}#sk-container-id-24 div.sk-dashed-wrapped {border: 1px dashed gray;margin: 0 0.4em 0.5em 0.4em;box-sizing: border-box;padding-bottom: 0.4em;background-color: white;}#sk-container-id-24 div.sk-label label {font-family: monospace;font-weight: bold;display: inline-block;line-height: 1.2em;}#sk-container-id-24 div.sk-label-container {text-align: center;}#sk-container-id-24 div.sk-container {/* jupyter's `normalize.less` sets `[hidden] { display: none; }` but bootstrap.min.css set `[hidden] { display: none !important; }` so we also need the `!important` here to be able to override the default hidden behavior on the sphinx rendered scikit-learn.org. See: https://github.com/scikit-learn/scikit-learn/issues/21755 */display: inline-block !important;position: relative;}#sk-container-id-24 div.sk-text-repr-fallback {display: none;}</style><div id=\"sk-container-id-24\" class=\"sk-top-container\"><div class=\"sk-text-repr-fallback\"><pre>Pipeline(steps=[(&#x27;ci&#x27;, CategoricalImputer()), (&#x27;mmi&#x27;, MeanMedianImputer()),\n",
       "                (&#x27;ohe&#x27;, OrdinalEncoder(encoding_method=&#x27;arbitrary&#x27;)),\n",
       "                (&#x27;pl&#x27;,\n",
       "                 SklearnTransformerWrapper(transformer=PolynomialFeatures(include_bias=False,\n",
       "                                                                          interaction_only=True),\n",
       "                                           variables=[&#x27;Pclass&#x27;, &#x27;Sex&#x27;])),\n",
       "                (&#x27;sc&#x27;,\n",
       "                 SklearnTransformerWrapper(transformer=StandardScaler(),\n",
       "                                           variables=[&#x27;Age&#x27;, &#x27;Fare&#x27;])),\n",
       "                (&#x27;lr&#x27;, LogisticRegression(random_state=42))])</pre><b>In a Jupyter environment, please rerun this cell to show the HTML representation or trust the notebook. <br />On GitHub, the HTML representation is unable to render, please try loading this page with nbviewer.org.</b></div><div class=\"sk-container\" hidden><div class=\"sk-item sk-dashed-wrapped\"><div class=\"sk-label-container\"><div class=\"sk-label sk-toggleable\"><input class=\"sk-toggleable__control sk-hidden--visually\" id=\"sk-estimator-id-224\" type=\"checkbox\" ><label for=\"sk-estimator-id-224\" class=\"sk-toggleable__label sk-toggleable__label-arrow\">Pipeline</label><div class=\"sk-toggleable__content\"><pre>Pipeline(steps=[(&#x27;ci&#x27;, CategoricalImputer()), (&#x27;mmi&#x27;, MeanMedianImputer()),\n",
       "                (&#x27;ohe&#x27;, OrdinalEncoder(encoding_method=&#x27;arbitrary&#x27;)),\n",
       "                (&#x27;pl&#x27;,\n",
       "                 SklearnTransformerWrapper(transformer=PolynomialFeatures(include_bias=False,\n",
       "                                                                          interaction_only=True),\n",
       "                                           variables=[&#x27;Pclass&#x27;, &#x27;Sex&#x27;])),\n",
       "                (&#x27;sc&#x27;,\n",
       "                 SklearnTransformerWrapper(transformer=StandardScaler(),\n",
       "                                           variables=[&#x27;Age&#x27;, &#x27;Fare&#x27;])),\n",
       "                (&#x27;lr&#x27;, LogisticRegression(random_state=42))])</pre></div></div></div><div class=\"sk-serial\"><div class=\"sk-item\"><div class=\"sk-estimator sk-toggleable\"><input class=\"sk-toggleable__control sk-hidden--visually\" id=\"sk-estimator-id-225\" type=\"checkbox\" ><label for=\"sk-estimator-id-225\" class=\"sk-toggleable__label sk-toggleable__label-arrow\">CategoricalImputer</label><div class=\"sk-toggleable__content\"><pre>CategoricalImputer()</pre></div></div></div><div class=\"sk-item\"><div class=\"sk-estimator sk-toggleable\"><input class=\"sk-toggleable__control sk-hidden--visually\" id=\"sk-estimator-id-226\" type=\"checkbox\" ><label for=\"sk-estimator-id-226\" class=\"sk-toggleable__label sk-toggleable__label-arrow\">MeanMedianImputer</label><div class=\"sk-toggleable__content\"><pre>MeanMedianImputer()</pre></div></div></div><div class=\"sk-item\"><div class=\"sk-estimator sk-toggleable\"><input class=\"sk-toggleable__control sk-hidden--visually\" id=\"sk-estimator-id-227\" type=\"checkbox\" ><label for=\"sk-estimator-id-227\" class=\"sk-toggleable__label sk-toggleable__label-arrow\">OrdinalEncoder</label><div class=\"sk-toggleable__content\"><pre>OrdinalEncoder(encoding_method=&#x27;arbitrary&#x27;)</pre></div></div></div><div class=\"sk-item sk-dashed-wrapped\"><div class=\"sk-label-container\"><div class=\"sk-label sk-toggleable\"><input class=\"sk-toggleable__control sk-hidden--visually\" id=\"sk-estimator-id-228\" type=\"checkbox\" ><label for=\"sk-estimator-id-228\" class=\"sk-toggleable__label sk-toggleable__label-arrow\">pl: SklearnTransformerWrapper</label><div class=\"sk-toggleable__content\"><pre>SklearnTransformerWrapper(transformer=PolynomialFeatures(include_bias=False,\n",
       "                                                         interaction_only=True),\n",
       "                          variables=[&#x27;Pclass&#x27;, &#x27;Sex&#x27;])</pre></div></div></div><div class=\"sk-parallel\"><div class=\"sk-parallel-item\"><div class=\"sk-item\"><div class=\"sk-label-container\"><div class=\"sk-label sk-toggleable\"><input class=\"sk-toggleable__control sk-hidden--visually\" id=\"sk-estimator-id-229\" type=\"checkbox\" ><label for=\"sk-estimator-id-229\" class=\"sk-toggleable__label sk-toggleable__label-arrow\">transformer: PolynomialFeatures</label><div class=\"sk-toggleable__content\"><pre>PolynomialFeatures(include_bias=False, interaction_only=True)</pre></div></div></div><div class=\"sk-serial\"><div class=\"sk-item\"><div class=\"sk-estimator sk-toggleable\"><input class=\"sk-toggleable__control sk-hidden--visually\" id=\"sk-estimator-id-230\" type=\"checkbox\" ><label for=\"sk-estimator-id-230\" class=\"sk-toggleable__label sk-toggleable__label-arrow\">PolynomialFeatures</label><div class=\"sk-toggleable__content\"><pre>PolynomialFeatures(include_bias=False, interaction_only=True)</pre></div></div></div></div></div></div></div></div><div class=\"sk-item sk-dashed-wrapped\"><div class=\"sk-label-container\"><div class=\"sk-label sk-toggleable\"><input class=\"sk-toggleable__control sk-hidden--visually\" id=\"sk-estimator-id-231\" type=\"checkbox\" ><label for=\"sk-estimator-id-231\" class=\"sk-toggleable__label sk-toggleable__label-arrow\">sc: SklearnTransformerWrapper</label><div class=\"sk-toggleable__content\"><pre>SklearnTransformerWrapper(transformer=StandardScaler(),\n",
       "                          variables=[&#x27;Age&#x27;, &#x27;Fare&#x27;])</pre></div></div></div><div class=\"sk-parallel\"><div class=\"sk-parallel-item\"><div class=\"sk-item\"><div class=\"sk-label-container\"><div class=\"sk-label sk-toggleable\"><input class=\"sk-toggleable__control sk-hidden--visually\" id=\"sk-estimator-id-232\" type=\"checkbox\" ><label for=\"sk-estimator-id-232\" class=\"sk-toggleable__label sk-toggleable__label-arrow\">transformer: StandardScaler</label><div class=\"sk-toggleable__content\"><pre>StandardScaler()</pre></div></div></div><div class=\"sk-serial\"><div class=\"sk-item\"><div class=\"sk-estimator sk-toggleable\"><input class=\"sk-toggleable__control sk-hidden--visually\" id=\"sk-estimator-id-233\" type=\"checkbox\" ><label for=\"sk-estimator-id-233\" class=\"sk-toggleable__label sk-toggleable__label-arrow\">StandardScaler</label><div class=\"sk-toggleable__content\"><pre>StandardScaler()</pre></div></div></div></div></div></div></div></div><div class=\"sk-item\"><div class=\"sk-estimator sk-toggleable\"><input class=\"sk-toggleable__control sk-hidden--visually\" id=\"sk-estimator-id-234\" type=\"checkbox\" ><label for=\"sk-estimator-id-234\" class=\"sk-toggleable__label sk-toggleable__label-arrow\">LogisticRegression</label><div class=\"sk-toggleable__content\"><pre>LogisticRegression(random_state=42)</pre></div></div></div></div></div></div></div>"
      ],
      "text/plain": [
       "Pipeline(steps=[('ci', CategoricalImputer()), ('mmi', MeanMedianImputer()),\n",
       "                ('ohe', OrdinalEncoder(encoding_method='arbitrary')),\n",
       "                ('pl',\n",
       "                 SklearnTransformerWrapper(transformer=PolynomialFeatures(include_bias=False,\n",
       "                                                                          interaction_only=True),\n",
       "                                           variables=['Pclass', 'Sex'])),\n",
       "                ('sc',\n",
       "                 SklearnTransformerWrapper(transformer=StandardScaler(),\n",
       "                                           variables=['Age', 'Fare'])),\n",
       "                ('lr', LogisticRegression(random_state=42))])"
      ]
     },
     "metadata": {},
     "output_type": "display_data"
    }
   ],
   "source": [
    "pipe = Pipeline(steps=[\n",
    "    ('ci',CategoricalImputer(imputation_method='missing')), # imputar por la mode\n",
    "    ('mmi', MeanMedianImputer(imputation_method='median')), # imputar por la media... variables numéricas\n",
    "    ('ohe',OrdinalEncoder(encoding_method= 'arbitrary')),\n",
    "    ('pl', SklearnTransformerWrapper(PolynomialFeatures(degree=2, interaction_only=True, include_bias=False ), variables = ['Pclass','Sex'])),\n",
    "    ('sc', SklearnTransformerWrapper(StandardScaler(), variables = ['Age','Fare'])),\n",
    "    ('lr', LogisticRegression(random_state=42))\n",
    "    ])\n",
    "display(pipe)\n",
    "model3 = (cross_val_score(pipe, X, y, cv=5, scoring='accuracy')).mean()   #  0.7855 con houldout. LR es de alto sesgo (Sin embargo es un modelo super estable)"
   ]
  },
  {
   "cell_type": "code",
   "execution_count": 119,
   "metadata": {},
   "outputs": [
    {
     "data": {
      "text/html": [
       "<style>#sk-container-id-25 {color: black;background-color: white;}#sk-container-id-25 pre{padding: 0;}#sk-container-id-25 div.sk-toggleable {background-color: white;}#sk-container-id-25 label.sk-toggleable__label {cursor: pointer;display: block;width: 100%;margin-bottom: 0;padding: 0.3em;box-sizing: border-box;text-align: center;}#sk-container-id-25 label.sk-toggleable__label-arrow:before {content: \"▸\";float: left;margin-right: 0.25em;color: #696969;}#sk-container-id-25 label.sk-toggleable__label-arrow:hover:before {color: black;}#sk-container-id-25 div.sk-estimator:hover label.sk-toggleable__label-arrow:before {color: black;}#sk-container-id-25 div.sk-toggleable__content {max-height: 0;max-width: 0;overflow: hidden;text-align: left;background-color: #f0f8ff;}#sk-container-id-25 div.sk-toggleable__content pre {margin: 0.2em;color: black;border-radius: 0.25em;background-color: #f0f8ff;}#sk-container-id-25 input.sk-toggleable__control:checked~div.sk-toggleable__content {max-height: 200px;max-width: 100%;overflow: auto;}#sk-container-id-25 input.sk-toggleable__control:checked~label.sk-toggleable__label-arrow:before {content: \"▾\";}#sk-container-id-25 div.sk-estimator input.sk-toggleable__control:checked~label.sk-toggleable__label {background-color: #d4ebff;}#sk-container-id-25 div.sk-label input.sk-toggleable__control:checked~label.sk-toggleable__label {background-color: #d4ebff;}#sk-container-id-25 input.sk-hidden--visually {border: 0;clip: rect(1px 1px 1px 1px);clip: rect(1px, 1px, 1px, 1px);height: 1px;margin: -1px;overflow: hidden;padding: 0;position: absolute;width: 1px;}#sk-container-id-25 div.sk-estimator {font-family: monospace;background-color: #f0f8ff;border: 1px dotted black;border-radius: 0.25em;box-sizing: border-box;margin-bottom: 0.5em;}#sk-container-id-25 div.sk-estimator:hover {background-color: #d4ebff;}#sk-container-id-25 div.sk-parallel-item::after {content: \"\";width: 100%;border-bottom: 1px solid gray;flex-grow: 1;}#sk-container-id-25 div.sk-label:hover label.sk-toggleable__label {background-color: #d4ebff;}#sk-container-id-25 div.sk-serial::before {content: \"\";position: absolute;border-left: 1px solid gray;box-sizing: border-box;top: 0;bottom: 0;left: 50%;z-index: 0;}#sk-container-id-25 div.sk-serial {display: flex;flex-direction: column;align-items: center;background-color: white;padding-right: 0.2em;padding-left: 0.2em;position: relative;}#sk-container-id-25 div.sk-item {position: relative;z-index: 1;}#sk-container-id-25 div.sk-parallel {display: flex;align-items: stretch;justify-content: center;background-color: white;position: relative;}#sk-container-id-25 div.sk-item::before, #sk-container-id-25 div.sk-parallel-item::before {content: \"\";position: absolute;border-left: 1px solid gray;box-sizing: border-box;top: 0;bottom: 0;left: 50%;z-index: -1;}#sk-container-id-25 div.sk-parallel-item {display: flex;flex-direction: column;z-index: 1;position: relative;background-color: white;}#sk-container-id-25 div.sk-parallel-item:first-child::after {align-self: flex-end;width: 50%;}#sk-container-id-25 div.sk-parallel-item:last-child::after {align-self: flex-start;width: 50%;}#sk-container-id-25 div.sk-parallel-item:only-child::after {width: 0;}#sk-container-id-25 div.sk-dashed-wrapped {border: 1px dashed gray;margin: 0 0.4em 0.5em 0.4em;box-sizing: border-box;padding-bottom: 0.4em;background-color: white;}#sk-container-id-25 div.sk-label label {font-family: monospace;font-weight: bold;display: inline-block;line-height: 1.2em;}#sk-container-id-25 div.sk-label-container {text-align: center;}#sk-container-id-25 div.sk-container {/* jupyter's `normalize.less` sets `[hidden] { display: none; }` but bootstrap.min.css set `[hidden] { display: none !important; }` so we also need the `!important` here to be able to override the default hidden behavior on the sphinx rendered scikit-learn.org. See: https://github.com/scikit-learn/scikit-learn/issues/21755 */display: inline-block !important;position: relative;}#sk-container-id-25 div.sk-text-repr-fallback {display: none;}</style><div id=\"sk-container-id-25\" class=\"sk-top-container\"><div class=\"sk-text-repr-fallback\"><pre>Pipeline(steps=[(&#x27;ci&#x27;, CategoricalImputer()), (&#x27;mmi&#x27;, MeanMedianImputer()),\n",
       "                (&#x27;ohe&#x27;, OrdinalEncoder(encoding_method=&#x27;arbitrary&#x27;)),\n",
       "                (&#x27;pl&#x27;,\n",
       "                 SklearnTransformerWrapper(transformer=PolynomialFeatures(include_bias=False,\n",
       "                                                                          interaction_only=True),\n",
       "                                           variables=[&#x27;Pclass&#x27;, &#x27;Sex&#x27;, &#x27;Age&#x27;,\n",
       "                                                      &#x27;Fare&#x27;])),\n",
       "                (&#x27;sc&#x27;, StandardScaler()),\n",
       "                (&#x27;lr&#x27;, LogisticRegression(random_state=42))])</pre><b>In a Jupyter environment, please rerun this cell to show the HTML representation or trust the notebook. <br />On GitHub, the HTML representation is unable to render, please try loading this page with nbviewer.org.</b></div><div class=\"sk-container\" hidden><div class=\"sk-item sk-dashed-wrapped\"><div class=\"sk-label-container\"><div class=\"sk-label sk-toggleable\"><input class=\"sk-toggleable__control sk-hidden--visually\" id=\"sk-estimator-id-235\" type=\"checkbox\" ><label for=\"sk-estimator-id-235\" class=\"sk-toggleable__label sk-toggleable__label-arrow\">Pipeline</label><div class=\"sk-toggleable__content\"><pre>Pipeline(steps=[(&#x27;ci&#x27;, CategoricalImputer()), (&#x27;mmi&#x27;, MeanMedianImputer()),\n",
       "                (&#x27;ohe&#x27;, OrdinalEncoder(encoding_method=&#x27;arbitrary&#x27;)),\n",
       "                (&#x27;pl&#x27;,\n",
       "                 SklearnTransformerWrapper(transformer=PolynomialFeatures(include_bias=False,\n",
       "                                                                          interaction_only=True),\n",
       "                                           variables=[&#x27;Pclass&#x27;, &#x27;Sex&#x27;, &#x27;Age&#x27;,\n",
       "                                                      &#x27;Fare&#x27;])),\n",
       "                (&#x27;sc&#x27;, StandardScaler()),\n",
       "                (&#x27;lr&#x27;, LogisticRegression(random_state=42))])</pre></div></div></div><div class=\"sk-serial\"><div class=\"sk-item\"><div class=\"sk-estimator sk-toggleable\"><input class=\"sk-toggleable__control sk-hidden--visually\" id=\"sk-estimator-id-236\" type=\"checkbox\" ><label for=\"sk-estimator-id-236\" class=\"sk-toggleable__label sk-toggleable__label-arrow\">CategoricalImputer</label><div class=\"sk-toggleable__content\"><pre>CategoricalImputer()</pre></div></div></div><div class=\"sk-item\"><div class=\"sk-estimator sk-toggleable\"><input class=\"sk-toggleable__control sk-hidden--visually\" id=\"sk-estimator-id-237\" type=\"checkbox\" ><label for=\"sk-estimator-id-237\" class=\"sk-toggleable__label sk-toggleable__label-arrow\">MeanMedianImputer</label><div class=\"sk-toggleable__content\"><pre>MeanMedianImputer()</pre></div></div></div><div class=\"sk-item\"><div class=\"sk-estimator sk-toggleable\"><input class=\"sk-toggleable__control sk-hidden--visually\" id=\"sk-estimator-id-238\" type=\"checkbox\" ><label for=\"sk-estimator-id-238\" class=\"sk-toggleable__label sk-toggleable__label-arrow\">OrdinalEncoder</label><div class=\"sk-toggleable__content\"><pre>OrdinalEncoder(encoding_method=&#x27;arbitrary&#x27;)</pre></div></div></div><div class=\"sk-item sk-dashed-wrapped\"><div class=\"sk-label-container\"><div class=\"sk-label sk-toggleable\"><input class=\"sk-toggleable__control sk-hidden--visually\" id=\"sk-estimator-id-239\" type=\"checkbox\" ><label for=\"sk-estimator-id-239\" class=\"sk-toggleable__label sk-toggleable__label-arrow\">pl: SklearnTransformerWrapper</label><div class=\"sk-toggleable__content\"><pre>SklearnTransformerWrapper(transformer=PolynomialFeatures(include_bias=False,\n",
       "                                                         interaction_only=True),\n",
       "                          variables=[&#x27;Pclass&#x27;, &#x27;Sex&#x27;, &#x27;Age&#x27;, &#x27;Fare&#x27;])</pre></div></div></div><div class=\"sk-parallel\"><div class=\"sk-parallel-item\"><div class=\"sk-item\"><div class=\"sk-label-container\"><div class=\"sk-label sk-toggleable\"><input class=\"sk-toggleable__control sk-hidden--visually\" id=\"sk-estimator-id-240\" type=\"checkbox\" ><label for=\"sk-estimator-id-240\" class=\"sk-toggleable__label sk-toggleable__label-arrow\">transformer: PolynomialFeatures</label><div class=\"sk-toggleable__content\"><pre>PolynomialFeatures(include_bias=False, interaction_only=True)</pre></div></div></div><div class=\"sk-serial\"><div class=\"sk-item\"><div class=\"sk-estimator sk-toggleable\"><input class=\"sk-toggleable__control sk-hidden--visually\" id=\"sk-estimator-id-241\" type=\"checkbox\" ><label for=\"sk-estimator-id-241\" class=\"sk-toggleable__label sk-toggleable__label-arrow\">PolynomialFeatures</label><div class=\"sk-toggleable__content\"><pre>PolynomialFeatures(include_bias=False, interaction_only=True)</pre></div></div></div></div></div></div></div></div><div class=\"sk-item\"><div class=\"sk-estimator sk-toggleable\"><input class=\"sk-toggleable__control sk-hidden--visually\" id=\"sk-estimator-id-242\" type=\"checkbox\" ><label for=\"sk-estimator-id-242\" class=\"sk-toggleable__label sk-toggleable__label-arrow\">StandardScaler</label><div class=\"sk-toggleable__content\"><pre>StandardScaler()</pre></div></div></div><div class=\"sk-item\"><div class=\"sk-estimator sk-toggleable\"><input class=\"sk-toggleable__control sk-hidden--visually\" id=\"sk-estimator-id-243\" type=\"checkbox\" ><label for=\"sk-estimator-id-243\" class=\"sk-toggleable__label sk-toggleable__label-arrow\">LogisticRegression</label><div class=\"sk-toggleable__content\"><pre>LogisticRegression(random_state=42)</pre></div></div></div></div></div></div></div>"
      ],
      "text/plain": [
       "Pipeline(steps=[('ci', CategoricalImputer()), ('mmi', MeanMedianImputer()),\n",
       "                ('ohe', OrdinalEncoder(encoding_method='arbitrary')),\n",
       "                ('pl',\n",
       "                 SklearnTransformerWrapper(transformer=PolynomialFeatures(include_bias=False,\n",
       "                                                                          interaction_only=True),\n",
       "                                           variables=['Pclass', 'Sex', 'Age',\n",
       "                                                      'Fare'])),\n",
       "                ('sc', StandardScaler()),\n",
       "                ('lr', LogisticRegression(random_state=42))])"
      ]
     },
     "metadata": {},
     "output_type": "display_data"
    }
   ],
   "source": [
    "pipe = Pipeline(steps=[\n",
    "    ('ci',CategoricalImputer(imputation_method='missing')), # imputar por la mode\n",
    "    ('mmi', MeanMedianImputer(imputation_method='median')), # imputar por la media... variables numéricas\n",
    "    ('ohe',OrdinalEncoder(encoding_method= 'arbitrary')),\n",
    "    ('pl', SklearnTransformerWrapper(PolynomialFeatures(degree=2, interaction_only=True, include_bias=False ), variables = ['Pclass','Sex','Age','Fare'])),\n",
    "    ('sc', StandardScaler()),\n",
    "    ('lr', LogisticRegression(random_state=42))\n",
    "    ])\n",
    "display(pipe)\n",
    "model4 = (cross_val_score(pipe, X, y, cv=5, scoring='accuracy')).mean()   #  0.7855 con houldout. LR es de alto sesgo (Sin embargo es un modelo super estable)"
   ]
  },
  {
   "cell_type": "code",
   "execution_count": 120,
   "metadata": {},
   "outputs": [
    {
     "data": {
      "text/plain": [
       "[0.7890716213671458,\n",
       " 0.7958006402611261,\n",
       " 0.7958006402611261,\n",
       " 0.8092272926997677]"
      ]
     },
     "execution_count": 120,
     "metadata": {},
     "output_type": "execute_result"
    }
   ],
   "source": [
    "[model1, model2,  model3,  model4]"
   ]
  },
  {
   "cell_type": "code",
   "execution_count": 122,
   "metadata": {},
   "outputs": [],
   "source": [
    "## Hiperparametros: es cualquier valor que el modelo no aprende sino que yo se lo doy...\n",
    "# Hyperparameter Tuning"
   ]
  }
 ],
 "metadata": {
  "kernelspec": {
   "display_name": "Python 3.10.4 ('dl')",
   "language": "python",
   "name": "python3"
  },
  "language_info": {
   "codemirror_mode": {
    "name": "ipython",
    "version": 3
   },
   "file_extension": ".py",
   "mimetype": "text/x-python",
   "name": "python",
   "nbconvert_exporter": "python",
   "pygments_lexer": "ipython3",
   "version": "3.10.4"
  },
  "orig_nbformat": 4,
  "vscode": {
   "interpreter": {
    "hash": "c9ccd8639d7ac6d8ae46f08631d02de0d1c9f4a08850208985333be71082afd9"
   }
  }
 },
 "nbformat": 4,
 "nbformat_minor": 2
}
