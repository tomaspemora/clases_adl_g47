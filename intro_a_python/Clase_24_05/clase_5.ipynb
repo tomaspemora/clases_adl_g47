{
 "cells": [
  {
   "cell_type": "markdown",
   "metadata": {},
   "source": [
    "# Definición de una función..."
   ]
  },
  {
   "cell_type": "code",
   "execution_count": 2,
   "metadata": {},
   "outputs": [
    {
     "data": {
      "text/plain": [
       "8"
      ]
     },
     "execution_count": 2,
     "metadata": {},
     "output_type": "execute_result"
    }
   ],
   "source": [
    "# como se define en Python\n",
    "\n",
    "def suma(x,y):\n",
    "    return x + y\n",
    "\n",
    "suma(3, 5)\n"
   ]
  },
  {
   "cell_type": "code",
   "execution_count": 3,
   "metadata": {},
   "outputs": [],
   "source": [
    "# Multioutput\n",
    "\n",
    "def duplicar_cuadrado_cubo(numero):\n",
    "    dup = 2 * numero\n",
    "    cuadrado = numero ** 2\n",
    "    elevar = numero ** 3\n",
    "    return dup, cuadrado, elevar\n",
    "\n",
    "doble, cuad, cub = duplicar_cuadrado_cubo(2)"
   ]
  },
  {
   "cell_type": "code",
   "execution_count": 4,
   "metadata": {},
   "outputs": [
    {
     "data": {
      "text/plain": [
       "100"
      ]
     },
     "execution_count": 4,
     "metadata": {},
     "output_type": "execute_result"
    }
   ],
   "source": [
    "# Tipos de parámetros\n",
    "# Obligatorio, opcional\n",
    "\n",
    "def elevar(numero, exponente = 2):\n",
    "    return numero**exponente\n",
    "\n",
    "elevar(10)"
   ]
  },
  {
   "cell_type": "code",
   "execution_count": 5,
   "metadata": {},
   "outputs": [
    {
     "name": "stdout",
     "output_type": "stream",
     "text": [
      "Hola José\n",
      "No hay nadie a quien saludar\n"
     ]
    }
   ],
   "source": [
    "def saludar(nombre = None):\n",
    "    if nombre is not None:\n",
    "        print(f'Hola {nombre}')\n",
    "    else:\n",
    "        print('No hay nadie a quien saludar')\n",
    "\n",
    "saludar('José')\n",
    "saludar()"
   ]
  },
  {
   "cell_type": "code",
   "execution_count": 14,
   "metadata": {},
   "outputs": [
    {
     "name": "stdout",
     "output_type": "stream",
     "text": [
      "Hola Alfonso\n",
      "Hola José\n",
      "Hola Ximena\n"
     ]
    }
   ],
   "source": [
    "# Args (entrada como tupla)\n",
    "\n",
    "def saludar_v2(*nombres):\n",
    "    for nombre in nombres:\n",
    "        print(f'Hola {nombre}')\n",
    "\n",
    "\n",
    "saludar_v2('Alfonso', 'José', 'Ximena')\n"
   ]
  },
  {
   "cell_type": "code",
   "execution_count": 18,
   "metadata": {},
   "outputs": [
    {
     "name": "stdout",
     "output_type": "stream",
     "text": [
      "El producto tetera vale 500\n",
      "El producto mouse vale 6400\n",
      "El producto computador vale 500000\n"
     ]
    }
   ],
   "source": [
    "# Kwargs (entrada como diccionario)\n",
    "\n",
    "def listar_precios(**items):\n",
    "    for k,v in items.items():\n",
    "        print(f'El producto {k} vale {v}')\n",
    "\n",
    "\n",
    "\n",
    "listar_precios(tetera=500, mouse=6400, computador=500000)"
   ]
  },
  {
   "cell_type": "code",
   "execution_count": 19,
   "metadata": {},
   "outputs": [],
   "source": [
    "# estructura de funciones python\n",
    "# def funcion(obligatorios, opcionales, args/kwargs)"
   ]
  },
  {
   "cell_type": "code",
   "execution_count": null,
   "metadata": {},
   "outputs": [],
   "source": []
  }
 ],
 "metadata": {
  "interpreter": {
   "hash": "08482e685b51a3aec056495b9bb45dd4bdf3ffe89267ca99981f3c5125cf7365"
  },
  "kernelspec": {
   "display_name": "Python 3.9.12",
   "language": "python",
   "name": "python3"
  },
  "language_info": {
   "codemirror_mode": {
    "name": "ipython",
    "version": 3
   },
   "file_extension": ".py",
   "mimetype": "text/x-python",
   "name": "python",
   "nbconvert_exporter": "python",
   "pygments_lexer": "ipython3",
   "version": "3.9.12"
  },
  "orig_nbformat": 4
 },
 "nbformat": 4,
 "nbformat_minor": 2
}
