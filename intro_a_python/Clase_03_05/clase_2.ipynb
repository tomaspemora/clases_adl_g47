{
 "cells": [
  {
   "cell_type": "markdown",
   "metadata": {},
   "source": [
    "# print() La manera de mostrar en pantalla"
   ]
  },
  {
   "cell_type": "code",
   "execution_count": 1,
   "metadata": {},
   "outputs": [
    {
     "name": "stdout",
     "output_type": "stream",
     "text": [
      "Imprimir lo que yo quiera...\n"
     ]
    }
   ],
   "source": [
    "print(\"Imprimir lo que yo quiera...\") # print se utiliza normalmente en un script..."
   ]
  },
  {
   "cell_type": "markdown",
   "metadata": {},
   "source": [
    "## Tipo de Datos\n",
    "\n",
    "Operaciones básicas entre tipos de datos"
   ]
  },
  {
   "cell_type": "code",
   "execution_count": 2,
   "metadata": {},
   "outputs": [
    {
     "data": {
      "text/plain": [
       "bool"
      ]
     },
     "execution_count": 2,
     "metadata": {},
     "output_type": "execute_result"
    }
   ],
   "source": [
    "# string, float, booleanos, enteros\n",
    "\n",
    "\n",
    "1\n",
    "2\n",
    "3\n",
    "4\n",
    "567898\n",
    "-23984902\n",
    "\n",
    "3.14\n",
    "3.4\n",
    "1.1\n",
    "\n",
    "type(1.000000)   # float\n",
    "type('hola')     # str\n",
    "type(1)          # int\n",
    "type(True)       # bool\n",
    "\n"
   ]
  },
  {
   "cell_type": "code",
   "execution_count": 3,
   "metadata": {},
   "outputs": [],
   "source": [
    "x = 34\n",
    "y = 23\n",
    "\n",
    "z = 4.5\n",
    "f = 5.6\n",
    "\n",
    "t = 'hola'\n",
    "h = 'chao'\n",
    "\n",
    "o = True\n",
    "p = False"
   ]
  },
  {
   "cell_type": "code",
   "execution_count": 4,
   "metadata": {},
   "outputs": [
    {
     "name": "stdout",
     "output_type": "stream",
     "text": [
      "57\n",
      "28.4\n"
     ]
    }
   ],
   "source": [
    "print(x + y)    # int + int = int\n",
    "print(x - f)    # int - float = float  (coerción)"
   ]
  },
  {
   "cell_type": "markdown",
   "metadata": {},
   "source": [
    "> Los tipos numéricos normalmente se van a transformar... van a bajar de Ranking\n",
    "\n",
    "1. Booleanos\n",
    "2. Integer\n",
    "3. Flotantes\n",
    "4. Strings"
   ]
  },
  {
   "cell_type": "code",
   "execution_count": 5,
   "metadata": {},
   "outputs": [
    {
     "data": {
      "text/plain": [
       "5.0"
      ]
     },
     "execution_count": 5,
     "metadata": {},
     "output_type": "execute_result"
    }
   ],
   "source": [
    "x = 10\n",
    "y = 2\n",
    "\n",
    "x / y # excepción, la división devuelve un flotante...\n"
   ]
  },
  {
   "cell_type": "markdown",
   "metadata": {},
   "source": [
    "Strings"
   ]
  },
  {
   "cell_type": "code",
   "execution_count": 6,
   "metadata": {},
   "outputs": [],
   "source": [
    "str_1 = \"Mi nombre es Thomas\"\n",
    "str_2 = \"soy alumno de g47\""
   ]
  },
  {
   "cell_type": "code",
   "execution_count": 7,
   "metadata": {},
   "outputs": [
    {
     "name": "stdout",
     "output_type": "stream",
     "text": [
      "<class 'str'>\n",
      "<class 'str'>\n"
     ]
    }
   ],
   "source": [
    "print(type(str_1))\n",
    "print(type(str_2))"
   ]
  },
  {
   "cell_type": "code",
   "execution_count": 10,
   "metadata": {},
   "outputs": [
    {
     "name": "stdout",
     "output_type": "stream",
     "text": [
      "Mi nombre es Thomas, soy alumnos de g47\n",
      "MI NOMBRE ES THOMAS, soy alumnos de g47\n",
      "mi nombre es thomas, soy alumnos de g47\n",
      "Mi Nombre Es Thomas, soy alumnos de g47\n",
      "Mi nombre es thomas, soy alumnos de g47\n"
     ]
    },
    {
     "data": {
      "text/plain": [
       "19"
      ]
     },
     "execution_count": 10,
     "metadata": {},
     "output_type": "execute_result"
    }
   ],
   "source": [
    "# concatenación\n",
    "print(str_1 + ', ' + str_2)\n",
    "5 * (str_1 + ', ')\n",
    "# 5.0 * (str_1 + ', ') # no funciona pq 5.0 es un float\n",
    "print(str_1.upper() + ', ' + str_2)\n",
    "print(str_1.lower() + ', ' + str_2)\n",
    "print(str_1.title() + ', ' + str_2)\n",
    "print(str_1.capitalize() + ', ' + str_2)\n",
    "len(str_1)"
   ]
  },
  {
   "cell_type": "code",
   "execution_count": null,
   "metadata": {},
   "outputs": [],
   "source": []
  }
 ],
 "metadata": {
  "interpreter": {
   "hash": "61a9a48f24c5a6e4f1a30b1d52f44b585717aaefc7cb08d491ba164df89a02b2"
  },
  "kernelspec": {
   "display_name": "Python 3.9.12",
   "language": "python",
   "name": "python3"
  },
  "language_info": {
   "codemirror_mode": {
    "name": "ipython",
    "version": 3
   },
   "file_extension": ".py",
   "mimetype": "text/x-python",
   "name": "python",
   "nbconvert_exporter": "python",
   "pygments_lexer": "ipython3",
   "version": "3.9.7"
  },
  "orig_nbformat": 4
 },
 "nbformat": 4,
 "nbformat_minor": 2
}
