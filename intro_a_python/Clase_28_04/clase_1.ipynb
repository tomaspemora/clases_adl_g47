{
 "cells": [
  {
   "cell_type": "markdown",
   "metadata": {},
   "source": [
    "# Comandos de Markdown"
   ]
  },
  {
   "cell_type": "markdown",
   "metadata": {},
   "source": [
    "** hola **\n",
    "# hola\n",
    "_hola_  \n",
    "__hola__\n",
    "## hola\n",
    "* hola  \n",
    "___\n",
    "![100](imagen.png)\n",
    "![](data:image/jpeg;base64,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)"
   ]
  },
  {
   "cell_type": "markdown",
   "metadata": {},
   "source": [
    "escritura <font color='red'>cualquiera</font>  \n",
    "escritura <mark style='background-color:red'>cualquiera</mark>  \n"
   ]
  },
  {
   "cell_type": "markdown",
   "metadata": {},
   "source": [
    "# Comandos de Python\n"
   ]
  },
  {
   "cell_type": "code",
   "execution_count": 2,
   "metadata": {},
   "outputs": [
    {
     "name": "stdout",
     "output_type": "stream",
     "text": [
      "Jelou guorld\n"
     ]
    }
   ],
   "source": [
    "# esto es un comentario\n",
    "print(\"Jelou guorld\")"
   ]
  },
  {
   "cell_type": "code",
   "execution_count": 3,
   "metadata": {},
   "outputs": [
    {
     "name": "stdout",
     "output_type": "stream",
     "text": [
      "The Zen of Python, by Tim Peters\n",
      "\n",
      "Beautiful is better than ugly.\n",
      "Explicit is better than implicit.\n",
      "Simple is better than complex.\n",
      "Complex is better than complicated.\n",
      "Flat is better than nested.\n",
      "Sparse is better than dense.\n",
      "Readability counts.\n",
      "Special cases aren't special enough to break the rules.\n",
      "Although practicality beats purity.\n",
      "Errors should never pass silently.\n",
      "Unless explicitly silenced.\n",
      "In the face of ambiguity, refuse the temptation to guess.\n",
      "There should be one-- and preferably only one --obvious way to do it.\n",
      "Although that way may not be obvious at first unless you're Dutch.\n",
      "Now is better than never.\n",
      "Although never is often better than *right* now.\n",
      "If the implementation is hard to explain, it's a bad idea.\n",
      "If the implementation is easy to explain, it may be a good idea.\n",
      "Namespaces are one honking great idea -- let's do more of those!\n"
     ]
    }
   ],
   "source": [
    "import this"
   ]
  },
  {
   "cell_type": "markdown",
   "metadata": {},
   "source": [
    "## Librerías Básicas"
   ]
  },
  {
   "cell_type": "code",
   "execution_count": 4,
   "metadata": {},
   "outputs": [
    {
     "data": {
      "text/plain": [
       "'c:\\\\Users\\\\tomas\\\\Desktop\\\\Data Science - Desafío Latam\\\\Clase_28_04'"
      ]
     },
     "execution_count": 4,
     "metadata": {},
     "output_type": "execute_result"
    }
   ],
   "source": [
    "import os\n",
    "os.getcwd()"
   ]
  },
  {
   "cell_type": "markdown",
   "metadata": {},
   "source": [
    "# estructura para llamar funciones\n",
    "> python code: \n",
    "```py\n",
    " nombre_libreria.funcion(argumentos) # estructura en la que yo balblabala librería\n",
    " ```"
   ]
  },
  {
   "cell_type": "markdown",
   "metadata": {},
   "source": [
    "```py\n",
    "import libreria\n",
    "libreria.funcion(argumentos)\n",
    "```"
   ]
  },
  {
   "cell_type": "code",
   "execution_count": 7,
   "metadata": {},
   "outputs": [
    {
     "name": "stdout",
     "output_type": "stream",
     "text": [
      "5\n",
      "-3\n",
      "2925\n",
      "0.7755102040816326\n",
      "8\n",
      "1\n"
     ]
    }
   ],
   "source": [
    "print(2+3)\n",
    "print(2-5)\n",
    "print(45*65)\n",
    "print(76/98)\n",
    "print(2**3)\n",
    "print(3 % 2)"
   ]
  },
  {
   "cell_type": "code",
   "execution_count": 8,
   "metadata": {},
   "outputs": [],
   "source": [
    "x = 2 + 3\n",
    "y = x + 5\n",
    "z = y ** 2\n",
    "w = z / 10"
   ]
  },
  {
   "cell_type": "code",
   "execution_count": 10,
   "metadata": {},
   "outputs": [
    {
     "name": "stdout",
     "output_type": "stream",
     "text": [
      "5\n",
      "10\n",
      "100\n",
      "10.0\n"
     ]
    }
   ],
   "source": [
    "print(x)\n",
    "print(y)\n",
    "print(z)\n",
    "print(w)"
   ]
  },
  {
   "cell_type": "code",
   "execution_count": 14,
   "metadata": {},
   "outputs": [
    {
     "name": "stdout",
     "output_type": "stream",
     "text": [
      "y al cuadrado es igual a : 100 el valor de x es 5\n"
     ]
    }
   ],
   "source": [
    "print('y al cuadrado es igual a :', z, 'el valor de x es', x)"
   ]
  },
  {
   "cell_type": "code",
   "execution_count": 13,
   "metadata": {},
   "outputs": [
    {
     "name": "stdout",
     "output_type": "stream",
     "text": [
      "y al cuadrado es igual a 10\n"
     ]
    }
   ],
   "source": [
    "print(f'y al cuadrado es igual a {y}')"
   ]
  },
  {
   "cell_type": "code",
   "execution_count": 16,
   "metadata": {},
   "outputs": [
    {
     "name": "stdout",
     "output_type": "stream",
     "text": [
      "x + y es igual a 15\n"
     ]
    }
   ],
   "source": [
    "print(f'x + y es igual a {x + y}')"
   ]
  },
  {
   "cell_type": "code",
   "execution_count": 17,
   "metadata": {},
   "outputs": [
    {
     "name": "stdout",
     "output_type": "stream",
     "text": [
      "hola Thomas\n"
     ]
    }
   ],
   "source": [
    "nombre = 'Thomas'\n",
    "print(f'hola {nombre}')"
   ]
  },
  {
   "cell_type": "code",
   "execution_count": 20,
   "metadata": {},
   "outputs": [
    {
     "name": "stdout",
     "output_type": "stream",
     "text": [
      "Hola thomas\n"
     ]
    }
   ],
   "source": [
    "nombre = input()\n",
    "print(f'Hola {nombre}')"
   ]
  },
  {
   "cell_type": "code",
   "execution_count": 21,
   "metadata": {},
   "outputs": [
    {
     "name": "stdout",
     "output_type": "stream",
     "text": [
      "Hola \n"
     ]
    }
   ],
   "source": [
    "nombre = input('Ingrese un nombre con el cual saludarlo: ')\n",
    "print(f'Hola {nombre}')"
   ]
  },
  {
   "cell_type": "code",
   "execution_count": 23,
   "metadata": {},
   "outputs": [
    {
     "name": "stdout",
     "output_type": "stream",
     "text": [
      "Hola Thomas, su clave es Peet\n"
     ]
    }
   ],
   "source": [
    "import getpass\n",
    "\n",
    "nombre = input(\"Ingrese su nombre: \")\n",
    "clave = getpass.getpass('Ingrese su clave: ')\n",
    "print(f'Hola {nombre}, su clave es {clave}')"
   ]
  },
  {
   "cell_type": "code",
   "execution_count": null,
   "metadata": {},
   "outputs": [],
   "source": []
  }
 ],
 "metadata": {
  "interpreter": {
   "hash": "97ae724bfa85b9b34df7982b8bb8c7216f435b92902d749e4263f71162bea840"
  },
  "kernelspec": {
   "display_name": "Python 3.9.7",
   "language": "python",
   "name": "python3"
  },
  "language_info": {
   "codemirror_mode": {
    "name": "ipython",
    "version": 3
   },
   "file_extension": ".py",
   "mimetype": "text/x-python",
   "name": "python",
   "nbconvert_exporter": "python",
   "pygments_lexer": "ipython3",
   "version": "3.9.7"
  },
  "orig_nbformat": 4
 },
 "nbformat": 4,
 "nbformat_minor": 2
}
