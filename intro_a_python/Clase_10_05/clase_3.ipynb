{
 "cells": [
  {
   "cell_type": "markdown",
   "metadata": {},
   "source": [
    "# Control de flujo: if statement..."
   ]
  },
  {
   "cell_type": "code",
   "execution_count": 13,
   "metadata": {},
   "outputs": [],
   "source": [
    "# if prueba_logica:\n",
    "#    (indentacion)"
   ]
  },
  {
   "cell_type": "markdown",
   "metadata": {},
   "source": [
    "# Pruebas Lógicas simples!!"
   ]
  },
  {
   "cell_type": "code",
   "execution_count": 14,
   "metadata": {},
   "outputs": [
    {
     "name": "stdout",
     "output_type": "stream",
     "text": [
      "False\n",
      "False\n",
      "True\n"
     ]
    }
   ],
   "source": [
    "# <, >, <=, >=, == (igual a), != (distinto a): Una prueba que tiene como resultado un valor Booleano... True, False\n",
    "\n",
    "x = 10\n",
    "\n",
    "print(x == 7)\n",
    "print(x < 1)\n",
    "print(x != 4)\n"
   ]
  },
  {
   "cell_type": "code",
   "execution_count": 9,
   "metadata": {},
   "outputs": [
    {
     "name": "stdout",
     "output_type": "stream",
     "text": [
      "Usted no es el profesor\n"
     ]
    }
   ],
   "source": [
    "# Indentación (Importante)\n",
    "nombre = input('Cual es su nombre')\n",
    "\n",
    "if nombre == 'Alfonso':\n",
    "    print(\"Eres el profesor\")\n",
    "\n",
    "if nombre != 'Alfonso':\n",
    "    print(\"Usted no es el profesor\")\n",
    "elif nombre == 'Braulio':\n",
    "    print(\"Tu eres alumno de la g47\")"
   ]
  },
  {
   "cell_type": "code",
   "execution_count": 8,
   "metadata": {},
   "outputs": [
    {
     "name": "stdout",
     "output_type": "stream",
     "text": [
      "Usted si es el profesor\n"
     ]
    }
   ],
   "source": [
    "# else: en cualquier otro caso\n",
    "nombre = ''\n",
    "if nombre == 'Alfonso':\n",
    "    print('Tu eres el profesor')\n",
    "else:\n",
    "    print('Usted si es el profesor')"
   ]
  },
  {
   "cell_type": "code",
   "execution_count": 20,
   "metadata": {},
   "outputs": [
    {
     "name": "stdout",
     "output_type": "stream",
     "text": [
      "0 es múltiplo de 3 y 5... TicToc\n",
      "3 es múltiplo de 3 ... Tic\n",
      "5 es múltiplo de 5... Toc\n",
      "6 es múltiplo de 3 ... Tic\n",
      "9 es múltiplo de 3 ... Tic\n",
      "10 es múltiplo de 5... Toc\n",
      "12 es múltiplo de 3 ... Tic\n",
      "15 es múltiplo de 3 y 5... TicToc\n",
      "18 es múltiplo de 3 ... Tic\n",
      "20 es múltiplo de 5... Toc\n",
      "21 es múltiplo de 3 ... Tic\n",
      "24 es múltiplo de 3 ... Tic\n",
      "25 es múltiplo de 5... Toc\n",
      "27 es múltiplo de 3 ... Tic\n"
     ]
    }
   ],
   "source": [
    "## Tic, Toc, TicToc, El orden importa (Anidación)\n",
    "# El orden de las condiciones importa, De la más compleja a la más simple\n",
    "# Programa que si un número es múltiplo de 3 diga tic, si es múltiplo de 5 diga toc y si es múltiplo de 3 y de 5 diga TicToc\n",
    "\n",
    "\n",
    "for i in range(30):\n",
    "    if i % 5 == 0 and i % 3 == 0:\n",
    "        print(f'{i} es múltiplo de 3 y 5... TicToc')\n",
    "    elif i % 3 == 0:\n",
    "        print(f'{i} es múltiplo de 3 ... Tic')\n",
    "    elif i % 5 == 0:\n",
    "        print(f'{i} es múltiplo de 5... Toc')\n",
    "            \n"
   ]
  },
  {
   "cell_type": "code",
   "execution_count": null,
   "metadata": {},
   "outputs": [],
   "source": []
  }
 ],
 "metadata": {
  "interpreter": {
   "hash": "08482e685b51a3aec056495b9bb45dd4bdf3ffe89267ca99981f3c5125cf7365"
  },
  "kernelspec": {
   "display_name": "Python 3.9.12",
   "language": "python",
   "name": "python3"
  },
  "language_info": {
   "codemirror_mode": {
    "name": "ipython",
    "version": 3
   },
   "file_extension": ".py",
   "mimetype": "text/x-python",
   "name": "python",
   "nbconvert_exporter": "python",
   "pygments_lexer": "ipython3",
   "version": "3.9.12"
  },
  "orig_nbformat": 4
 },
 "nbformat": 4,
 "nbformat_minor": 2
}
