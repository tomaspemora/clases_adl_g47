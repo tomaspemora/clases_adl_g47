{
 "cells": [
  {
   "cell_type": "markdown",
   "metadata": {},
   "source": [
    "Me falto lo anterior de while \n",
    "\n",
    "# For loops\n"
   ]
  },
  {
   "cell_type": "code",
   "execution_count": 5,
   "metadata": {},
   "outputs": [
    {
     "name": "stdout",
     "output_type": "stream",
     "text": [
      "1\n",
      "2\n",
      "3\n"
     ]
    }
   ],
   "source": [
    "iterable = [1,2,3]\n",
    "for i in iterable:\n",
    "    print(i)"
   ]
  },
  {
   "cell_type": "code",
   "execution_count": 6,
   "metadata": {},
   "outputs": [
    {
     "name": "stdout",
     "output_type": "stream",
     "text": [
      "0\n",
      "1\n",
      "2\n",
      "3\n",
      "4\n",
      "5\n",
      "6\n",
      "7\n",
      "8\n",
      "9\n"
     ]
    }
   ],
   "source": [
    "for i in range(10):\n",
    "    print(i)"
   ]
  },
  {
   "cell_type": "code",
   "execution_count": 7,
   "metadata": {},
   "outputs": [
    {
     "name": "stdout",
     "output_type": "stream",
     "text": [
      "tijeras\n",
      "piedra\n",
      "papel\n",
      "manzana\n",
      "platano\n",
      "papaya\n"
     ]
    }
   ],
   "source": [
    "mano = ['tijeras','piedra','papel'] #iterable\n",
    "for i in mano:\n",
    "    print(i)\n",
    "\n",
    "frutas = ['manzana','platano','papaya']\n",
    "# for each: para cada fruta en frutas, imprimo la fruta\n",
    "for fruta in frutas:\n",
    "    print(fruta)"
   ]
  },
  {
   "cell_type": "code",
   "execution_count": 8,
   "metadata": {},
   "outputs": [
    {
     "name": "stdout",
     "output_type": "stream",
     "text": [
      "a\n",
      "s\n",
      "d\n",
      "j\n",
      "a\n",
      "o\n",
      "i\n",
      "u\n",
      "d\n",
      "i\n",
      "q\n",
      "j\n",
      "d\n",
      "o\n",
      "i\n",
      "q\n",
      "k\n",
      "l\n",
      "d\n",
      "m\n",
      "a\n",
      " \n",
      ".\n",
      "a\n",
      "a\n",
      "´\n",
      "ñ\n",
      "s\n",
      "c\n"
     ]
    }
   ],
   "source": [
    "texto = 'asdjaoiudiqjdoiqkldma .aa´ñsc'\n",
    "for letra in texto:\n",
    "    print(letra)"
   ]
  },
  {
   "cell_type": "markdown",
   "metadata": {},
   "source": [
    "## Pregunta: un diccionario es un iterable?"
   ]
  },
  {
   "cell_type": "code",
   "execution_count": 11,
   "metadata": {},
   "outputs": [
    {
     "name": "stdout",
     "output_type": "stream",
     "text": [
      "La manzana es de color verde\n",
      "La papaya es de color amarillo\n",
      "La naranja es de color naranja\n"
     ]
    }
   ],
   "source": [
    "frutas_dict = {'manzana':'verde','papaya':'amarillo', 'naranja':'naranja'}\n",
    "for fruta, color in frutas_dict.items():\n",
    "    print(f'La {fruta} es de color {color}')"
   ]
  },
  {
   "cell_type": "code",
   "execution_count": 17,
   "metadata": {},
   "outputs": [
    {
     "name": "stdout",
     "output_type": "stream",
     "text": [
      "El elemento 1 es tijeras\n",
      "El elemento 2 es piedra\n",
      "El elemento 3 es papel\n"
     ]
    }
   ],
   "source": [
    "for indice, elemento in enumerate(mano, start = 1):\n",
    "    print(f'El elemento {indice} es {elemento}')"
   ]
  },
  {
   "cell_type": "code",
   "execution_count": 21,
   "metadata": {},
   "outputs": [
    {
     "name": "stdout",
     "output_type": "stream",
     "text": [
      "El elemento tijeras es de color verde\n",
      "El elemento piedra es de color amarillo\n",
      "El elemento papel es de color naranja\n"
     ]
    }
   ],
   "source": [
    "for item_1, item_2 in zip(mano, frutas_dict.values()):\n",
    "    print(f'El elemento {item_1} es de color {item_2}')"
   ]
  },
  {
   "cell_type": "markdown",
   "metadata": {},
   "source": [
    "# Python Comprehensions\n",
    "\n"
   ]
  },
  {
   "cell_type": "code",
   "execution_count": 1,
   "metadata": {},
   "outputs": [
    {
     "data": {
      "text/plain": [
       "[1,\n",
       " 2,\n",
       " 'tic',\n",
       " 4,\n",
       " 5,\n",
       " 'tic',\n",
       " 7,\n",
       " 8,\n",
       " 'tic',\n",
       " 10,\n",
       " 11,\n",
       " 'tic',\n",
       " 13,\n",
       " 14,\n",
       " 'tic',\n",
       " 16,\n",
       " 17,\n",
       " 'tic',\n",
       " 19,\n",
       " 20,\n",
       " 'tic',\n",
       " 22,\n",
       " 23,\n",
       " 'tic',\n",
       " 25,\n",
       " 26,\n",
       " 'tic',\n",
       " 28,\n",
       " 29,\n",
       " 'tic',\n",
       " 31,\n",
       " 32,\n",
       " 'tic',\n",
       " 34,\n",
       " 35,\n",
       " 'tic',\n",
       " 37,\n",
       " 38,\n",
       " 'tic',\n",
       " 40,\n",
       " 41,\n",
       " 'tic',\n",
       " 43,\n",
       " 44,\n",
       " 'tic',\n",
       " 46,\n",
       " 47,\n",
       " 'tic',\n",
       " 49,\n",
       " 50,\n",
       " 'tic',\n",
       " 52,\n",
       " 53,\n",
       " 'tic',\n",
       " 55,\n",
       " 56,\n",
       " 'tic',\n",
       " 58,\n",
       " 59,\n",
       " 'tic',\n",
       " 61,\n",
       " 62,\n",
       " 'tic',\n",
       " 64,\n",
       " 65,\n",
       " 'tic',\n",
       " 67,\n",
       " 68,\n",
       " 'tic',\n",
       " 70,\n",
       " 71,\n",
       " 'tic',\n",
       " 73,\n",
       " 74,\n",
       " 'tic',\n",
       " 76,\n",
       " 77,\n",
       " 'tic',\n",
       " 79,\n",
       " 80,\n",
       " 'tic',\n",
       " 82,\n",
       " 83,\n",
       " 'tic',\n",
       " 85,\n",
       " 86,\n",
       " 'tic',\n",
       " 88,\n",
       " 89,\n",
       " 'tic',\n",
       " 91,\n",
       " 92,\n",
       " 'tic',\n",
       " 94,\n",
       " 95,\n",
       " 'tic',\n",
       " 97,\n",
       " 98,\n",
       " 'tic']"
      ]
     },
     "execution_count": 1,
     "metadata": {},
     "output_type": "execute_result"
    }
   ],
   "source": [
    "resultado = []\n",
    "for i in range(1,100):\n",
    "    if i % 3 == 0:\n",
    "        resultado.append('tic')\n",
    "    else:\n",
    "        resultado.append(i)\n",
    "resultado"
   ]
  },
  {
   "cell_type": "code",
   "execution_count": 8,
   "metadata": {},
   "outputs": [
    {
     "data": {
      "text/plain": [
       "[1,\n",
       " 2,\n",
       " 'Tic',\n",
       " 4,\n",
       " 5,\n",
       " 'Tic',\n",
       " 7,\n",
       " 8,\n",
       " 'Tic',\n",
       " 10,\n",
       " 11,\n",
       " 'Tic',\n",
       " 13,\n",
       " 14,\n",
       " 'Tic',\n",
       " 16,\n",
       " 17,\n",
       " 'Tic',\n",
       " 19]"
      ]
     },
     "execution_count": 8,
     "metadata": {},
     "output_type": "execute_result"
    }
   ],
   "source": [
    "['Tic' if i % 3 == 0 else i for i in range(1,20)] # if / else / elif (no está disponible)"
   ]
  },
  {
   "cell_type": "code",
   "execution_count": 7,
   "metadata": {},
   "outputs": [
    {
     "data": {
      "text/plain": [
       "[3, 6, 9, 12, 15, 18]"
      ]
     },
     "execution_count": 7,
     "metadata": {},
     "output_type": "execute_result"
    }
   ],
   "source": [
    "resultado = []\n",
    "for i in range(1,20):\n",
    "    if i % 3 == 0: \n",
    "        resultado.append(i)\n",
    "resultado"
   ]
  },
  {
   "cell_type": "code",
   "execution_count": 6,
   "metadata": {},
   "outputs": [
    {
     "data": {
      "text/plain": [
       "[3, 6, 9, 12, 15, 18]"
      ]
     },
     "execution_count": 6,
     "metadata": {},
     "output_type": "execute_result"
    }
   ],
   "source": [
    "[i for i in range(1, 20) if i % 3 == 0] # segunda manera de escribir python comprehensions (filtrado)"
   ]
  },
  {
   "cell_type": "code",
   "execution_count": 14,
   "metadata": {},
   "outputs": [
    {
     "data": {
      "text/plain": [
       "generator"
      ]
     },
     "execution_count": 14,
     "metadata": {},
     "output_type": "execute_result"
    }
   ],
   "source": [
    "type(i for i in range(1, 20) if i % 3 == 0)\n"
   ]
  },
  {
   "cell_type": "code",
   "execution_count": 19,
   "metadata": {},
   "outputs": [
    {
     "data": {
      "text/plain": [
       "'greetings'"
      ]
     },
     "execution_count": 19,
     "metadata": {},
     "output_type": "execute_result"
    }
   ],
   "source": [
    "# supongamos que queremos traducir rapidamente palabras inglés/español\n",
    "traductor = dict(hola = 'hello', chao = 'bye', saludos = 'greetings')\n",
    "\n",
    "traductor['saludos']"
   ]
  },
  {
   "cell_type": "code",
   "execution_count": 29,
   "metadata": {},
   "outputs": [
    {
     "name": "stdout",
     "output_type": "stream",
     "text": [
      "{'hello': 'hola', 'bye': 'chao', 'greetings': 'saludos'}\n"
     ]
    }
   ],
   "source": [
    "# pero si ahora quiero cambiar el sentido de la traducción\n",
    "translator = {v:k for k,v in traductor.items()}\n",
    "print(translator)"
   ]
  }
 ],
 "metadata": {
  "interpreter": {
   "hash": "08482e685b51a3aec056495b9bb45dd4bdf3ffe89267ca99981f3c5125cf7365"
  },
  "kernelspec": {
   "display_name": "Python 3.9.12",
   "language": "python",
   "name": "python3"
  },
  "language_info": {
   "codemirror_mode": {
    "name": "ipython",
    "version": 3
   },
   "file_extension": ".py",
   "mimetype": "text/x-python",
   "name": "python",
   "nbconvert_exporter": "python",
   "pygments_lexer": "ipython3",
   "version": "3.9.12"
  },
  "orig_nbformat": 4
 },
 "nbformat": 4,
 "nbformat_minor": 2
}
