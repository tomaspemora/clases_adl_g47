{
 "cells": [
  {
   "cell_type": "markdown",
   "metadata": {},
   "source": [
    "# Estructura de Datos\n",
    "\n",
    "## Listas"
   ]
  },
  {
   "cell_type": "code",
   "execution_count": 71,
   "metadata": {},
   "outputs": [],
   "source": [
    "x = 4\n",
    "y = 24.67"
   ]
  },
  {
   "cell_type": "code",
   "execution_count": 72,
   "metadata": {},
   "outputs": [],
   "source": [
    "# 4 tipos de estructuras... listas, diccionarios, tuplas (no son muy útiles), sets (aprovechar sus propiedades) son interesantes...\n",
    "# Numpy Array, Pandas Series y Dataframes"
   ]
  },
  {
   "cell_type": "code",
   "execution_count": 73,
   "metadata": {},
   "outputs": [],
   "source": [
    "animales = ['gato', 'perro', 'raton'] # una colección, []: lista\n",
    "lista_heterogenea = [1, \"gato\", 3.0, False]"
   ]
  },
  {
   "cell_type": "code",
   "execution_count": 74,
   "metadata": {},
   "outputs": [
    {
     "data": {
      "text/plain": [
       "list"
      ]
     },
     "execution_count": 74,
     "metadata": {},
     "output_type": "execute_result"
    }
   ],
   "source": [
    "type(animales) # lista, diccionarios, son estructuras, vs los strings, los boolean, los int/float son tipos de datos\n",
    "\n",
    "type(lista_heterogenea)"
   ]
  },
  {
   "cell_type": "code",
   "execution_count": 75,
   "metadata": {},
   "outputs": [
    {
     "name": "stdout",
     "output_type": "stream",
     "text": [
      "gato\n",
      "perro\n",
      "raton\n"
     ]
    }
   ],
   "source": [
    "# indexables\n",
    "print(animales[0])\n",
    "\n",
    "print(animales[1])\n",
    "\n",
    "print(animales[2])"
   ]
  },
  {
   "cell_type": "code",
   "execution_count": 76,
   "metadata": {},
   "outputs": [
    {
     "name": "stdout",
     "output_type": "stream",
     "text": [
      "raton\n",
      "['gato', 'perro']\n",
      "['raton']\n"
     ]
    }
   ],
   "source": [
    "print(animales[-1]) # último\n",
    "\n",
    "print(animales[:2]) # devuelve del inicio hasta el valor antes del 2\n",
    "print(animales[2:]) # devuelve desde el 2 hasta el último sin superponerse con la anterio"
   ]
  },
  {
   "cell_type": "code",
   "execution_count": 77,
   "metadata": {},
   "outputs": [
    {
     "data": {
      "text/plain": [
       "['gato', 'perro']"
      ]
     },
     "execution_count": 77,
     "metadata": {},
     "output_type": "execute_result"
    }
   ],
   "source": [
    "animales[-3:-1]"
   ]
  },
  {
   "cell_type": "code",
   "execution_count": 78,
   "metadata": {},
   "outputs": [
    {
     "name": "stdout",
     "output_type": "stream",
     "text": [
      "['gato', 'perro', 'raton']\n",
      "['gato', 'perro', 'raton']\n",
      "['gato', 'perro', 'raton']\n"
     ]
    }
   ],
   "source": [
    "print(animales)\n",
    "print(animales[0:])\n",
    "print(animales[:])"
   ]
  },
  {
   "cell_type": "code",
   "execution_count": 79,
   "metadata": {},
   "outputs": [
    {
     "name": "stdout",
     "output_type": "stream",
     "text": [
      "z\n",
      "xyz\n",
      "abcdef\n",
      "acegi\n"
     ]
    }
   ],
   "source": [
    "texto = 'abcdefghijklmnopqrstuvwxyz'\n",
    "print(texto[-1]) # último carcater\n",
    "print(texto[-3:]) # tres últimos caracteres\n",
    "print(texto[:6]) # primeros 6 caracteres\n",
    "\n",
    "print(texto[:10:2]) # indexación con paso específico."
   ]
  },
  {
   "cell_type": "markdown",
   "metadata": {},
   "source": [
    "# sys.argv se utiliza SOLO EN LOS SCRIPTS\n",
    "\n",
    "# ver script ./argv.py"
   ]
  },
  {
   "cell_type": "code",
   "execution_count": 80,
   "metadata": {},
   "outputs": [
    {
     "data": {
      "text/plain": [
       "['__add__',\n",
       " '__class__',\n",
       " '__class_getitem__',\n",
       " '__contains__',\n",
       " '__delattr__',\n",
       " '__delitem__',\n",
       " '__dir__',\n",
       " '__doc__',\n",
       " '__eq__',\n",
       " '__format__',\n",
       " '__ge__',\n",
       " '__getattribute__',\n",
       " '__getitem__',\n",
       " '__gt__',\n",
       " '__hash__',\n",
       " '__iadd__',\n",
       " '__imul__',\n",
       " '__init__',\n",
       " '__init_subclass__',\n",
       " '__iter__',\n",
       " '__le__',\n",
       " '__len__',\n",
       " '__lt__',\n",
       " '__mul__',\n",
       " '__ne__',\n",
       " '__new__',\n",
       " '__reduce__',\n",
       " '__reduce_ex__',\n",
       " '__repr__',\n",
       " '__reversed__',\n",
       " '__rmul__',\n",
       " '__setattr__',\n",
       " '__setitem__',\n",
       " '__sizeof__',\n",
       " '__str__',\n",
       " '__subclasshook__',\n",
       " 'append',\n",
       " 'clear',\n",
       " 'copy',\n",
       " 'count',\n",
       " 'extend',\n",
       " 'index',\n",
       " 'insert',\n",
       " 'pop',\n",
       " 'remove',\n",
       " 'reverse',\n",
       " 'sort']"
      ]
     },
     "execution_count": 80,
     "metadata": {},
     "output_type": "execute_result"
    }
   ],
   "source": [
    "dir(animales)"
   ]
  },
  {
   "cell_type": "code",
   "execution_count": 81,
   "metadata": {},
   "outputs": [],
   "source": [
    "# append: apendear: agregar algo al final...\n",
    "\n",
    "animales.append('loro')"
   ]
  },
  {
   "cell_type": "code",
   "execution_count": 82,
   "metadata": {},
   "outputs": [
    {
     "name": "stdout",
     "output_type": "stream",
     "text": [
      "['gato', 'perro', 'raton', 'loro']\n",
      "['gato', 'perro', 'raton', 'loro', ['a', 'b', 'c']]\n"
     ]
    }
   ],
   "source": [
    "print(animales)\n",
    "animales.append(['a','b','c'])\n",
    "print(animales)"
   ]
  },
  {
   "cell_type": "code",
   "execution_count": 83,
   "metadata": {},
   "outputs": [
    {
     "name": "stdout",
     "output_type": "stream",
     "text": [
      "['gato', 'perro', 'raton', 'loro', ['a', 'b', 'c']]\n",
      "['gato', 'perro', 'raton', 'loro']\n",
      "['gato', 'raton', 'loro']\n"
     ]
    }
   ],
   "source": [
    "print(animales)\n",
    "animales.pop()\n",
    "print(animales)\n",
    "animales.pop(1)\n",
    "print(animales)"
   ]
  },
  {
   "cell_type": "code",
   "execution_count": 84,
   "metadata": {},
   "outputs": [
    {
     "name": "stdout",
     "output_type": "stream",
     "text": [
      "['gato', 'raton', 'jirafa', 'loro']\n"
     ]
    }
   ],
   "source": [
    "animales.insert(2,'jirafa')\n",
    "print(animales)"
   ]
  },
  {
   "cell_type": "code",
   "execution_count": 85,
   "metadata": {},
   "outputs": [
    {
     "name": "stdout",
     "output_type": "stream",
     "text": [
      "['a', 'b', 'c', '1', '2', '3']\n",
      "None\n"
     ]
    }
   ],
   "source": [
    "print(['a','b','c'] + ['1','2','3'])\n",
    "print(['a','b','c'].extend(['1','2','3']))"
   ]
  },
  {
   "cell_type": "code",
   "execution_count": 86,
   "metadata": {},
   "outputs": [
    {
     "name": "stdout",
     "output_type": "stream",
     "text": [
      "['gato', 'raton', 'loro']\n"
     ]
    }
   ],
   "source": [
    "animales.remove('jirafa')\n",
    "print(animales)"
   ]
  },
  {
   "cell_type": "code",
   "execution_count": 87,
   "metadata": {},
   "outputs": [
    {
     "name": "stdout",
     "output_type": "stream",
     "text": [
      "['gato', 'loro', 'raton']\n"
     ]
    }
   ],
   "source": [
    "animales.sort()\n",
    "print(animales)"
   ]
  },
  {
   "cell_type": "code",
   "execution_count": 88,
   "metadata": {},
   "outputs": [
    {
     "data": {
      "text/plain": [
       "['gato maltés', 'gato maltés', 'perro']"
      ]
     },
     "execution_count": 88,
     "metadata": {},
     "output_type": "execute_result"
    }
   ],
   "source": [
    "animales = [ 'jirafa',\n",
    "            'perro',\n",
    "            'perro'\n",
    "            ]\n",
    "animales[0:2] = 2*['gato maltés']\n",
    "animales"
   ]
  },
  {
   "cell_type": "markdown",
   "metadata": {},
   "source": [
    "# Diccionarios"
   ]
  },
  {
   "cell_type": "code",
   "execution_count": 89,
   "metadata": {},
   "outputs": [
    {
     "name": "stdout",
     "output_type": "stream",
     "text": [
      "hola\n",
      "31\n",
      "25\n"
     ]
    }
   ],
   "source": [
    "diccionario = {\"a\" : 25, \"b\": 31, \"c\": \"hola\"} # usa {}\n",
    "diccionario # no es ordenado\n",
    "\n",
    "print(diccionario['c'])\n",
    "print(diccionario['b'])\n",
    "print(diccionario['a'])"
   ]
  },
  {
   "cell_type": "code",
   "execution_count": 90,
   "metadata": {},
   "outputs": [
    {
     "data": {
      "text/plain": [
       "'hola'"
      ]
     },
     "execution_count": 90,
     "metadata": {},
     "output_type": "execute_result"
    }
   ],
   "source": [
    "diccionario = dict(a = 25, b = 31, c = 'hola')\n",
    "diccionario['c']"
   ]
  },
  {
   "cell_type": "markdown",
   "metadata": {},
   "source": [
    "> Métodos: get(), pop(), update(), keys(), values(), item()..."
   ]
  },
  {
   "cell_type": "code",
   "execution_count": 91,
   "metadata": {},
   "outputs": [
    {
     "data": {
      "text/plain": [
       "25"
      ]
     },
     "execution_count": 91,
     "metadata": {},
     "output_type": "execute_result"
    }
   ],
   "source": [
    "diccionario.get('a')"
   ]
  },
  {
   "cell_type": "code",
   "execution_count": 92,
   "metadata": {},
   "outputs": [
    {
     "name": "stdout",
     "output_type": "stream",
     "text": [
      "{'a': 25, 'b': 65, 'c': 'hola'}\n"
     ]
    }
   ],
   "source": [
    "diccionario.update(dict(b= 65))\n",
    "print(diccionario)"
   ]
  },
  {
   "cell_type": "code",
   "execution_count": 93,
   "metadata": {},
   "outputs": [
    {
     "name": "stdout",
     "output_type": "stream",
     "text": [
      "{'a': 25, 'b': 54, 'c': 'hola', 'z': 0}\n"
     ]
    }
   ],
   "source": [
    "diccionario.update(dict(b = 54, z = 0))\n",
    "print(diccionario)"
   ]
  },
  {
   "cell_type": "code",
   "execution_count": 94,
   "metadata": {},
   "outputs": [
    {
     "data": {
      "text/plain": [
       "{'a': 25, 'b': 54, 'c': 'hola', 'z': 0}"
      ]
     },
     "execution_count": 94,
     "metadata": {},
     "output_type": "execute_result"
    }
   ],
   "source": [
    "len(diccionario)\n",
    "diccionario"
   ]
  },
  {
   "cell_type": "code",
   "execution_count": 95,
   "metadata": {},
   "outputs": [
    {
     "name": "stdout",
     "output_type": "stream",
     "text": [
      "dict_keys(['a', 'b', 'c', 'z'])\n",
      "dict_values([25, 54, 'hola', 0])\n",
      "dict_items([('a', 25), ('b', 54), ('c', 'hola'), ('z', 0)])\n"
     ]
    }
   ],
   "source": [
    "\n",
    "print(diccionario.keys())\n",
    "print(diccionario.values())\n",
    "print(diccionario.items())\n"
   ]
  },
  {
   "cell_type": "markdown",
   "metadata": {},
   "source": [
    "# Tuplas y el unpacking"
   ]
  },
  {
   "cell_type": "code",
   "execution_count": 96,
   "metadata": {},
   "outputs": [
    {
     "data": {
      "text/plain": [
       "tuple"
      ]
     },
     "execution_count": 96,
     "metadata": {},
     "output_type": "execute_result"
    }
   ],
   "source": [
    "type((2,3,4)) # lentas"
   ]
  },
  {
   "cell_type": "code",
   "execution_count": 98,
   "metadata": {},
   "outputs": [
    {
     "name": "stdout",
     "output_type": "stream",
     "text": [
      "5\n",
      "3\n",
      "2\n"
     ]
    },
    {
     "data": {
      "text/plain": [
       "('gato maltés', 'gato maltés', 'perro')"
      ]
     },
     "execution_count": 98,
     "metadata": {},
     "output_type": "execute_result"
    }
   ],
   "source": [
    "x,y,z = (5,3,2) # unpacking\n",
    "\n",
    "print(x)\n",
    "print(y)\n",
    "print(z)\n",
    "\n",
    "animales[0], animales[1], animales[2]"
   ]
  },
  {
   "cell_type": "code",
   "execution_count": 99,
   "metadata": {},
   "outputs": [
    {
     "data": {
      "text/plain": [
       "(25, 54, 0)"
      ]
     },
     "execution_count": 99,
     "metadata": {},
     "output_type": "execute_result"
    }
   ],
   "source": [
    "diccionario.get('a','No existe'), diccionario['b'],diccionario['z']"
   ]
  },
  {
   "cell_type": "code",
   "execution_count": 100,
   "metadata": {},
   "outputs": [],
   "source": [
    "x = (1,2,3)\n",
    "x = (6,2,3)"
   ]
  },
  {
   "cell_type": "markdown",
   "metadata": {},
   "source": [
    "# Sets"
   ]
  },
  {
   "cell_type": "code",
   "execution_count": 102,
   "metadata": {},
   "outputs": [],
   "source": [
    "# sets no son ordenados... por lo tampoco tienen indice, pero tampoco clave...\n",
    "# no es muy útil..."
   ]
  },
  {
   "cell_type": "code",
   "execution_count": 104,
   "metadata": {},
   "outputs": [
    {
     "data": {
      "text/plain": [
       "['jirafa', 'loro', 'perro', 'gato']"
      ]
     },
     "execution_count": 104,
     "metadata": {},
     "output_type": "execute_result"
    }
   ],
   "source": [
    "animales = ['perro', 'perro', 'loro','loro','loro','jirafa','gato']\n",
    "list(set(animales))"
   ]
  },
  {
   "cell_type": "code",
   "execution_count": 107,
   "metadata": {},
   "outputs": [
    {
     "data": {
      "text/plain": [
       "{'jirafa', 'loro'}"
      ]
     },
     "execution_count": 107,
     "metadata": {},
     "output_type": "execute_result"
    }
   ],
   "source": [
    "animales # animales disponibles....\n",
    "animales_tienda_competidora = ['perro', 'gato']\n",
    "set(animales) - set(animales_tienda_competidora)"
   ]
  },
  {
   "cell_type": "markdown",
   "metadata": {},
   "source": [
    "Mi grupo es:\n",
    "\n",
    "- Blanca Arcos\n",
    "- Braulio Aguila"
   ]
  }
 ],
 "metadata": {
  "interpreter": {
   "hash": "61a9a48f24c5a6e4f1a30b1d52f44b585717aaefc7cb08d491ba164df89a02b2"
  },
  "kernelspec": {
   "display_name": "Python 3.9.12",
   "language": "python",
   "name": "python3"
  },
  "language_info": {
   "codemirror_mode": {
    "name": "ipython",
    "version": 3
   },
   "file_extension": ".py",
   "mimetype": "text/x-python",
   "name": "python",
   "nbconvert_exporter": "python",
   "pygments_lexer": "ipython3",
   "version": "3.9.12"
  },
  "orig_nbformat": 4
 },
 "nbformat": 4,
 "nbformat_minor": 2
}
