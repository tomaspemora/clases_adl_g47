{
 "cells": [
  {
   "cell_type": "code",
   "execution_count": 5,
   "metadata": {},
   "outputs": [],
   "source": [
    "import pandas as pd\n",
    "import numpy as np \n",
    "from sklearn.tree import DecisionTreeClassifier, plot_tree, export_graphviz\n",
    "import matplotlib.pyplot as plt\n",
    "\n",
    "from sklearn.pipeline import Pipeline\n",
    "from feature_engine.encoding import OneHotEncoder, OrdinalEncoder\n",
    "from sklearn.model_selection import train_test_split, GridSearchCV\n",
    "\n",
    "from sklearn.metrics import classification_report\n",
    "from sklearn.preprocessing import StandardScaler\n",
    "from feature_engine.wrappers import SklearnTransformerWrapper\n",
    "\n",
    "from sklearn import set_config\n",
    "\n",
    "import graphviz\n",
    "import pydotplus\n",
    "\n",
    "set_config(display='diagram')"
   ]
  },
  {
   "cell_type": "code",
   "execution_count": 2,
   "metadata": {},
   "outputs": [
    {
     "data": {
      "text/html": [
       "<div>\n",
       "<style scoped>\n",
       "    .dataframe tbody tr th:only-of-type {\n",
       "        vertical-align: middle;\n",
       "    }\n",
       "\n",
       "    .dataframe tbody tr th {\n",
       "        vertical-align: top;\n",
       "    }\n",
       "\n",
       "    .dataframe thead th {\n",
       "        text-align: right;\n",
       "    }\n",
       "</style>\n",
       "<table border=\"1\" class=\"dataframe\">\n",
       "  <thead>\n",
       "    <tr style=\"text-align: right;\">\n",
       "      <th></th>\n",
       "      <th>Salud</th>\n",
       "      <th>Temperatura</th>\n",
       "      <th>Salir</th>\n",
       "    </tr>\n",
       "  </thead>\n",
       "  <tbody>\n",
       "    <tr>\n",
       "      <th>0</th>\n",
       "      <td>Enfermo</td>\n",
       "      <td>Baja</td>\n",
       "      <td>N</td>\n",
       "    </tr>\n",
       "    <tr>\n",
       "      <th>1</th>\n",
       "      <td>Enfermo</td>\n",
       "      <td>Alta</td>\n",
       "      <td>S</td>\n",
       "    </tr>\n",
       "    <tr>\n",
       "      <th>2</th>\n",
       "      <td>No enfermo</td>\n",
       "      <td>Baja</td>\n",
       "      <td>S</td>\n",
       "    </tr>\n",
       "    <tr>\n",
       "      <th>3</th>\n",
       "      <td>No enfermo</td>\n",
       "      <td>Baja</td>\n",
       "      <td>N</td>\n",
       "    </tr>\n",
       "    <tr>\n",
       "      <th>4</th>\n",
       "      <td>No enfermo</td>\n",
       "      <td>Alta</td>\n",
       "      <td>S</td>\n",
       "    </tr>\n",
       "    <tr>\n",
       "      <th>5</th>\n",
       "      <td>Enfermo</td>\n",
       "      <td>Alta</td>\n",
       "      <td>N</td>\n",
       "    </tr>\n",
       "    <tr>\n",
       "      <th>6</th>\n",
       "      <td>No enfermo</td>\n",
       "      <td>Baja</td>\n",
       "      <td>N</td>\n",
       "    </tr>\n",
       "    <tr>\n",
       "      <th>7</th>\n",
       "      <td>No enfermo</td>\n",
       "      <td>Alta</td>\n",
       "      <td>S</td>\n",
       "    </tr>\n",
       "  </tbody>\n",
       "</table>\n",
       "</div>"
      ],
      "text/plain": [
       "        Salud Temperatura Salir\n",
       "0     Enfermo        Baja     N\n",
       "1     Enfermo        Alta     S\n",
       "2  No enfermo        Baja     S\n",
       "3  No enfermo        Baja     N\n",
       "4  No enfermo        Alta     S\n",
       "5     Enfermo        Alta     N\n",
       "6  No enfermo        Baja     N\n",
       "7  No enfermo        Alta     S"
      ]
     },
     "execution_count": 2,
     "metadata": {},
     "output_type": "execute_result"
    }
   ],
   "source": [
    "data = {'Salud': ['Enfermo', 'Enfermo', 'No enfermo', 'No enfermo', 'No enfermo', 'Enfermo', 'No enfermo', 'No enfermo'],\n",
    "        'Temperatura': ['Baja', 'Alta', 'Baja', 'Baja', 'Alta', 'Alta', 'Baja', 'Alta'],\n",
    "        'Salir': ['N', 'S', 'S', 'N', 'S', 'N', 'N', 'S']}\n",
    "\n",
    "df = pd.DataFrame(data)\n",
    "df\n"
   ]
  },
  {
   "cell_type": "code",
   "execution_count": 6,
   "metadata": {},
   "outputs": [
    {
     "data": {
      "text/html": [
       "<div>\n",
       "<style scoped>\n",
       "    .dataframe tbody tr th:only-of-type {\n",
       "        vertical-align: middle;\n",
       "    }\n",
       "\n",
       "    .dataframe tbody tr th {\n",
       "        vertical-align: top;\n",
       "    }\n",
       "\n",
       "    .dataframe thead th {\n",
       "        text-align: right;\n",
       "    }\n",
       "</style>\n",
       "<table border=\"1\" class=\"dataframe\">\n",
       "  <thead>\n",
       "    <tr style=\"text-align: right;\">\n",
       "      <th></th>\n",
       "      <th>Salud</th>\n",
       "      <th>Temperatura</th>\n",
       "      <th>Salir</th>\n",
       "    </tr>\n",
       "  </thead>\n",
       "  <tbody>\n",
       "    <tr>\n",
       "      <th>0</th>\n",
       "      <td>0</td>\n",
       "      <td>0</td>\n",
       "      <td>0</td>\n",
       "    </tr>\n",
       "    <tr>\n",
       "      <th>1</th>\n",
       "      <td>0</td>\n",
       "      <td>1</td>\n",
       "      <td>1</td>\n",
       "    </tr>\n",
       "    <tr>\n",
       "      <th>2</th>\n",
       "      <td>1</td>\n",
       "      <td>0</td>\n",
       "      <td>1</td>\n",
       "    </tr>\n",
       "    <tr>\n",
       "      <th>3</th>\n",
       "      <td>1</td>\n",
       "      <td>0</td>\n",
       "      <td>0</td>\n",
       "    </tr>\n",
       "    <tr>\n",
       "      <th>4</th>\n",
       "      <td>1</td>\n",
       "      <td>1</td>\n",
       "      <td>1</td>\n",
       "    </tr>\n",
       "    <tr>\n",
       "      <th>5</th>\n",
       "      <td>0</td>\n",
       "      <td>1</td>\n",
       "      <td>0</td>\n",
       "    </tr>\n",
       "    <tr>\n",
       "      <th>6</th>\n",
       "      <td>1</td>\n",
       "      <td>0</td>\n",
       "      <td>0</td>\n",
       "    </tr>\n",
       "    <tr>\n",
       "      <th>7</th>\n",
       "      <td>1</td>\n",
       "      <td>1</td>\n",
       "      <td>1</td>\n",
       "    </tr>\n",
       "  </tbody>\n",
       "</table>\n",
       "</div>"
      ],
      "text/plain": [
       "   Salud  Temperatura  Salir\n",
       "0      0            0      0\n",
       "1      0            1      1\n",
       "2      1            0      1\n",
       "3      1            0      0\n",
       "4      1            1      1\n",
       "5      0            1      0\n",
       "6      1            0      0\n",
       "7      1            1      1"
      ]
     },
     "execution_count": 6,
     "metadata": {},
     "output_type": "execute_result"
    }
   ],
   "source": [
    "ord = OrdinalEncoder(encoding_method='arbitrary')\n",
    "df_new = ord.fit_transform(df)\n",
    "df_new"
   ]
  },
  {
   "cell_type": "code",
   "execution_count": 9,
   "metadata": {},
   "outputs": [
    {
     "data": {
      "text/html": [
       "<style>#sk-container-id-2 {color: black;background-color: white;}#sk-container-id-2 pre{padding: 0;}#sk-container-id-2 div.sk-toggleable {background-color: white;}#sk-container-id-2 label.sk-toggleable__label {cursor: pointer;display: block;width: 100%;margin-bottom: 0;padding: 0.3em;box-sizing: border-box;text-align: center;}#sk-container-id-2 label.sk-toggleable__label-arrow:before {content: \"▸\";float: left;margin-right: 0.25em;color: #696969;}#sk-container-id-2 label.sk-toggleable__label-arrow:hover:before {color: black;}#sk-container-id-2 div.sk-estimator:hover label.sk-toggleable__label-arrow:before {color: black;}#sk-container-id-2 div.sk-toggleable__content {max-height: 0;max-width: 0;overflow: hidden;text-align: left;background-color: #f0f8ff;}#sk-container-id-2 div.sk-toggleable__content pre {margin: 0.2em;color: black;border-radius: 0.25em;background-color: #f0f8ff;}#sk-container-id-2 input.sk-toggleable__control:checked~div.sk-toggleable__content {max-height: 200px;max-width: 100%;overflow: auto;}#sk-container-id-2 input.sk-toggleable__control:checked~label.sk-toggleable__label-arrow:before {content: \"▾\";}#sk-container-id-2 div.sk-estimator input.sk-toggleable__control:checked~label.sk-toggleable__label {background-color: #d4ebff;}#sk-container-id-2 div.sk-label input.sk-toggleable__control:checked~label.sk-toggleable__label {background-color: #d4ebff;}#sk-container-id-2 input.sk-hidden--visually {border: 0;clip: rect(1px 1px 1px 1px);clip: rect(1px, 1px, 1px, 1px);height: 1px;margin: -1px;overflow: hidden;padding: 0;position: absolute;width: 1px;}#sk-container-id-2 div.sk-estimator {font-family: monospace;background-color: #f0f8ff;border: 1px dotted black;border-radius: 0.25em;box-sizing: border-box;margin-bottom: 0.5em;}#sk-container-id-2 div.sk-estimator:hover {background-color: #d4ebff;}#sk-container-id-2 div.sk-parallel-item::after {content: \"\";width: 100%;border-bottom: 1px solid gray;flex-grow: 1;}#sk-container-id-2 div.sk-label:hover label.sk-toggleable__label {background-color: #d4ebff;}#sk-container-id-2 div.sk-serial::before {content: \"\";position: absolute;border-left: 1px solid gray;box-sizing: border-box;top: 0;bottom: 0;left: 50%;z-index: 0;}#sk-container-id-2 div.sk-serial {display: flex;flex-direction: column;align-items: center;background-color: white;padding-right: 0.2em;padding-left: 0.2em;position: relative;}#sk-container-id-2 div.sk-item {position: relative;z-index: 1;}#sk-container-id-2 div.sk-parallel {display: flex;align-items: stretch;justify-content: center;background-color: white;position: relative;}#sk-container-id-2 div.sk-item::before, #sk-container-id-2 div.sk-parallel-item::before {content: \"\";position: absolute;border-left: 1px solid gray;box-sizing: border-box;top: 0;bottom: 0;left: 50%;z-index: -1;}#sk-container-id-2 div.sk-parallel-item {display: flex;flex-direction: column;z-index: 1;position: relative;background-color: white;}#sk-container-id-2 div.sk-parallel-item:first-child::after {align-self: flex-end;width: 50%;}#sk-container-id-2 div.sk-parallel-item:last-child::after {align-self: flex-start;width: 50%;}#sk-container-id-2 div.sk-parallel-item:only-child::after {width: 0;}#sk-container-id-2 div.sk-dashed-wrapped {border: 1px dashed gray;margin: 0 0.4em 0.5em 0.4em;box-sizing: border-box;padding-bottom: 0.4em;background-color: white;}#sk-container-id-2 div.sk-label label {font-family: monospace;font-weight: bold;display: inline-block;line-height: 1.2em;}#sk-container-id-2 div.sk-label-container {text-align: center;}#sk-container-id-2 div.sk-container {/* jupyter's `normalize.less` sets `[hidden] { display: none; }` but bootstrap.min.css set `[hidden] { display: none !important; }` so we also need the `!important` here to be able to override the default hidden behavior on the sphinx rendered scikit-learn.org. See: https://github.com/scikit-learn/scikit-learn/issues/21755 */display: inline-block !important;position: relative;}#sk-container-id-2 div.sk-text-repr-fallback {display: none;}</style><div id=\"sk-container-id-2\" class=\"sk-top-container\"><div class=\"sk-text-repr-fallback\"><pre>DecisionTreeClassifier(random_state=123)</pre><b>In a Jupyter environment, please rerun this cell to show the HTML representation or trust the notebook. <br />On GitHub, the HTML representation is unable to render, please try loading this page with nbviewer.org.</b></div><div class=\"sk-container\" hidden><div class=\"sk-item\"><div class=\"sk-estimator sk-toggleable\"><input class=\"sk-toggleable__control sk-hidden--visually\" id=\"sk-estimator-id-2\" type=\"checkbox\" checked><label for=\"sk-estimator-id-2\" class=\"sk-toggleable__label sk-toggleable__label-arrow\">DecisionTreeClassifier</label><div class=\"sk-toggleable__content\"><pre>DecisionTreeClassifier(random_state=123)</pre></div></div></div></div></div>"
      ],
      "text/plain": [
       "DecisionTreeClassifier(random_state=123)"
      ]
     },
     "execution_count": 9,
     "metadata": {},
     "output_type": "execute_result"
    }
   ],
   "source": [
    "X = df_new.drop(columns='Salir')\n",
    "y = df_new.Salir\n",
    "\n",
    "## Voy a utilizar el árbol de decisión como un modelo explicativo... quiero entender la estructura de la data\n",
    "\n",
    "dt = DecisionTreeClassifier(random_state=123)\n",
    "\n",
    "dt.fit(X,y)"
   ]
  },
  {
   "cell_type": "code",
   "execution_count": 11,
   "metadata": {},
   "outputs": [
    {
     "data": {
      "image/png": "[encoded data removed]",
      "text/plain": [
       "<Figure size 720x576 with 1 Axes>"
      ]
     },
     "metadata": {
      "needs_background": "light"
     },
     "output_type": "display_data"
    }
   ],
   "source": [
    "## Gran Ventaja es que son altamente explicativos...\n",
    "\n",
    "plt.figure(figsize=(10,8))\n",
    "plot_tree(dt, feature_names=X.columns, class_names = ['N', 'S'], filled = True, proportion=True);\n"
   ]
  },
  {
   "cell_type": "code",
   "execution_count": 12,
   "metadata": {},
   "outputs": [
    {
     "data": {
      "image/svg+xml": "<?xml version=\"1.0\" encoding=\"UTF-8\" standalone=\"no\"?>\n<!DOCTYPE svg PUBLIC \"-//W3C//DTD SVG 1.1//EN\"\n \"http://www.w3.org/Graphics/SVG/1.1/DTD/svg11.dtd\">\n<!-- Generated by graphviz version 5.0.1 (20220820.1526)\n -->\n<!-- Title: Tree Pages: 1 -->\n<svg width=\"600pt\" height=\"314pt\"\n viewBox=\"0.00 0.00 600.00 314.00\" xmlns=\"http://www.w3.org/2000/svg\" xmlns:xlink=\"http://www.w3.org/1999/xlink\">\n<g id=\"graph0\" class=\"graph\" transform=\"scale(1 1) rotate(0) translate(4 310)\">\n<title>Tree</title>\n<polygon fill=\"white\" stroke=\"none\" points=\"-4,4 -4,-310 596,-310 596,4 -4,4\"/>\n<!-- 0 -->\n<g id=\"node1\" class=\"node\">\n<title>0</title>\n<path fill=\"#ffffff\" stroke=\"black\" d=\"M358,-306C358,-306 246,-306 246,-306 240,-306 234,-300 234,-294 234,-294 234,-235 234,-235 234,-229 240,-223 246,-223 246,-223 358,-223 358,-223 364,-223 370,-229 370,-235 370,-235 370,-294 370,-294 370,-300 364,-306 358,-306\"/>\n<text text-anchor=\"start\" x=\"243.5\" y=\"-290.8\" font-family=\"Helvetica,sans-Serif\" font-size=\"14.00\">Temperatura ≤ 0.5</text>\n<text text-anchor=\"start\" x=\"273\" y=\"-275.8\" font-family=\"Helvetica,sans-Serif\" font-size=\"14.00\">gini = 0.5</text>\n<text text-anchor=\"start\" x=\"242\" y=\"-260.8\" font-family=\"Helvetica,sans-Serif\" font-size=\"14.00\">samples = 100.0%</text>\n<text text-anchor=\"start\" x=\"249.5\" y=\"-245.8\" font-family=\"Helvetica,sans-Serif\" font-size=\"14.00\">value = [0.5, 0.5]</text>\n<text text-anchor=\"start\" x=\"272.5\" y=\"-230.8\" font-family=\"Helvetica,sans-Serif\" font-size=\"14.00\">class = N</text>\n</g>\n<!-- 1 -->\n<g id=\"node2\" class=\"node\">\n<title>1</title>\n<path fill=\"#eeab7b\" stroke=\"black\" d=\"M279.5,-187C279.5,-187 166.5,-187 166.5,-187 160.5,-187 154.5,-181 154.5,-175 154.5,-175 154.5,-116 154.5,-116 154.5,-110 160.5,-104 166.5,-104 166.5,-104 279.5,-104 279.5,-104 285.5,-104 291.5,-110 291.5,-116 291.5,-116 291.5,-175 291.5,-175 291.5,-181 285.5,-187 279.5,-187\"/>\n<text text-anchor=\"start\" x=\"187\" y=\"-171.8\" font-family=\"Helvetica,sans-Serif\" font-size=\"14.00\">Salud ≤ 0.5</text>\n<text text-anchor=\"start\" x=\"185.5\" y=\"-156.8\" font-family=\"Helvetica,sans-Serif\" font-size=\"14.00\">gini = 0.375</text>\n<text text-anchor=\"start\" x=\"167\" y=\"-141.8\" font-family=\"Helvetica,sans-Serif\" font-size=\"14.00\">samples = 50.0%</text>\n<text text-anchor=\"start\" x=\"162.5\" y=\"-126.8\" font-family=\"Helvetica,sans-Serif\" font-size=\"14.00\">value = [0.75, 0.25]</text>\n<text text-anchor=\"start\" x=\"193.5\" y=\"-111.8\" font-family=\"Helvetica,sans-Serif\" font-size=\"14.00\">class = N</text>\n</g>\n<!-- 0&#45;&gt;1 -->\n<g id=\"edge1\" class=\"edge\">\n<title>0&#45;&gt;1</title>\n<path fill=\"none\" stroke=\"black\" d=\"M274.59,-222.91C268.59,-214.01 262.17,-204.51 255.97,-195.33\"/>\n<polygon fill=\"black\" stroke=\"black\" points=\"258.86,-193.35 250.36,-187.02 253.06,-197.27 258.86,-193.35\"/>\n<text text-anchor=\"middle\" x=\"245.6\" y=\"-207.86\" font-family=\"Helvetica,sans-Serif\" font-size=\"14.00\">True</text>\n</g>\n<!-- 4 -->\n<g id=\"node5\" class=\"node\">\n<title>4</title>\n<path fill=\"#7bbeee\" stroke=\"black\" d=\"M438.5,-187C438.5,-187 325.5,-187 325.5,-187 319.5,-187 313.5,-181 313.5,-175 313.5,-175 313.5,-116 313.5,-116 313.5,-110 319.5,-104 325.5,-104 325.5,-104 438.5,-104 438.5,-104 444.5,-104 450.5,-110 450.5,-116 450.5,-116 450.5,-175 450.5,-175 450.5,-181 444.5,-187 438.5,-187\"/>\n<text text-anchor=\"start\" x=\"346\" y=\"-171.8\" font-family=\"Helvetica,sans-Serif\" font-size=\"14.00\">Salud ≤ 0.5</text>\n<text text-anchor=\"start\" x=\"344.5\" y=\"-156.8\" font-family=\"Helvetica,sans-Serif\" font-size=\"14.00\">gini = 0.375</text>\n<text text-anchor=\"start\" x=\"326\" y=\"-141.8\" font-family=\"Helvetica,sans-Serif\" font-size=\"14.00\">samples = 50.0%</text>\n<text text-anchor=\"start\" x=\"321.5\" y=\"-126.8\" font-family=\"Helvetica,sans-Serif\" font-size=\"14.00\">value = [0.25, 0.75]</text>\n<text text-anchor=\"start\" x=\"353\" y=\"-111.8\" font-family=\"Helvetica,sans-Serif\" font-size=\"14.00\">class = Y</text>\n</g>\n<!-- 0&#45;&gt;4 -->\n<g id=\"edge4\" class=\"edge\">\n<title>0&#45;&gt;4</title>\n<path fill=\"none\" stroke=\"black\" d=\"M329.76,-222.91C335.84,-214.01 342.34,-204.51 348.61,-195.33\"/>\n<polygon fill=\"black\" stroke=\"black\" points=\"351.54,-197.25 354.29,-187.02 345.76,-193.3 351.54,-197.25\"/>\n<text text-anchor=\"middle\" x=\"358.91\" y=\"-207.89\" font-family=\"Helvetica,sans-Serif\" font-size=\"14.00\">False</text>\n</g>\n<!-- 2 -->\n<g id=\"node3\" class=\"node\">\n<title>2</title>\n<path fill=\"#e58139\" stroke=\"black\" d=\"M116,-68C116,-68 12,-68 12,-68 6,-68 0,-62 0,-56 0,-56 0,-12 0,-12 0,-6 6,0 12,0 12,0 116,0 116,0 122,0 128,-6 128,-12 128,-12 128,-56 128,-56 128,-62 122,-68 116,-68\"/>\n<text text-anchor=\"start\" x=\"35\" y=\"-52.8\" font-family=\"Helvetica,sans-Serif\" font-size=\"14.00\">gini = 0.0</text>\n<text text-anchor=\"start\" x=\"8\" y=\"-37.8\" font-family=\"Helvetica,sans-Serif\" font-size=\"14.00\">samples = 12.5%</text>\n<text text-anchor=\"start\" x=\"11.5\" y=\"-22.8\" font-family=\"Helvetica,sans-Serif\" font-size=\"14.00\">value = [1.0, 0.0]</text>\n<text text-anchor=\"start\" x=\"34.5\" y=\"-7.8\" font-family=\"Helvetica,sans-Serif\" font-size=\"14.00\">class = N</text>\n</g>\n<!-- 1&#45;&gt;2 -->\n<g id=\"edge2\" class=\"edge\">\n<title>1&#45;&gt;2</title>\n<path fill=\"none\" stroke=\"black\" d=\"M163.79,-103.73C149.68,-94.01 134.66,-83.66 120.66,-74.02\"/>\n<polygon fill=\"black\" stroke=\"black\" points=\"122.32,-70.91 112.1,-68.13 118.35,-76.68 122.32,-70.91\"/>\n</g>\n<!-- 3 -->\n<g id=\"node4\" class=\"node\">\n<title>3</title>\n<path fill=\"#f2c09c\" stroke=\"black\" d=\"M288,-68C288,-68 158,-68 158,-68 152,-68 146,-62 146,-56 146,-56 146,-12 146,-12 146,-6 152,0 158,0 158,0 288,0 288,0 294,0 300,-6 300,-12 300,-12 300,-56 300,-56 300,-62 294,-68 288,-68\"/>\n<text text-anchor=\"start\" x=\"185.5\" y=\"-52.8\" font-family=\"Helvetica,sans-Serif\" font-size=\"14.00\">gini = 0.444</text>\n<text text-anchor=\"start\" x=\"167\" y=\"-37.8\" font-family=\"Helvetica,sans-Serif\" font-size=\"14.00\">samples = 37.5%</text>\n<text text-anchor=\"start\" x=\"154\" y=\"-22.8\" font-family=\"Helvetica,sans-Serif\" font-size=\"14.00\">value = [0.667, 0.333]</text>\n<text text-anchor=\"start\" x=\"193.5\" y=\"-7.8\" font-family=\"Helvetica,sans-Serif\" font-size=\"14.00\">class = N</text>\n</g>\n<!-- 1&#45;&gt;3 -->\n<g id=\"edge3\" class=\"edge\">\n<title>1&#45;&gt;3</title>\n<path fill=\"none\" stroke=\"black\" d=\"M223,-103.73C223,-95.52 223,-86.86 223,-78.56\"/>\n<polygon fill=\"black\" stroke=\"black\" points=\"226.5,-78.3 223,-68.3 219.5,-78.3 226.5,-78.3\"/>\n</g>\n<!-- 5 -->\n<g id=\"node6\" class=\"node\">\n<title>5</title>\n<path fill=\"#ffffff\" stroke=\"black\" d=\"M434,-68C434,-68 330,-68 330,-68 324,-68 318,-62 318,-56 318,-56 318,-12 318,-12 318,-6 324,0 330,0 330,0 434,0 434,0 440,0 446,-6 446,-12 446,-12 446,-56 446,-56 446,-62 440,-68 434,-68\"/>\n<text text-anchor=\"start\" x=\"353\" y=\"-52.8\" font-family=\"Helvetica,sans-Serif\" font-size=\"14.00\">gini = 0.5</text>\n<text text-anchor=\"start\" x=\"326\" y=\"-37.8\" font-family=\"Helvetica,sans-Serif\" font-size=\"14.00\">samples = 25.0%</text>\n<text text-anchor=\"start\" x=\"329.5\" y=\"-22.8\" font-family=\"Helvetica,sans-Serif\" font-size=\"14.00\">value = [0.5, 0.5]</text>\n<text text-anchor=\"start\" x=\"352.5\" y=\"-7.8\" font-family=\"Helvetica,sans-Serif\" font-size=\"14.00\">class = N</text>\n</g>\n<!-- 4&#45;&gt;5 -->\n<g id=\"edge5\" class=\"edge\">\n<title>4&#45;&gt;5</title>\n<path fill=\"none\" stroke=\"black\" d=\"M382,-103.73C382,-95.52 382,-86.86 382,-78.56\"/>\n<polygon fill=\"black\" stroke=\"black\" points=\"385.5,-78.3 382,-68.3 378.5,-78.3 385.5,-78.3\"/>\n</g>\n<!-- 6 -->\n<g id=\"node7\" class=\"node\">\n<title>6</title>\n<path fill=\"#399de5\" stroke=\"black\" d=\"M580,-68C580,-68 476,-68 476,-68 470,-68 464,-62 464,-56 464,-56 464,-12 464,-12 464,-6 470,0 476,0 476,0 580,0 580,0 586,0 592,-6 592,-12 592,-12 592,-56 592,-56 592,-62 586,-68 580,-68\"/>\n<text text-anchor=\"start\" x=\"499\" y=\"-52.8\" font-family=\"Helvetica,sans-Serif\" font-size=\"14.00\">gini = 0.0</text>\n<text text-anchor=\"start\" x=\"472\" y=\"-37.8\" font-family=\"Helvetica,sans-Serif\" font-size=\"14.00\">samples = 25.0%</text>\n<text text-anchor=\"start\" x=\"475.5\" y=\"-22.8\" font-family=\"Helvetica,sans-Serif\" font-size=\"14.00\">value = [0.0, 1.0]</text>\n<text text-anchor=\"start\" x=\"499\" y=\"-7.8\" font-family=\"Helvetica,sans-Serif\" font-size=\"14.00\">class = Y</text>\n</g>\n<!-- 4&#45;&gt;6 -->\n<g id=\"edge6\" class=\"edge\">\n<title>4&#45;&gt;6</title>\n<path fill=\"none\" stroke=\"black\" d=\"M436.37,-103.73C449.13,-94.15 462.72,-83.96 475.41,-74.44\"/>\n<polygon fill=\"black\" stroke=\"black\" points=\"477.7,-77.1 483.6,-68.3 473.5,-71.5 477.7,-77.1\"/>\n</g>\n</g>\n</svg>\n",
      "text/plain": [
       "<graphviz.sources.Source at 0x17552140b20>"
      ]
     },
     "execution_count": 12,
     "metadata": {},
     "output_type": "execute_result"
    }
   ],
   "source": [
    "def plot_dt(model, features, classes):\n",
    "    dot_data = export_graphviz(model, out_file=None,\n",
    "                               feature_names=features,\n",
    "                               class_names=classes,\n",
    "                               filled=True, rounded=True,\n",
    "                               special_characters=True,\n",
    "                               proportion=True)\n",
    "    return graphviz.Source(dot_data)\n",
    "\n",
    "\n",
    "plot_dt(dt, X.columns, ['N', 'Y'])\n"
   ]
  },
  {
   "cell_type": "code",
   "execution_count": 13,
   "metadata": {},
   "outputs": [],
   "source": [
    "## Es bueno usar un árbol de decisión... para explicar sí, para predicir... No (siempre sobreajusta): Regularizar el árbol...add()\n",
    "\n",
    "df = pd.read_csv('iris.csv')\n",
    "\n",
    "X = df.drop(columns='class')\n",
    "y = df['class']\n",
    "\n",
    "X_train, X_test, y_train, y_test = train_test_split(X, y, test_size=0.3, random_state=123)\n",
    "\n"
   ]
  },
  {
   "cell_type": "markdown",
   "metadata": {},
   "source": [
    "## Regularización\n",
    "\n",
    "* Pre_prunning: Evitando que el árbol crezca...(no le voy a permitir crecer...)\n",
    "    * max_depth: controla número de niveles ... complejidad\n",
    "    * min_samples_split: Regularización\n",
    "    * min_samples_leaf: Regularización, numero mínimo de datos para que sea hoja...\n",
    "    * min_impurity_decrease: Regularización, exijo un cierto decremento en la impureza\n",
    "* Post-prunning: Una vez que el árbol termino yo le corto ciertas partes...\n",
    "    * ccp_alpha: Cost complexity prunning... Mas chico es menos regularización"
   ]
  },
  {
   "cell_type": "code",
   "execution_count": 44,
   "metadata": {},
   "outputs": [
    {
     "name": "stdout",
     "output_type": "stream",
     "text": [
      "                 precision    recall  f1-score   support\n",
      "\n",
      "    Iris-setosa     1.0000    1.0000    1.0000        32\n",
      "Iris-versicolor     0.9750    0.9750    0.9750        40\n",
      " Iris-virginica     0.9697    0.9697    0.9697        33\n",
      "\n",
      "       accuracy                         0.9810       105\n",
      "      macro avg     0.9816    0.9816    0.9816       105\n",
      "   weighted avg     0.9810    0.9810    0.9810       105\n",
      "\n",
      "                 precision    recall  f1-score   support\n",
      "\n",
      "    Iris-setosa     1.0000    1.0000    1.0000        18\n",
      "Iris-versicolor     0.8333    1.0000    0.9091        10\n",
      " Iris-virginica     1.0000    0.8824    0.9375        17\n",
      "\n",
      "       accuracy                         0.9556        45\n",
      "      macro avg     0.9444    0.9608    0.9489        45\n",
      "   weighted avg     0.9630    0.9556    0.9562        45\n",
      "\n"
     ]
    },
    {
     "data": {
      "image/svg+xml": "<?xml version=\"1.0\" encoding=\"UTF-8\" standalone=\"no\"?>\n<!DOCTYPE svg PUBLIC \"-//W3C//DTD SVG 1.1//EN\"\n \"http://www.w3.org/Graphics/SVG/1.1/DTD/svg11.dtd\">\n<!-- Generated by graphviz version 5.0.1 (20220820.1526)\n -->\n<!-- Title: Tree Pages: 1 -->\n<svg width=\"482pt\" height=\"433pt\"\n viewBox=\"0.00 0.00 482.00 433.00\" xmlns=\"http://www.w3.org/2000/svg\" xmlns:xlink=\"http://www.w3.org/1999/xlink\">\n<g id=\"graph0\" class=\"graph\" transform=\"scale(1 1) rotate(0) translate(4 429)\">\n<title>Tree</title>\n<polygon fill=\"white\" stroke=\"none\" points=\"-4,4 -4,-429 478,-429 478,4 -4,4\"/>\n<!-- 0 -->\n<g id=\"node1\" class=\"node\">\n<title>0</title>\n<path fill=\"#ecfcf3\" stroke=\"black\" d=\"M278,-425C278,-425 104,-425 104,-425 98,-425 92,-419 92,-413 92,-413 92,-354 92,-354 92,-348 98,-342 104,-342 104,-342 278,-342 278,-342 284,-342 290,-348 290,-354 290,-354 290,-413 290,-413 290,-419 284,-425 278,-425\"/>\n<text text-anchor=\"start\" x=\"134.5\" y=\"-409.8\" font-family=\"Helvetica,sans-Serif\" font-size=\"14.00\">petallength ≤ 2.45</text>\n<text text-anchor=\"start\" x=\"153.5\" y=\"-394.8\" font-family=\"Helvetica,sans-Serif\" font-size=\"14.00\">gini = 0.663</text>\n<text text-anchor=\"start\" x=\"131\" y=\"-379.8\" font-family=\"Helvetica,sans-Serif\" font-size=\"14.00\">samples = 100.0%</text>\n<text text-anchor=\"start\" x=\"100\" y=\"-364.8\" font-family=\"Helvetica,sans-Serif\" font-size=\"14.00\">value = [0.305, 0.381, 0.314]</text>\n<text text-anchor=\"start\" x=\"123.5\" y=\"-349.8\" font-family=\"Helvetica,sans-Serif\" font-size=\"14.00\">class = Iris&#45;versicolor</text>\n</g>\n<!-- 1 -->\n<g id=\"node2\" class=\"node\">\n<title>1</title>\n<path fill=\"#e58139\" stroke=\"black\" d=\"M161.5,-298.5C161.5,-298.5 36.5,-298.5 36.5,-298.5 30.5,-298.5 24.5,-292.5 24.5,-286.5 24.5,-286.5 24.5,-242.5 24.5,-242.5 24.5,-236.5 30.5,-230.5 36.5,-230.5 36.5,-230.5 161.5,-230.5 161.5,-230.5 167.5,-230.5 173.5,-236.5 173.5,-242.5 173.5,-242.5 173.5,-286.5 173.5,-286.5 173.5,-292.5 167.5,-298.5 161.5,-298.5\"/>\n<text text-anchor=\"start\" x=\"70\" y=\"-283.3\" font-family=\"Helvetica,sans-Serif\" font-size=\"14.00\">gini = 0.0</text>\n<text text-anchor=\"start\" x=\"43\" y=\"-268.3\" font-family=\"Helvetica,sans-Serif\" font-size=\"14.00\">samples = 30.5%</text>\n<text text-anchor=\"start\" x=\"32.5\" y=\"-253.3\" font-family=\"Helvetica,sans-Serif\" font-size=\"14.00\">value = [1.0, 0.0, 0.0]</text>\n<text text-anchor=\"start\" x=\"41\" y=\"-238.3\" font-family=\"Helvetica,sans-Serif\" font-size=\"14.00\">class = Iris&#45;setosa</text>\n</g>\n<!-- 0&#45;&gt;1 -->\n<g id=\"edge1\" class=\"edge\">\n<title>0&#45;&gt;1</title>\n<path fill=\"none\" stroke=\"black\" d=\"M159.08,-341.91C150.14,-330.54 140.42,-318.18 131.45,-306.77\"/>\n<polygon fill=\"black\" stroke=\"black\" points=\"134.01,-304.36 125.08,-298.67 128.51,-308.69 134.01,-304.36\"/>\n<text text-anchor=\"middle\" x=\"122.11\" y=\"-319.79\" font-family=\"Helvetica,sans-Serif\" font-size=\"14.00\">True</text>\n</g>\n<!-- 2 -->\n<g id=\"node3\" class=\"node\">\n<title>2</title>\n<path fill=\"#dcfae9\" stroke=\"black\" d=\"M362,-306C362,-306 204,-306 204,-306 198,-306 192,-300 192,-294 192,-294 192,-235 192,-235 192,-229 198,-223 204,-223 204,-223 362,-223 362,-223 368,-223 374,-229 374,-235 374,-235 374,-294 374,-294 374,-300 368,-306 362,-306\"/>\n<text text-anchor=\"start\" x=\"229.5\" y=\"-290.8\" font-family=\"Helvetica,sans-Serif\" font-size=\"14.00\">petalwidth ≤ 1.75</text>\n<text text-anchor=\"start\" x=\"245.5\" y=\"-275.8\" font-family=\"Helvetica,sans-Serif\" font-size=\"14.00\">gini = 0.495</text>\n<text text-anchor=\"start\" x=\"227\" y=\"-260.8\" font-family=\"Helvetica,sans-Serif\" font-size=\"14.00\">samples = 69.5%</text>\n<text text-anchor=\"start\" x=\"200\" y=\"-245.8\" font-family=\"Helvetica,sans-Serif\" font-size=\"14.00\">value = [0.0, 0.548, 0.452]</text>\n<text text-anchor=\"start\" x=\"215.5\" y=\"-230.8\" font-family=\"Helvetica,sans-Serif\" font-size=\"14.00\">class = Iris&#45;versicolor</text>\n</g>\n<!-- 0&#45;&gt;2 -->\n<g id=\"edge2\" class=\"edge\">\n<title>0&#45;&gt;2</title>\n<path fill=\"none\" stroke=\"black\" d=\"M222.92,-341.91C229.98,-332.92 237.54,-323.32 244.82,-314.05\"/>\n<polygon fill=\"black\" stroke=\"black\" points=\"247.71,-316.05 251.14,-306.02 242.2,-311.72 247.71,-316.05\"/>\n<text text-anchor=\"middle\" x=\"254.11\" y=\"-327.14\" font-family=\"Helvetica,sans-Serif\" font-size=\"14.00\">False</text>\n</g>\n<!-- 3 -->\n<g id=\"node4\" class=\"node\">\n<title>3</title>\n<path fill=\"#48e78b\" stroke=\"black\" d=\"M262,-187C262,-187 104,-187 104,-187 98,-187 92,-181 92,-175 92,-175 92,-116 92,-116 92,-110 98,-104 104,-104 104,-104 262,-104 262,-104 268,-104 274,-110 274,-116 274,-116 274,-175 274,-175 274,-181 268,-187 262,-187\"/>\n<text text-anchor=\"start\" x=\"126.5\" y=\"-171.8\" font-family=\"Helvetica,sans-Serif\" font-size=\"14.00\">petallength ≤ 5.35</text>\n<text text-anchor=\"start\" x=\"145.5\" y=\"-156.8\" font-family=\"Helvetica,sans-Serif\" font-size=\"14.00\">gini = 0.133</text>\n<text text-anchor=\"start\" x=\"127\" y=\"-141.8\" font-family=\"Helvetica,sans-Serif\" font-size=\"14.00\">samples = 40.0%</text>\n<text text-anchor=\"start\" x=\"100\" y=\"-126.8\" font-family=\"Helvetica,sans-Serif\" font-size=\"14.00\">value = [0.0, 0.929, 0.071]</text>\n<text text-anchor=\"start\" x=\"115.5\" y=\"-111.8\" font-family=\"Helvetica,sans-Serif\" font-size=\"14.00\">class = Iris&#45;versicolor</text>\n</g>\n<!-- 2&#45;&gt;3 -->\n<g id=\"edge3\" class=\"edge\">\n<title>2&#45;&gt;3</title>\n<path fill=\"none\" stroke=\"black\" d=\"M248.31,-222.91C240.55,-213.83 232.25,-204.12 224.26,-194.77\"/>\n<polygon fill=\"black\" stroke=\"black\" points=\"226.79,-192.35 217.63,-187.02 221.47,-196.9 226.79,-192.35\"/>\n</g>\n<!-- 6 -->\n<g id=\"node7\" class=\"node\">\n<title>6</title>\n<path fill=\"#8540e6\" stroke=\"black\" d=\"M462,-179.5C462,-179.5 304,-179.5 304,-179.5 298,-179.5 292,-173.5 292,-167.5 292,-167.5 292,-123.5 292,-123.5 292,-117.5 298,-111.5 304,-111.5 304,-111.5 462,-111.5 462,-111.5 468,-111.5 474,-117.5 474,-123.5 474,-123.5 474,-167.5 474,-167.5 474,-173.5 468,-179.5 462,-179.5\"/>\n<text text-anchor=\"start\" x=\"345.5\" y=\"-164.3\" font-family=\"Helvetica,sans-Serif\" font-size=\"14.00\">gini = 0.062</text>\n<text text-anchor=\"start\" x=\"327\" y=\"-149.3\" font-family=\"Helvetica,sans-Serif\" font-size=\"14.00\">samples = 29.5%</text>\n<text text-anchor=\"start\" x=\"300\" y=\"-134.3\" font-family=\"Helvetica,sans-Serif\" font-size=\"14.00\">value = [0.0, 0.032, 0.968]</text>\n<text text-anchor=\"start\" x=\"321\" y=\"-119.3\" font-family=\"Helvetica,sans-Serif\" font-size=\"14.00\">class = Iris&#45;virginica</text>\n</g>\n<!-- 2&#45;&gt;6 -->\n<g id=\"edge6\" class=\"edge\">\n<title>2&#45;&gt;6</title>\n<path fill=\"none\" stroke=\"black\" d=\"M317.69,-222.91C327.5,-211.43 338.18,-198.94 348.01,-187.44\"/>\n<polygon fill=\"black\" stroke=\"black\" points=\"350.82,-189.54 354.65,-179.67 345.49,-184.99 350.82,-189.54\"/>\n</g>\n<!-- 4 -->\n<g id=\"node5\" class=\"node\">\n<title>4</title>\n<path fill=\"#3ee684\" stroke=\"black\" d=\"M170,-68C170,-68 12,-68 12,-68 6,-68 0,-62 0,-56 0,-56 0,-12 0,-12 0,-6 6,0 12,0 12,0 170,0 170,0 176,0 182,-6 182,-12 182,-12 182,-56 182,-56 182,-62 176,-68 170,-68\"/>\n<text text-anchor=\"start\" x=\"53.5\" y=\"-52.8\" font-family=\"Helvetica,sans-Serif\" font-size=\"14.00\">gini = 0.049</text>\n<text text-anchor=\"start\" x=\"35\" y=\"-37.8\" font-family=\"Helvetica,sans-Serif\" font-size=\"14.00\">samples = 38.1%</text>\n<text text-anchor=\"start\" x=\"8\" y=\"-22.8\" font-family=\"Helvetica,sans-Serif\" font-size=\"14.00\">value = [0.0, 0.975, 0.025]</text>\n<text text-anchor=\"start\" x=\"23.5\" y=\"-7.8\" font-family=\"Helvetica,sans-Serif\" font-size=\"14.00\">class = Iris&#45;versicolor</text>\n</g>\n<!-- 3&#45;&gt;4 -->\n<g id=\"edge4\" class=\"edge\">\n<title>3&#45;&gt;4</title>\n<path fill=\"none\" stroke=\"black\" d=\"M148.74,-103.73C141.16,-94.7 133.11,-85.12 125.52,-76.08\"/>\n<polygon fill=\"black\" stroke=\"black\" points=\"128.09,-73.7 118.98,-68.3 122.73,-78.21 128.09,-73.7\"/>\n</g>\n<!-- 5 -->\n<g id=\"node6\" class=\"node\">\n<title>5</title>\n<path fill=\"#8139e5\" stroke=\"black\" d=\"M337.5,-68C337.5,-68 212.5,-68 212.5,-68 206.5,-68 200.5,-62 200.5,-56 200.5,-56 200.5,-12 200.5,-12 200.5,-6 206.5,0 212.5,0 212.5,0 337.5,0 337.5,0 343.5,0 349.5,-6 349.5,-12 349.5,-12 349.5,-56 349.5,-56 349.5,-62 343.5,-68 337.5,-68\"/>\n<text text-anchor=\"start\" x=\"246\" y=\"-52.8\" font-family=\"Helvetica,sans-Serif\" font-size=\"14.00\">gini = 0.0</text>\n<text text-anchor=\"start\" x=\"223.5\" y=\"-37.8\" font-family=\"Helvetica,sans-Serif\" font-size=\"14.00\">samples = 1.9%</text>\n<text text-anchor=\"start\" x=\"208.5\" y=\"-22.8\" font-family=\"Helvetica,sans-Serif\" font-size=\"14.00\">value = [0.0, 0.0, 1.0]</text>\n<text text-anchor=\"start\" x=\"213\" y=\"-7.8\" font-family=\"Helvetica,sans-Serif\" font-size=\"14.00\">class = Iris&#45;virginica</text>\n</g>\n<!-- 3&#45;&gt;5 -->\n<g id=\"edge5\" class=\"edge\">\n<title>3&#45;&gt;5</title>\n<path fill=\"none\" stroke=\"black\" d=\"M217.26,-103.73C224.84,-94.7 232.89,-85.12 240.48,-76.08\"/>\n<polygon fill=\"black\" stroke=\"black\" points=\"243.27,-78.21 247.02,-68.3 237.91,-73.7 243.27,-78.21\"/>\n</g>\n</g>\n</svg>\n",
      "text/plain": [
       "<graphviz.sources.Source at 0x175540f3d30>"
      ]
     },
     "execution_count": 44,
     "metadata": {},
     "output_type": "execute_result"
    }
   ],
   "source": [
    "dt = DecisionTreeClassifier(random_state=123, \n",
    "                            # max_depth=5, \n",
    "                            # min_samples_split=0.3,\n",
    "                            # min_samples_leaf=.2, \n",
    "                            # min_impurity_decrease=.01,\n",
    "                            ccp_alpha = .02\n",
    "                            )\n",
    "dt.fit(X_train,y_train)\n",
    "\n",
    "y_pred = dt.predict(X_test)\n",
    "y_pred_train = dt.predict(X_train)\n",
    "print(classification_report(y_train, y_pred_train, digits=4))\n",
    "print(classification_report(y_test, y_pred, digits=4))\n",
    "plot_dt(dt, X.columns, df['class'].unique())\n"
   ]
  },
  {
   "cell_type": "code",
   "execution_count": 45,
   "metadata": {},
   "outputs": [],
   "source": [
    "df = pd.read_csv('titanic.csv', index_col=0).drop(columns=['Signing_date','Cabin','Ticket','Name'])\n",
    "X = df.drop(columns=['Survived'])\n",
    "y = df.Survived\n",
    "X_train, X_test, y_train, y_test = train_test_split(X, y, test_size=0.2, random_state=123)\n"
   ]
  },
  {
   "cell_type": "markdown",
   "metadata": {},
   "source": [
    "## Pipeline de Preprocesamiento"
   ]
  },
  {
   "cell_type": "code",
   "execution_count": 47,
   "metadata": {},
   "outputs": [
    {
     "data": {
      "text/html": [
       "<div>\n",
       "<style scoped>\n",
       "    .dataframe tbody tr th:only-of-type {\n",
       "        vertical-align: middle;\n",
       "    }\n",
       "\n",
       "    .dataframe tbody tr th {\n",
       "        vertical-align: top;\n",
       "    }\n",
       "\n",
       "    .dataframe thead th {\n",
       "        text-align: right;\n",
       "    }\n",
       "</style>\n",
       "<table border=\"1\" class=\"dataframe\">\n",
       "  <thead>\n",
       "    <tr style=\"text-align: right;\">\n",
       "      <th></th>\n",
       "      <th>Pclass</th>\n",
       "      <th>Age</th>\n",
       "      <th>SibSp</th>\n",
       "      <th>Parch</th>\n",
       "      <th>Fare</th>\n",
       "      <th>Sex_female</th>\n",
       "      <th>Embarked_C</th>\n",
       "      <th>Embarked_Q</th>\n",
       "    </tr>\n",
       "    <tr>\n",
       "      <th>PassengerId</th>\n",
       "      <th></th>\n",
       "      <th></th>\n",
       "      <th></th>\n",
       "      <th></th>\n",
       "      <th></th>\n",
       "      <th></th>\n",
       "      <th></th>\n",
       "      <th></th>\n",
       "    </tr>\n",
       "  </thead>\n",
       "  <tbody>\n",
       "    <tr>\n",
       "      <th>330</th>\n",
       "      <td>1</td>\n",
       "      <td>-1.086485</td>\n",
       "      <td>-0.460103</td>\n",
       "      <td>0.829588</td>\n",
       "      <td>0.490420</td>\n",
       "      <td>1</td>\n",
       "      <td>1</td>\n",
       "      <td>0</td>\n",
       "    </tr>\n",
       "    <tr>\n",
       "      <th>750</th>\n",
       "      <td>3</td>\n",
       "      <td>0.091668</td>\n",
       "      <td>-0.460103</td>\n",
       "      <td>-0.474312</td>\n",
       "      <td>-0.472168</td>\n",
       "      <td>0</td>\n",
       "      <td>0</td>\n",
       "      <td>1</td>\n",
       "    </tr>\n",
       "    <tr>\n",
       "      <th>204</th>\n",
       "      <td>3</td>\n",
       "      <td>1.230549</td>\n",
       "      <td>-0.460103</td>\n",
       "      <td>-0.474312</td>\n",
       "      <td>-0.482229</td>\n",
       "      <td>0</td>\n",
       "      <td>1</td>\n",
       "      <td>0</td>\n",
       "    </tr>\n",
       "    <tr>\n",
       "      <th>422</th>\n",
       "      <td>3</td>\n",
       "      <td>-0.693768</td>\n",
       "      <td>-0.460103</td>\n",
       "      <td>-0.474312</td>\n",
       "      <td>-0.472488</td>\n",
       "      <td>0</td>\n",
       "      <td>0</td>\n",
       "      <td>1</td>\n",
       "    </tr>\n",
       "    <tr>\n",
       "      <th>98</th>\n",
       "      <td>1</td>\n",
       "      <td>-0.536681</td>\n",
       "      <td>-0.460103</td>\n",
       "      <td>0.829588</td>\n",
       "      <td>0.593505</td>\n",
       "      <td>0</td>\n",
       "      <td>1</td>\n",
       "      <td>0</td>\n",
       "    </tr>\n",
       "    <tr>\n",
       "      <th>...</th>\n",
       "      <td>...</td>\n",
       "      <td>...</td>\n",
       "      <td>...</td>\n",
       "      <td>...</td>\n",
       "      <td>...</td>\n",
       "      <td>...</td>\n",
       "      <td>...</td>\n",
       "      <td>...</td>\n",
       "    </tr>\n",
       "    <tr>\n",
       "      <th>99</th>\n",
       "      <td>2</td>\n",
       "      <td>0.327298</td>\n",
       "      <td>-0.460103</td>\n",
       "      <td>0.829588</td>\n",
       "      <td>-0.179919</td>\n",
       "      <td>1</td>\n",
       "      <td>0</td>\n",
       "      <td>0</td>\n",
       "    </tr>\n",
       "    <tr>\n",
       "      <th>323</th>\n",
       "      <td>2</td>\n",
       "      <td>0.013124</td>\n",
       "      <td>-0.460103</td>\n",
       "      <td>-0.474312</td>\n",
       "      <td>-0.384014</td>\n",
       "      <td>1</td>\n",
       "      <td>0</td>\n",
       "      <td>1</td>\n",
       "    </tr>\n",
       "    <tr>\n",
       "      <th>383</th>\n",
       "      <td>3</td>\n",
       "      <td>0.170211</td>\n",
       "      <td>-0.460103</td>\n",
       "      <td>-0.474312</td>\n",
       "      <td>-0.468815</td>\n",
       "      <td>0</td>\n",
       "      <td>0</td>\n",
       "      <td>0</td>\n",
       "    </tr>\n",
       "    <tr>\n",
       "      <th>366</th>\n",
       "      <td>3</td>\n",
       "      <td>0.013124</td>\n",
       "      <td>-0.460103</td>\n",
       "      <td>-0.474312</td>\n",
       "      <td>-0.481750</td>\n",
       "      <td>0</td>\n",
       "      <td>0</td>\n",
       "      <td>0</td>\n",
       "    </tr>\n",
       "    <tr>\n",
       "      <th>511</th>\n",
       "      <td>3</td>\n",
       "      <td>-0.065420</td>\n",
       "      <td>-0.460103</td>\n",
       "      <td>-0.474312</td>\n",
       "      <td>-0.472168</td>\n",
       "      <td>0</td>\n",
       "      <td>0</td>\n",
       "      <td>1</td>\n",
       "    </tr>\n",
       "  </tbody>\n",
       "</table>\n",
       "<p>712 rows × 8 columns</p>\n",
       "</div>"
      ],
      "text/plain": [
       "             Pclass       Age     SibSp     Parch      Fare  Sex_female  \\\n",
       "PassengerId                                                               \n",
       "330               1 -1.086485 -0.460103  0.829588  0.490420           1   \n",
       "750               3  0.091668 -0.460103 -0.474312 -0.472168           0   \n",
       "204               3  1.230549 -0.460103 -0.474312 -0.482229           0   \n",
       "422               3 -0.693768 -0.460103 -0.474312 -0.472488           0   \n",
       "98                1 -0.536681 -0.460103  0.829588  0.593505           0   \n",
       "...             ...       ...       ...       ...       ...         ...   \n",
       "99                2  0.327298 -0.460103  0.829588 -0.179919           1   \n",
       "323               2  0.013124 -0.460103 -0.474312 -0.384014           1   \n",
       "383               3  0.170211 -0.460103 -0.474312 -0.468815           0   \n",
       "366               3  0.013124 -0.460103 -0.474312 -0.481750           0   \n",
       "511               3 -0.065420 -0.460103 -0.474312 -0.472168           0   \n",
       "\n",
       "             Embarked_C  Embarked_Q  \n",
       "PassengerId                          \n",
       "330                   1           0  \n",
       "750                   0           1  \n",
       "204                   1           0  \n",
       "422                   0           1  \n",
       "98                    1           0  \n",
       "...                 ...         ...  \n",
       "99                    0           0  \n",
       "323                   0           1  \n",
       "383                   0           0  \n",
       "366                   0           0  \n",
       "511                   0           1  \n",
       "\n",
       "[712 rows x 8 columns]"
      ]
     },
     "execution_count": 47,
     "metadata": {},
     "output_type": "execute_result"
    }
   ],
   "source": [
    "from feature_engine.imputation import CategoricalImputer, MeanMedianImputer\n",
    "prep = Pipeline(steps=[\n",
    "    ('cat_imp', CategoricalImputer(imputation_method='frequent')),\n",
    "    ('num_imp', MeanMedianImputer(imputation_method='mean')),\n",
    "    ('ohe', OneHotEncoder(drop_last = True)),\n",
    "    ('sc', SklearnTransformerWrapper(StandardScaler(), variables=['Age','Fare', 'SibSp','Parch']))\n",
    "])\n",
    "\n",
    "prep.fit_transform(X_train)"
   ]
  },
  {
   "cell_type": "code",
   "execution_count": 52,
   "metadata": {},
   "outputs": [
    {
     "data": {
      "text/html": [
       "<style>#sk-container-id-4 {color: black;background-color: white;}#sk-container-id-4 pre{padding: 0;}#sk-container-id-4 div.sk-toggleable {background-color: white;}#sk-container-id-4 label.sk-toggleable__label {cursor: pointer;display: block;width: 100%;margin-bottom: 0;padding: 0.3em;box-sizing: border-box;text-align: center;}#sk-container-id-4 label.sk-toggleable__label-arrow:before {content: \"▸\";float: left;margin-right: 0.25em;color: #696969;}#sk-container-id-4 label.sk-toggleable__label-arrow:hover:before {color: black;}#sk-container-id-4 div.sk-estimator:hover label.sk-toggleable__label-arrow:before {color: black;}#sk-container-id-4 div.sk-toggleable__content {max-height: 0;max-width: 0;overflow: hidden;text-align: left;background-color: #f0f8ff;}#sk-container-id-4 div.sk-toggleable__content pre {margin: 0.2em;color: black;border-radius: 0.25em;background-color: #f0f8ff;}#sk-container-id-4 input.sk-toggleable__control:checked~div.sk-toggleable__content {max-height: 200px;max-width: 100%;overflow: auto;}#sk-container-id-4 input.sk-toggleable__control:checked~label.sk-toggleable__label-arrow:before {content: \"▾\";}#sk-container-id-4 div.sk-estimator input.sk-toggleable__control:checked~label.sk-toggleable__label {background-color: #d4ebff;}#sk-container-id-4 div.sk-label input.sk-toggleable__control:checked~label.sk-toggleable__label {background-color: #d4ebff;}#sk-container-id-4 input.sk-hidden--visually {border: 0;clip: rect(1px 1px 1px 1px);clip: rect(1px, 1px, 1px, 1px);height: 1px;margin: -1px;overflow: hidden;padding: 0;position: absolute;width: 1px;}#sk-container-id-4 div.sk-estimator {font-family: monospace;background-color: #f0f8ff;border: 1px dotted black;border-radius: 0.25em;box-sizing: border-box;margin-bottom: 0.5em;}#sk-container-id-4 div.sk-estimator:hover {background-color: #d4ebff;}#sk-container-id-4 div.sk-parallel-item::after {content: \"\";width: 100%;border-bottom: 1px solid gray;flex-grow: 1;}#sk-container-id-4 div.sk-label:hover label.sk-toggleable__label {background-color: #d4ebff;}#sk-container-id-4 div.sk-serial::before {content: \"\";position: absolute;border-left: 1px solid gray;box-sizing: border-box;top: 0;bottom: 0;left: 50%;z-index: 0;}#sk-container-id-4 div.sk-serial {display: flex;flex-direction: column;align-items: center;background-color: white;padding-right: 0.2em;padding-left: 0.2em;position: relative;}#sk-container-id-4 div.sk-item {position: relative;z-index: 1;}#sk-container-id-4 div.sk-parallel {display: flex;align-items: stretch;justify-content: center;background-color: white;position: relative;}#sk-container-id-4 div.sk-item::before, #sk-container-id-4 div.sk-parallel-item::before {content: \"\";position: absolute;border-left: 1px solid gray;box-sizing: border-box;top: 0;bottom: 0;left: 50%;z-index: -1;}#sk-container-id-4 div.sk-parallel-item {display: flex;flex-direction: column;z-index: 1;position: relative;background-color: white;}#sk-container-id-4 div.sk-parallel-item:first-child::after {align-self: flex-end;width: 50%;}#sk-container-id-4 div.sk-parallel-item:last-child::after {align-self: flex-start;width: 50%;}#sk-container-id-4 div.sk-parallel-item:only-child::after {width: 0;}#sk-container-id-4 div.sk-dashed-wrapped {border: 1px dashed gray;margin: 0 0.4em 0.5em 0.4em;box-sizing: border-box;padding-bottom: 0.4em;background-color: white;}#sk-container-id-4 div.sk-label label {font-family: monospace;font-weight: bold;display: inline-block;line-height: 1.2em;}#sk-container-id-4 div.sk-label-container {text-align: center;}#sk-container-id-4 div.sk-container {/* jupyter's `normalize.less` sets `[hidden] { display: none; }` but bootstrap.min.css set `[hidden] { display: none !important; }` so we also need the `!important` here to be able to override the default hidden behavior on the sphinx rendered scikit-learn.org. See: https://github.com/scikit-learn/scikit-learn/issues/21755 */display: inline-block !important;position: relative;}#sk-container-id-4 div.sk-text-repr-fallback {display: none;}</style><div id=\"sk-container-id-4\" class=\"sk-top-container\"><div class=\"sk-text-repr-fallback\"><pre>GridSearchCV(cv=5,\n",
       "             estimator=Pipeline(steps=[(&#x27;prep&#x27;,\n",
       "                                        Pipeline(steps=[(&#x27;cat_imp&#x27;,\n",
       "                                                         CategoricalImputer(imputation_method=&#x27;frequent&#x27;)),\n",
       "                                                        (&#x27;num_imp&#x27;,\n",
       "                                                         MeanMedianImputer(imputation_method=&#x27;mean&#x27;)),\n",
       "                                                        (&#x27;ohe&#x27;,\n",
       "                                                         OneHotEncoder(drop_last=True)),\n",
       "                                                        (&#x27;sc&#x27;,\n",
       "                                                         SklearnTransformerWrapper(transformer=StandardScaler(),\n",
       "                                                                                   variables=[&#x27;Age&#x27;,\n",
       "                                                                                              &#x27;Fare&#x27;,\n",
       "                                                                                              &#x27;SibSp&#x27;,\n",
       "                                                                                              &#x27;Parch&#x27;]))])),\n",
       "                                       (&#x27;dt&#x27;,\n",
       "                                        DecisionTreeCl...\n",
       "                         &#x27;dt__min_samples_split&#x27;: array([0.1, 0.2, 0.3, 0.4, 0.5, 0.6, 0.7, 0.8, 0.9]),\n",
       "                         &#x27;prep__cat_imp__imputation_method&#x27;: [&#x27;frequent&#x27;,\n",
       "                                                              &#x27;missing&#x27;],\n",
       "                         &#x27;prep__num_imp__imputation_method&#x27;: [&#x27;mean&#x27;, &#x27;median&#x27;],\n",
       "                         &#x27;prep__ohe&#x27;: [OneHotEncoder(drop_last=True),\n",
       "                                       OneHotEncoder(), OrdinalEncoder()],\n",
       "                         &#x27;prep__sc&#x27;: [SklearnTransformerWrapper(transformer=StandardScaler(),\n",
       "                                                                variables=[&#x27;Age&#x27;,\n",
       "                                                                           &#x27;Fare&#x27;,\n",
       "                                                                           &#x27;SibSp&#x27;,\n",
       "                                                                           &#x27;Parch&#x27;]),\n",
       "                                      &#x27;passthrough&#x27;]},\n",
       "             scoring=&#x27;accuracy&#x27;)</pre><b>In a Jupyter environment, please rerun this cell to show the HTML representation or trust the notebook. <br />On GitHub, the HTML representation is unable to render, please try loading this page with nbviewer.org.</b></div><div class=\"sk-container\" hidden><div class=\"sk-item sk-dashed-wrapped\"><div class=\"sk-label-container\"><div class=\"sk-label sk-toggleable\"><input class=\"sk-toggleable__control sk-hidden--visually\" id=\"sk-estimator-id-13\" type=\"checkbox\" ><label for=\"sk-estimator-id-13\" class=\"sk-toggleable__label sk-toggleable__label-arrow\">GridSearchCV</label><div class=\"sk-toggleable__content\"><pre>GridSearchCV(cv=5,\n",
       "             estimator=Pipeline(steps=[(&#x27;prep&#x27;,\n",
       "                                        Pipeline(steps=[(&#x27;cat_imp&#x27;,\n",
       "                                                         CategoricalImputer(imputation_method=&#x27;frequent&#x27;)),\n",
       "                                                        (&#x27;num_imp&#x27;,\n",
       "                                                         MeanMedianImputer(imputation_method=&#x27;mean&#x27;)),\n",
       "                                                        (&#x27;ohe&#x27;,\n",
       "                                                         OneHotEncoder(drop_last=True)),\n",
       "                                                        (&#x27;sc&#x27;,\n",
       "                                                         SklearnTransformerWrapper(transformer=StandardScaler(),\n",
       "                                                                                   variables=[&#x27;Age&#x27;,\n",
       "                                                                                              &#x27;Fare&#x27;,\n",
       "                                                                                              &#x27;SibSp&#x27;,\n",
       "                                                                                              &#x27;Parch&#x27;]))])),\n",
       "                                       (&#x27;dt&#x27;,\n",
       "                                        DecisionTreeCl...\n",
       "                         &#x27;dt__min_samples_split&#x27;: array([0.1, 0.2, 0.3, 0.4, 0.5, 0.6, 0.7, 0.8, 0.9]),\n",
       "                         &#x27;prep__cat_imp__imputation_method&#x27;: [&#x27;frequent&#x27;,\n",
       "                                                              &#x27;missing&#x27;],\n",
       "                         &#x27;prep__num_imp__imputation_method&#x27;: [&#x27;mean&#x27;, &#x27;median&#x27;],\n",
       "                         &#x27;prep__ohe&#x27;: [OneHotEncoder(drop_last=True),\n",
       "                                       OneHotEncoder(), OrdinalEncoder()],\n",
       "                         &#x27;prep__sc&#x27;: [SklearnTransformerWrapper(transformer=StandardScaler(),\n",
       "                                                                variables=[&#x27;Age&#x27;,\n",
       "                                                                           &#x27;Fare&#x27;,\n",
       "                                                                           &#x27;SibSp&#x27;,\n",
       "                                                                           &#x27;Parch&#x27;]),\n",
       "                                      &#x27;passthrough&#x27;]},\n",
       "             scoring=&#x27;accuracy&#x27;)</pre></div></div></div><div class=\"sk-parallel\"><div class=\"sk-parallel-item\"><div class=\"sk-item\"><div class=\"sk-label-container\"><div class=\"sk-label sk-toggleable\"><input class=\"sk-toggleable__control sk-hidden--visually\" id=\"sk-estimator-id-14\" type=\"checkbox\" ><label for=\"sk-estimator-id-14\" class=\"sk-toggleable__label sk-toggleable__label-arrow\">estimator: Pipeline</label><div class=\"sk-toggleable__content\"><pre>Pipeline(steps=[(&#x27;prep&#x27;,\n",
       "                 Pipeline(steps=[(&#x27;cat_imp&#x27;,\n",
       "                                  CategoricalImputer(imputation_method=&#x27;frequent&#x27;)),\n",
       "                                 (&#x27;num_imp&#x27;,\n",
       "                                  MeanMedianImputer(imputation_method=&#x27;mean&#x27;)),\n",
       "                                 (&#x27;ohe&#x27;, OneHotEncoder(drop_last=True)),\n",
       "                                 (&#x27;sc&#x27;,\n",
       "                                  SklearnTransformerWrapper(transformer=StandardScaler(),\n",
       "                                                            variables=[&#x27;Age&#x27;,\n",
       "                                                                       &#x27;Fare&#x27;,\n",
       "                                                                       &#x27;SibSp&#x27;,\n",
       "                                                                       &#x27;Parch&#x27;]))])),\n",
       "                (&#x27;dt&#x27;, DecisionTreeClassifier(random_state=123))])</pre></div></div></div><div class=\"sk-serial\"><div class=\"sk-item\"><div class=\"sk-serial\"><div class=\"sk-item\"><div class=\"sk-label-container\"><div class=\"sk-label sk-toggleable\"><input class=\"sk-toggleable__control sk-hidden--visually\" id=\"sk-estimator-id-15\" type=\"checkbox\" ><label for=\"sk-estimator-id-15\" class=\"sk-toggleable__label sk-toggleable__label-arrow\">prep: Pipeline</label><div class=\"sk-toggleable__content\"><pre>Pipeline(steps=[(&#x27;cat_imp&#x27;, CategoricalImputer(imputation_method=&#x27;frequent&#x27;)),\n",
       "                (&#x27;num_imp&#x27;, MeanMedianImputer(imputation_method=&#x27;mean&#x27;)),\n",
       "                (&#x27;ohe&#x27;, OneHotEncoder(drop_last=True)),\n",
       "                (&#x27;sc&#x27;,\n",
       "                 SklearnTransformerWrapper(transformer=StandardScaler(),\n",
       "                                           variables=[&#x27;Age&#x27;, &#x27;Fare&#x27;, &#x27;SibSp&#x27;,\n",
       "                                                      &#x27;Parch&#x27;]))])</pre></div></div></div><div class=\"sk-serial\"><div class=\"sk-item\"><div class=\"sk-estimator sk-toggleable\"><input class=\"sk-toggleable__control sk-hidden--visually\" id=\"sk-estimator-id-16\" type=\"checkbox\" ><label for=\"sk-estimator-id-16\" class=\"sk-toggleable__label sk-toggleable__label-arrow\">CategoricalImputer</label><div class=\"sk-toggleable__content\"><pre>CategoricalImputer(imputation_method=&#x27;frequent&#x27;)</pre></div></div></div><div class=\"sk-item\"><div class=\"sk-estimator sk-toggleable\"><input class=\"sk-toggleable__control sk-hidden--visually\" id=\"sk-estimator-id-17\" type=\"checkbox\" ><label for=\"sk-estimator-id-17\" class=\"sk-toggleable__label sk-toggleable__label-arrow\">MeanMedianImputer</label><div class=\"sk-toggleable__content\"><pre>MeanMedianImputer(imputation_method=&#x27;mean&#x27;)</pre></div></div></div><div class=\"sk-item\"><div class=\"sk-estimator sk-toggleable\"><input class=\"sk-toggleable__control sk-hidden--visually\" id=\"sk-estimator-id-18\" type=\"checkbox\" ><label for=\"sk-estimator-id-18\" class=\"sk-toggleable__label sk-toggleable__label-arrow\">OneHotEncoder</label><div class=\"sk-toggleable__content\"><pre>OneHotEncoder(drop_last=True)</pre></div></div></div><div class=\"sk-item sk-dashed-wrapped\"><div class=\"sk-label-container\"><div class=\"sk-label sk-toggleable\"><input class=\"sk-toggleable__control sk-hidden--visually\" id=\"sk-estimator-id-19\" type=\"checkbox\" ><label for=\"sk-estimator-id-19\" class=\"sk-toggleable__label sk-toggleable__label-arrow\">sc: SklearnTransformerWrapper</label><div class=\"sk-toggleable__content\"><pre>SklearnTransformerWrapper(transformer=StandardScaler(),\n",
       "                          variables=[&#x27;Age&#x27;, &#x27;Fare&#x27;, &#x27;SibSp&#x27;, &#x27;Parch&#x27;])</pre></div></div></div><div class=\"sk-parallel\"><div class=\"sk-parallel-item\"><div class=\"sk-item\"><div class=\"sk-label-container\"><div class=\"sk-label sk-toggleable\"><input class=\"sk-toggleable__control sk-hidden--visually\" id=\"sk-estimator-id-20\" type=\"checkbox\" ><label for=\"sk-estimator-id-20\" class=\"sk-toggleable__label sk-toggleable__label-arrow\">transformer: StandardScaler</label><div class=\"sk-toggleable__content\"><pre>StandardScaler()</pre></div></div></div><div class=\"sk-serial\"><div class=\"sk-item\"><div class=\"sk-estimator sk-toggleable\"><input class=\"sk-toggleable__control sk-hidden--visually\" id=\"sk-estimator-id-21\" type=\"checkbox\" ><label for=\"sk-estimator-id-21\" class=\"sk-toggleable__label sk-toggleable__label-arrow\">StandardScaler</label><div class=\"sk-toggleable__content\"><pre>StandardScaler()</pre></div></div></div></div></div></div></div></div></div></div><div class=\"sk-item\"><div class=\"sk-estimator sk-toggleable\"><input class=\"sk-toggleable__control sk-hidden--visually\" id=\"sk-estimator-id-22\" type=\"checkbox\" ><label for=\"sk-estimator-id-22\" class=\"sk-toggleable__label sk-toggleable__label-arrow\">DecisionTreeClassifier</label><div class=\"sk-toggleable__content\"><pre>DecisionTreeClassifier(random_state=123)</pre></div></div></div></div></div></div></div></div></div></div></div></div>"
      ],
      "text/plain": [
       "GridSearchCV(cv=5,\n",
       "             estimator=Pipeline(steps=[('prep',\n",
       "                                        Pipeline(steps=[('cat_imp',\n",
       "                                                         CategoricalImputer(imputation_method='frequent')),\n",
       "                                                        ('num_imp',\n",
       "                                                         MeanMedianImputer(imputation_method='mean')),\n",
       "                                                        ('ohe',\n",
       "                                                         OneHotEncoder(drop_last=True)),\n",
       "                                                        ('sc',\n",
       "                                                         SklearnTransformerWrapper(transformer=StandardScaler(),\n",
       "                                                                                   variables=['Age',\n",
       "                                                                                              'Fare',\n",
       "                                                                                              'SibSp',\n",
       "                                                                                              'Parch']))])),\n",
       "                                       ('dt',\n",
       "                                        DecisionTreeCl...\n",
       "                         'dt__min_samples_split': array([0.1, 0.2, 0.3, 0.4, 0.5, 0.6, 0.7, 0.8, 0.9]),\n",
       "                         'prep__cat_imp__imputation_method': ['frequent',\n",
       "                                                              'missing'],\n",
       "                         'prep__num_imp__imputation_method': ['mean', 'median'],\n",
       "                         'prep__ohe': [OneHotEncoder(drop_last=True),\n",
       "                                       OneHotEncoder(), OrdinalEncoder()],\n",
       "                         'prep__sc': [SklearnTransformerWrapper(transformer=StandardScaler(),\n",
       "                                                                variables=['Age',\n",
       "                                                                           'Fare',\n",
       "                                                                           'SibSp',\n",
       "                                                                           'Parch']),\n",
       "                                      'passthrough']},\n",
       "             scoring='accuracy')"
      ]
     },
     "execution_count": 52,
     "metadata": {},
     "output_type": "execute_result"
    }
   ],
   "source": [
    "pipe = Pipeline(steps = [\n",
    "    ('prep', prep),\n",
    "    ('dt', DecisionTreeClassifier(random_state=123))\n",
    "])\n",
    "\n",
    "params = {'prep__sc': [SklearnTransformerWrapper(StandardScaler(), variables=['Age','Fare', 'SibSp','Parch']), 'passthrough'],\n",
    "        'prep__num_imp__imputation_method': ['mean','median'] ,\n",
    "        'prep__ohe':[OneHotEncoder(drop_last=True),OneHotEncoder(drop_last=False),OrdinalEncoder(encoding_method='ordered')],\n",
    "        'prep__cat_imp__imputation_method':['frequent','missing'],\n",
    "        'dt__ccp_alpha':[.01, .1, .2, .3, .4, .5],\n",
    "        'dt__min_samples_split': np.arange(0.1, 1, 0.1),\n",
    "        'dt__max_depth':[5, 10, 15]\n",
    "        }\n",
    "\n",
    "search = GridSearchCV(pipe, params, cv = 5, scoring='accuracy', n_jobs=-1)\n",
    "search.fit(X_train,y_train)"
   ]
  },
  {
   "cell_type": "code",
   "execution_count": 50,
   "metadata": {},
   "outputs": [
    {
     "data": {
      "text/html": [
       "<div>\n",
       "<style scoped>\n",
       "    .dataframe tbody tr th:only-of-type {\n",
       "        vertical-align: middle;\n",
       "    }\n",
       "\n",
       "    .dataframe tbody tr th {\n",
       "        vertical-align: top;\n",
       "    }\n",
       "\n",
       "    .dataframe thead th {\n",
       "        text-align: right;\n",
       "    }\n",
       "</style>\n",
       "<table border=\"1\" class=\"dataframe\">\n",
       "  <thead>\n",
       "    <tr style=\"text-align: right;\">\n",
       "      <th></th>\n",
       "      <th>mean_fit_time</th>\n",
       "      <th>std_fit_time</th>\n",
       "      <th>mean_score_time</th>\n",
       "      <th>std_score_time</th>\n",
       "      <th>params</th>\n",
       "      <th>split0_test_score</th>\n",
       "      <th>split1_test_score</th>\n",
       "      <th>split2_test_score</th>\n",
       "      <th>split3_test_score</th>\n",
       "      <th>split4_test_score</th>\n",
       "      <th>mean_test_score</th>\n",
       "      <th>std_test_score</th>\n",
       "      <th>rank_test_score</th>\n",
       "    </tr>\n",
       "  </thead>\n",
       "  <tbody>\n",
       "    <tr>\n",
       "      <th>0</th>\n",
       "      <td>0.058776</td>\n",
       "      <td>0.000969</td>\n",
       "      <td>0.021949</td>\n",
       "      <td>0.001684</td>\n",
       "      <td>{}</td>\n",
       "      <td>0.769231</td>\n",
       "      <td>0.748252</td>\n",
       "      <td>0.788732</td>\n",
       "      <td>0.78169</td>\n",
       "      <td>0.739437</td>\n",
       "      <td>0.765468</td>\n",
       "      <td>0.018935</td>\n",
       "      <td>1</td>\n",
       "    </tr>\n",
       "  </tbody>\n",
       "</table>\n",
       "</div>"
      ],
      "text/plain": [
       "   mean_fit_time  std_fit_time  mean_score_time  std_score_time params  \\\n",
       "0       0.058776      0.000969         0.021949        0.001684     {}   \n",
       "\n",
       "   split0_test_score  split1_test_score  split2_test_score  split3_test_score  \\\n",
       "0           0.769231           0.748252           0.788732            0.78169   \n",
       "\n",
       "   split4_test_score  mean_test_score  std_test_score  rank_test_score  \n",
       "0           0.739437         0.765468        0.018935                1  "
      ]
     },
     "execution_count": 50,
     "metadata": {},
     "output_type": "execute_result"
    }
   ],
   "source": [
    "pd.DataFrame(search.cv_results_)"
   ]
  },
  {
   "cell_type": "code",
   "execution_count": 54,
   "metadata": {},
   "outputs": [
    {
     "data": {
      "text/plain": [
       "0.792159952723333"
      ]
     },
     "execution_count": 54,
     "metadata": {},
     "output_type": "execute_result"
    }
   ],
   "source": [
    "search.best_score_"
   ]
  },
  {
   "cell_type": "code",
   "execution_count": 53,
   "metadata": {},
   "outputs": [
    {
     "data": {
      "text/plain": [
       "{'dt__ccp_alpha': 0.01,\n",
       " 'dt__max_depth': 5,\n",
       " 'dt__min_samples_split': 0.4,\n",
       " 'prep__cat_imp__imputation_method': 'frequent',\n",
       " 'prep__num_imp__imputation_method': 'mean',\n",
       " 'prep__ohe': OneHotEncoder(drop_last=True),\n",
       " 'prep__sc': SklearnTransformerWrapper(transformer=StandardScaler(),\n",
       "                           variables=['Age', 'Fare', 'SibSp', 'Parch'])}"
      ]
     },
     "execution_count": 53,
     "metadata": {},
     "output_type": "execute_result"
    }
   ],
   "source": [
    "search.best_params_"
   ]
  },
  {
   "cell_type": "code",
   "execution_count": 73,
   "metadata": {},
   "outputs": [
    {
     "data": {
      "text/plain": [
       "<AxesSubplot:xlabel='param_dt__ccp_alpha'>"
      ]
     },
     "execution_count": 73,
     "metadata": {},
     "output_type": "execute_result"
    },
    {
     "data": {
      "image/png": "[encoded data removed]",
      "text/plain": [
       "<Figure size 432x288 with 1 Axes>"
      ]
     },
     "metadata": {
      "needs_background": "light"
     },
     "output_type": "display_data"
    }
   ],
   "source": [
    "pd.DataFrame(search.cv_results_).groupby(\n",
    "    'param_dt__ccp_alpha').mean_test_score.mean().plot()\n"
   ]
  },
  {
   "cell_type": "code",
   "execution_count": 103,
   "metadata": {},
   "outputs": [
    {
     "data": {
      "text/html": [
       "<style>#sk-container-id-9 {color: black;background-color: white;}#sk-container-id-9 pre{padding: 0;}#sk-container-id-9 div.sk-toggleable {background-color: white;}#sk-container-id-9 label.sk-toggleable__label {cursor: pointer;display: block;width: 100%;margin-bottom: 0;padding: 0.3em;box-sizing: border-box;text-align: center;}#sk-container-id-9 label.sk-toggleable__label-arrow:before {content: \"▸\";float: left;margin-right: 0.25em;color: #696969;}#sk-container-id-9 label.sk-toggleable__label-arrow:hover:before {color: black;}#sk-container-id-9 div.sk-estimator:hover label.sk-toggleable__label-arrow:before {color: black;}#sk-container-id-9 div.sk-toggleable__content {max-height: 0;max-width: 0;overflow: hidden;text-align: left;background-color: #f0f8ff;}#sk-container-id-9 div.sk-toggleable__content pre {margin: 0.2em;color: black;border-radius: 0.25em;background-color: #f0f8ff;}#sk-container-id-9 input.sk-toggleable__control:checked~div.sk-toggleable__content {max-height: 200px;max-width: 100%;overflow: auto;}#sk-container-id-9 input.sk-toggleable__control:checked~label.sk-toggleable__label-arrow:before {content: \"▾\";}#sk-container-id-9 div.sk-estimator input.sk-toggleable__control:checked~label.sk-toggleable__label {background-color: #d4ebff;}#sk-container-id-9 div.sk-label input.sk-toggleable__control:checked~label.sk-toggleable__label {background-color: #d4ebff;}#sk-container-id-9 input.sk-hidden--visually {border: 0;clip: rect(1px 1px 1px 1px);clip: rect(1px, 1px, 1px, 1px);height: 1px;margin: -1px;overflow: hidden;padding: 0;position: absolute;width: 1px;}#sk-container-id-9 div.sk-estimator {font-family: monospace;background-color: #f0f8ff;border: 1px dotted black;border-radius: 0.25em;box-sizing: border-box;margin-bottom: 0.5em;}#sk-container-id-9 div.sk-estimator:hover {background-color: #d4ebff;}#sk-container-id-9 div.sk-parallel-item::after {content: \"\";width: 100%;border-bottom: 1px solid gray;flex-grow: 1;}#sk-container-id-9 div.sk-label:hover label.sk-toggleable__label {background-color: #d4ebff;}#sk-container-id-9 div.sk-serial::before {content: \"\";position: absolute;border-left: 1px solid gray;box-sizing: border-box;top: 0;bottom: 0;left: 50%;z-index: 0;}#sk-container-id-9 div.sk-serial {display: flex;flex-direction: column;align-items: center;background-color: white;padding-right: 0.2em;padding-left: 0.2em;position: relative;}#sk-container-id-9 div.sk-item {position: relative;z-index: 1;}#sk-container-id-9 div.sk-parallel {display: flex;align-items: stretch;justify-content: center;background-color: white;position: relative;}#sk-container-id-9 div.sk-item::before, #sk-container-id-9 div.sk-parallel-item::before {content: \"\";position: absolute;border-left: 1px solid gray;box-sizing: border-box;top: 0;bottom: 0;left: 50%;z-index: -1;}#sk-container-id-9 div.sk-parallel-item {display: flex;flex-direction: column;z-index: 1;position: relative;background-color: white;}#sk-container-id-9 div.sk-parallel-item:first-child::after {align-self: flex-end;width: 50%;}#sk-container-id-9 div.sk-parallel-item:last-child::after {align-self: flex-start;width: 50%;}#sk-container-id-9 div.sk-parallel-item:only-child::after {width: 0;}#sk-container-id-9 div.sk-dashed-wrapped {border: 1px dashed gray;margin: 0 0.4em 0.5em 0.4em;box-sizing: border-box;padding-bottom: 0.4em;background-color: white;}#sk-container-id-9 div.sk-label label {font-family: monospace;font-weight: bold;display: inline-block;line-height: 1.2em;}#sk-container-id-9 div.sk-label-container {text-align: center;}#sk-container-id-9 div.sk-container {/* jupyter's `normalize.less` sets `[hidden] { display: none; }` but bootstrap.min.css set `[hidden] { display: none !important; }` so we also need the `!important` here to be able to override the default hidden behavior on the sphinx rendered scikit-learn.org. See: https://github.com/scikit-learn/scikit-learn/issues/21755 */display: inline-block !important;position: relative;}#sk-container-id-9 div.sk-text-repr-fallback {display: none;}</style><div id=\"sk-container-id-9\" class=\"sk-top-container\"><div class=\"sk-text-repr-fallback\"><pre>GridSearchCV(cv=5,\n",
       "             estimator=Pipeline(steps=[(&#x27;prep&#x27;,\n",
       "                                        Pipeline(steps=[(&#x27;cat_imp&#x27;,\n",
       "                                                         CategoricalImputer(imputation_method=&#x27;frequent&#x27;)),\n",
       "                                                        (&#x27;num_imp&#x27;,\n",
       "                                                         MeanMedianImputer(imputation_method=&#x27;mean&#x27;)),\n",
       "                                                        (&#x27;ohe&#x27;,\n",
       "                                                         OneHotEncoder(drop_last=True)),\n",
       "                                                        (&#x27;sc&#x27;,\n",
       "                                                         SklearnTransformerWrapper(transformer=StandardScaler(),\n",
       "                                                                                   variables=[&#x27;Age&#x27;,\n",
       "                                                                                              &#x27;Fare&#x27;,\n",
       "                                                                                              &#x27;SibSp&#x27;,\n",
       "                                                                                              &#x27;Parch&#x27;]))])),\n",
       "                                       (&#x27;dt&#x27;,\n",
       "                                        DecisionTreeCl...\n",
       "       0.345, 0.346, 0.347, 0.348, 0.349, 0.35 , 0.351, 0.352, 0.353,\n",
       "       0.354, 0.355, 0.356, 0.357, 0.358, 0.359, 0.36 , 0.361, 0.362,\n",
       "       0.363, 0.364, 0.365, 0.366, 0.367, 0.368, 0.369, 0.37 , 0.371,\n",
       "       0.372, 0.373, 0.374, 0.375, 0.376, 0.377, 0.378, 0.379, 0.38 ,\n",
       "       0.381, 0.382, 0.383, 0.384, 0.385, 0.386, 0.387, 0.388, 0.389,\n",
       "       0.39 , 0.391, 0.392, 0.393, 0.394, 0.395, 0.396, 0.397, 0.398,\n",
       "       0.399, 0.4  ])},\n",
       "             scoring=&#x27;accuracy&#x27;)</pre><b>In a Jupyter environment, please rerun this cell to show the HTML representation or trust the notebook. <br />On GitHub, the HTML representation is unable to render, please try loading this page with nbviewer.org.</b></div><div class=\"sk-container\" hidden><div class=\"sk-item sk-dashed-wrapped\"><div class=\"sk-label-container\"><div class=\"sk-label sk-toggleable\"><input class=\"sk-toggleable__control sk-hidden--visually\" id=\"sk-estimator-id-63\" type=\"checkbox\" ><label for=\"sk-estimator-id-63\" class=\"sk-toggleable__label sk-toggleable__label-arrow\">GridSearchCV</label><div class=\"sk-toggleable__content\"><pre>GridSearchCV(cv=5,\n",
       "             estimator=Pipeline(steps=[(&#x27;prep&#x27;,\n",
       "                                        Pipeline(steps=[(&#x27;cat_imp&#x27;,\n",
       "                                                         CategoricalImputer(imputation_method=&#x27;frequent&#x27;)),\n",
       "                                                        (&#x27;num_imp&#x27;,\n",
       "                                                         MeanMedianImputer(imputation_method=&#x27;mean&#x27;)),\n",
       "                                                        (&#x27;ohe&#x27;,\n",
       "                                                         OneHotEncoder(drop_last=True)),\n",
       "                                                        (&#x27;sc&#x27;,\n",
       "                                                         SklearnTransformerWrapper(transformer=StandardScaler(),\n",
       "                                                                                   variables=[&#x27;Age&#x27;,\n",
       "                                                                                              &#x27;Fare&#x27;,\n",
       "                                                                                              &#x27;SibSp&#x27;,\n",
       "                                                                                              &#x27;Parch&#x27;]))])),\n",
       "                                       (&#x27;dt&#x27;,\n",
       "                                        DecisionTreeCl...\n",
       "       0.345, 0.346, 0.347, 0.348, 0.349, 0.35 , 0.351, 0.352, 0.353,\n",
       "       0.354, 0.355, 0.356, 0.357, 0.358, 0.359, 0.36 , 0.361, 0.362,\n",
       "       0.363, 0.364, 0.365, 0.366, 0.367, 0.368, 0.369, 0.37 , 0.371,\n",
       "       0.372, 0.373, 0.374, 0.375, 0.376, 0.377, 0.378, 0.379, 0.38 ,\n",
       "       0.381, 0.382, 0.383, 0.384, 0.385, 0.386, 0.387, 0.388, 0.389,\n",
       "       0.39 , 0.391, 0.392, 0.393, 0.394, 0.395, 0.396, 0.397, 0.398,\n",
       "       0.399, 0.4  ])},\n",
       "             scoring=&#x27;accuracy&#x27;)</pre></div></div></div><div class=\"sk-parallel\"><div class=\"sk-parallel-item\"><div class=\"sk-item\"><div class=\"sk-label-container\"><div class=\"sk-label sk-toggleable\"><input class=\"sk-toggleable__control sk-hidden--visually\" id=\"sk-estimator-id-64\" type=\"checkbox\" ><label for=\"sk-estimator-id-64\" class=\"sk-toggleable__label sk-toggleable__label-arrow\">estimator: Pipeline</label><div class=\"sk-toggleable__content\"><pre>Pipeline(steps=[(&#x27;prep&#x27;,\n",
       "                 Pipeline(steps=[(&#x27;cat_imp&#x27;,\n",
       "                                  CategoricalImputer(imputation_method=&#x27;frequent&#x27;)),\n",
       "                                 (&#x27;num_imp&#x27;,\n",
       "                                  MeanMedianImputer(imputation_method=&#x27;mean&#x27;)),\n",
       "                                 (&#x27;ohe&#x27;, OneHotEncoder(drop_last=True)),\n",
       "                                 (&#x27;sc&#x27;,\n",
       "                                  SklearnTransformerWrapper(transformer=StandardScaler(),\n",
       "                                                            variables=[&#x27;Age&#x27;,\n",
       "                                                                       &#x27;Fare&#x27;,\n",
       "                                                                       &#x27;SibSp&#x27;,\n",
       "                                                                       &#x27;Parch&#x27;]))])),\n",
       "                (&#x27;dt&#x27;, DecisionTreeClassifier(random_state=123))])</pre></div></div></div><div class=\"sk-serial\"><div class=\"sk-item\"><div class=\"sk-serial\"><div class=\"sk-item\"><div class=\"sk-label-container\"><div class=\"sk-label sk-toggleable\"><input class=\"sk-toggleable__control sk-hidden--visually\" id=\"sk-estimator-id-65\" type=\"checkbox\" ><label for=\"sk-estimator-id-65\" class=\"sk-toggleable__label sk-toggleable__label-arrow\">prep: Pipeline</label><div class=\"sk-toggleable__content\"><pre>Pipeline(steps=[(&#x27;cat_imp&#x27;, CategoricalImputer(imputation_method=&#x27;frequent&#x27;)),\n",
       "                (&#x27;num_imp&#x27;, MeanMedianImputer(imputation_method=&#x27;mean&#x27;)),\n",
       "                (&#x27;ohe&#x27;, OneHotEncoder(drop_last=True)),\n",
       "                (&#x27;sc&#x27;,\n",
       "                 SklearnTransformerWrapper(transformer=StandardScaler(),\n",
       "                                           variables=[&#x27;Age&#x27;, &#x27;Fare&#x27;, &#x27;SibSp&#x27;,\n",
       "                                                      &#x27;Parch&#x27;]))])</pre></div></div></div><div class=\"sk-serial\"><div class=\"sk-item\"><div class=\"sk-estimator sk-toggleable\"><input class=\"sk-toggleable__control sk-hidden--visually\" id=\"sk-estimator-id-66\" type=\"checkbox\" ><label for=\"sk-estimator-id-66\" class=\"sk-toggleable__label sk-toggleable__label-arrow\">CategoricalImputer</label><div class=\"sk-toggleable__content\"><pre>CategoricalImputer(imputation_method=&#x27;frequent&#x27;)</pre></div></div></div><div class=\"sk-item\"><div class=\"sk-estimator sk-toggleable\"><input class=\"sk-toggleable__control sk-hidden--visually\" id=\"sk-estimator-id-67\" type=\"checkbox\" ><label for=\"sk-estimator-id-67\" class=\"sk-toggleable__label sk-toggleable__label-arrow\">MeanMedianImputer</label><div class=\"sk-toggleable__content\"><pre>MeanMedianImputer(imputation_method=&#x27;mean&#x27;)</pre></div></div></div><div class=\"sk-item\"><div class=\"sk-estimator sk-toggleable\"><input class=\"sk-toggleable__control sk-hidden--visually\" id=\"sk-estimator-id-68\" type=\"checkbox\" ><label for=\"sk-estimator-id-68\" class=\"sk-toggleable__label sk-toggleable__label-arrow\">OneHotEncoder</label><div class=\"sk-toggleable__content\"><pre>OneHotEncoder(drop_last=True)</pre></div></div></div><div class=\"sk-item sk-dashed-wrapped\"><div class=\"sk-label-container\"><div class=\"sk-label sk-toggleable\"><input class=\"sk-toggleable__control sk-hidden--visually\" id=\"sk-estimator-id-69\" type=\"checkbox\" ><label for=\"sk-estimator-id-69\" class=\"sk-toggleable__label sk-toggleable__label-arrow\">sc: SklearnTransformerWrapper</label><div class=\"sk-toggleable__content\"><pre>SklearnTransformerWrapper(transformer=StandardScaler(),\n",
       "                          variables=[&#x27;Age&#x27;, &#x27;Fare&#x27;, &#x27;SibSp&#x27;, &#x27;Parch&#x27;])</pre></div></div></div><div class=\"sk-parallel\"><div class=\"sk-parallel-item\"><div class=\"sk-item\"><div class=\"sk-label-container\"><div class=\"sk-label sk-toggleable\"><input class=\"sk-toggleable__control sk-hidden--visually\" id=\"sk-estimator-id-70\" type=\"checkbox\" ><label for=\"sk-estimator-id-70\" class=\"sk-toggleable__label sk-toggleable__label-arrow\">transformer: StandardScaler</label><div class=\"sk-toggleable__content\"><pre>StandardScaler()</pre></div></div></div><div class=\"sk-serial\"><div class=\"sk-item\"><div class=\"sk-estimator sk-toggleable\"><input class=\"sk-toggleable__control sk-hidden--visually\" id=\"sk-estimator-id-71\" type=\"checkbox\" ><label for=\"sk-estimator-id-71\" class=\"sk-toggleable__label sk-toggleable__label-arrow\">StandardScaler</label><div class=\"sk-toggleable__content\"><pre>StandardScaler()</pre></div></div></div></div></div></div></div></div></div></div><div class=\"sk-item\"><div class=\"sk-estimator sk-toggleable\"><input class=\"sk-toggleable__control sk-hidden--visually\" id=\"sk-estimator-id-72\" type=\"checkbox\" ><label for=\"sk-estimator-id-72\" class=\"sk-toggleable__label sk-toggleable__label-arrow\">DecisionTreeClassifier</label><div class=\"sk-toggleable__content\"><pre>DecisionTreeClassifier(random_state=123)</pre></div></div></div></div></div></div></div></div></div></div></div></div>"
      ],
      "text/plain": [
       "GridSearchCV(cv=5,\n",
       "             estimator=Pipeline(steps=[('prep',\n",
       "                                        Pipeline(steps=[('cat_imp',\n",
       "                                                         CategoricalImputer(imputation_method='frequent')),\n",
       "                                                        ('num_imp',\n",
       "                                                         MeanMedianImputer(imputation_method='mean')),\n",
       "                                                        ('ohe',\n",
       "                                                         OneHotEncoder(drop_last=True)),\n",
       "                                                        ('sc',\n",
       "                                                         SklearnTransformerWrapper(transformer=StandardScaler(),\n",
       "                                                                                   variables=['Age',\n",
       "                                                                                              'Fare',\n",
       "                                                                                              'SibSp',\n",
       "                                                                                              'Parch']))])),\n",
       "                                       ('dt',\n",
       "                                        DecisionTreeCl...\n",
       "       0.345, 0.346, 0.347, 0.348, 0.349, 0.35 , 0.351, 0.352, 0.353,\n",
       "       0.354, 0.355, 0.356, 0.357, 0.358, 0.359, 0.36 , 0.361, 0.362,\n",
       "       0.363, 0.364, 0.365, 0.366, 0.367, 0.368, 0.369, 0.37 , 0.371,\n",
       "       0.372, 0.373, 0.374, 0.375, 0.376, 0.377, 0.378, 0.379, 0.38 ,\n",
       "       0.381, 0.382, 0.383, 0.384, 0.385, 0.386, 0.387, 0.388, 0.389,\n",
       "       0.39 , 0.391, 0.392, 0.393, 0.394, 0.395, 0.396, 0.397, 0.398,\n",
       "       0.399, 0.4  ])},\n",
       "             scoring='accuracy')"
      ]
     },
     "execution_count": 103,
     "metadata": {},
     "output_type": "execute_result"
    }
   ],
   "source": [
    "pipe = Pipeline(steps = [\n",
    "    ('prep', prep),\n",
    "    ('dt', DecisionTreeClassifier(random_state=123))\n",
    "])\n",
    "\n",
    "params2 = {\n",
    "        'dt__ccp_alpha': np.arange(0, 0.2, 0.05),\n",
    "        'dt__min_samples_split': np.arange(0.34, 0.38, 0.001),\n",
    "        'dt__max_depth': 5,\n",
    "        }\n",
    "\n",
    "search2 = GridSearchCV(pipe, params2, cv = 5, scoring='accuracy', n_jobs=-1)\n",
    "search2.fit(X_train,y_train)"
   ]
  },
  {
   "cell_type": "code",
   "execution_count": 104,
   "metadata": {},
   "outputs": [
    {
     "data": {
      "text/plain": [
       "(0.7935684034275583,\n",
       " {'dt__ccp_alpha': 0.0, 'dt__min_samples_split': 0.35100000000000003})"
      ]
     },
     "execution_count": 104,
     "metadata": {},
     "output_type": "execute_result"
    }
   ],
   "source": [
    "search2.best_score_, search2.best_params_"
   ]
  },
  {
   "cell_type": "code",
   "execution_count": 105,
   "metadata": {},
   "outputs": [
    {
     "data": {
      "text/plain": [
       "<AxesSubplot:xlabel='param_dt__min_samples_split'>"
      ]
     },
     "execution_count": 105,
     "metadata": {},
     "output_type": "execute_result"
    },
    {
     "data": {
      "image/png": "[encoded data removed]",
      "text/plain": [
       "<Figure size 432x288 with 1 Axes>"
      ]
     },
     "metadata": {
      "needs_background": "light"
     },
     "output_type": "display_data"
    }
   ],
   "source": [
    "pd.DataFrame(search2.cv_results_).groupby(\n",
    "    'param_dt__min_samples_split').mean_test_score.mean().plot()\n"
   ]
  },
  {
   "cell_type": "code",
   "execution_count": null,
   "metadata": {},
   "outputs": [],
   "source": []
  }
 ],
 "metadata": {
  "kernelspec": {
   "display_name": "Python 3.10.4 ('dl')",
   "language": "python",
   "name": "python3"
  },
  "language_info": {
   "codemirror_mode": {
    "name": "ipython",
    "version": 3
   },
   "file_extension": ".py",
   "mimetype": "text/x-python",
   "name": "python",
   "nbconvert_exporter": "python",
   "pygments_lexer": "ipython3",
   "version": "3.10.4"
  },
  "orig_nbformat": 4,
  "vscode": {
   "interpreter": {
    "hash": "c9ccd8639d7ac6d8ae46f08631d02de0d1c9f4a08850208985333be71082afd9"
   }
  }
 },
 "nbformat": 4,
 "nbformat_minor": 2
}
