{
 "cells": [
  {
   "cell_type": "markdown",
   "metadata": {},
   "source": [
    "![im1](im1.png)\n",
    "[Enlace interesante](https://roboticsknowledgebase.com/wiki/math/gaussian-process-gaussian-mixture-model/)  \n",
    "[Overfitting en no supervisado](https://stats.stackexchange.com/questions/250212/is-overfitting-a-problem-in-unsupervised-learning)  \n",
    "[Gaussian Mixture](https://apmonitor.com/pds/index.php/Main/GaussianMixtureModel)"
   ]
  },
  {
   "cell_type": "markdown",
   "metadata": {},
   "source": [
    "![im2](im2.png)"
   ]
  },
  {
   "cell_type": "markdown",
   "metadata": {},
   "source": [
    "![im3](im3.png)"
   ]
  },
  {
   "cell_type": "code",
   "execution_count": 22,
   "metadata": {},
   "outputs": [],
   "source": [
    "import pandas as pd\n",
    "import numpy as np\n",
    "\n",
    "import matplotlib.pyplot as plt\n",
    "\n",
    "from sklearn.model_selection import train_test_split\n",
    "from sklearn.mixture import GaussianMixture\n",
    "from sklearn.preprocessing import StandardScaler\n",
    "\n",
    "from sklearn.decomposition import PCA\n",
    "\n",
    "from sklearn.cluster import KMeans\n",
    "\n",
    "from sklearn.pipeline import Pipeline\n",
    "\n",
    "from sklearn import set_config\n",
    "set_config(display='diagram')"
   ]
  },
  {
   "cell_type": "code",
   "execution_count": 18,
   "metadata": {},
   "outputs": [
    {
     "data": {
      "text/html": [
       "<div>\n",
       "<style scoped>\n",
       "    .dataframe tbody tr th:only-of-type {\n",
       "        vertical-align: middle;\n",
       "    }\n",
       "\n",
       "    .dataframe tbody tr th {\n",
       "        vertical-align: top;\n",
       "    }\n",
       "\n",
       "    .dataframe thead th {\n",
       "        text-align: right;\n",
       "    }\n",
       "</style>\n",
       "<table border=\"1\" class=\"dataframe\">\n",
       "  <thead>\n",
       "    <tr style=\"text-align: right;\">\n",
       "      <th></th>\n",
       "      <th>sepallength</th>\n",
       "      <th>sepalwidth</th>\n",
       "      <th>petallength</th>\n",
       "      <th>petalwidth</th>\n",
       "      <th>class</th>\n",
       "    </tr>\n",
       "  </thead>\n",
       "  <tbody>\n",
       "    <tr>\n",
       "      <th>0</th>\n",
       "      <td>5.1</td>\n",
       "      <td>3.5</td>\n",
       "      <td>1.4</td>\n",
       "      <td>0.2</td>\n",
       "      <td>Iris-setosa</td>\n",
       "    </tr>\n",
       "    <tr>\n",
       "      <th>1</th>\n",
       "      <td>4.9</td>\n",
       "      <td>3.0</td>\n",
       "      <td>1.4</td>\n",
       "      <td>0.2</td>\n",
       "      <td>Iris-setosa</td>\n",
       "    </tr>\n",
       "    <tr>\n",
       "      <th>2</th>\n",
       "      <td>4.7</td>\n",
       "      <td>3.2</td>\n",
       "      <td>1.3</td>\n",
       "      <td>0.2</td>\n",
       "      <td>Iris-setosa</td>\n",
       "    </tr>\n",
       "    <tr>\n",
       "      <th>3</th>\n",
       "      <td>4.6</td>\n",
       "      <td>3.1</td>\n",
       "      <td>1.5</td>\n",
       "      <td>0.2</td>\n",
       "      <td>Iris-setosa</td>\n",
       "    </tr>\n",
       "    <tr>\n",
       "      <th>4</th>\n",
       "      <td>5.0</td>\n",
       "      <td>3.6</td>\n",
       "      <td>1.4</td>\n",
       "      <td>0.2</td>\n",
       "      <td>Iris-setosa</td>\n",
       "    </tr>\n",
       "    <tr>\n",
       "      <th>...</th>\n",
       "      <td>...</td>\n",
       "      <td>...</td>\n",
       "      <td>...</td>\n",
       "      <td>...</td>\n",
       "      <td>...</td>\n",
       "    </tr>\n",
       "    <tr>\n",
       "      <th>145</th>\n",
       "      <td>6.7</td>\n",
       "      <td>3.0</td>\n",
       "      <td>5.2</td>\n",
       "      <td>2.3</td>\n",
       "      <td>Iris-virginica</td>\n",
       "    </tr>\n",
       "    <tr>\n",
       "      <th>146</th>\n",
       "      <td>6.3</td>\n",
       "      <td>2.5</td>\n",
       "      <td>5.0</td>\n",
       "      <td>1.9</td>\n",
       "      <td>Iris-virginica</td>\n",
       "    </tr>\n",
       "    <tr>\n",
       "      <th>147</th>\n",
       "      <td>6.5</td>\n",
       "      <td>3.0</td>\n",
       "      <td>5.2</td>\n",
       "      <td>2.0</td>\n",
       "      <td>Iris-virginica</td>\n",
       "    </tr>\n",
       "    <tr>\n",
       "      <th>148</th>\n",
       "      <td>6.2</td>\n",
       "      <td>3.4</td>\n",
       "      <td>5.4</td>\n",
       "      <td>2.3</td>\n",
       "      <td>Iris-virginica</td>\n",
       "    </tr>\n",
       "    <tr>\n",
       "      <th>149</th>\n",
       "      <td>5.9</td>\n",
       "      <td>3.0</td>\n",
       "      <td>5.1</td>\n",
       "      <td>1.8</td>\n",
       "      <td>Iris-virginica</td>\n",
       "    </tr>\n",
       "  </tbody>\n",
       "</table>\n",
       "<p>150 rows × 5 columns</p>\n",
       "</div>"
      ],
      "text/plain": [
       "     sepallength  sepalwidth  petallength  petalwidth           class\n",
       "0            5.1         3.5          1.4         0.2     Iris-setosa\n",
       "1            4.9         3.0          1.4         0.2     Iris-setosa\n",
       "2            4.7         3.2          1.3         0.2     Iris-setosa\n",
       "3            4.6         3.1          1.5         0.2     Iris-setosa\n",
       "4            5.0         3.6          1.4         0.2     Iris-setosa\n",
       "..           ...         ...          ...         ...             ...\n",
       "145          6.7         3.0          5.2         2.3  Iris-virginica\n",
       "146          6.3         2.5          5.0         1.9  Iris-virginica\n",
       "147          6.5         3.0          5.2         2.0  Iris-virginica\n",
       "148          6.2         3.4          5.4         2.3  Iris-virginica\n",
       "149          5.9         3.0          5.1         1.8  Iris-virginica\n",
       "\n",
       "[150 rows x 5 columns]"
      ]
     },
     "execution_count": 18,
     "metadata": {},
     "output_type": "execute_result"
    }
   ],
   "source": [
    "df = pd.read_csv('iris.csv')\n",
    "df"
   ]
  },
  {
   "cell_type": "code",
   "execution_count": 19,
   "metadata": {},
   "outputs": [],
   "source": [
    "## KMeans : No supervisado...\n",
    "\n",
    "X = df.drop(columns = 'class')\n",
    "y = df['class'].astype('category').cat.codes"
   ]
  },
  {
   "cell_type": "code",
   "execution_count": 20,
   "metadata": {},
   "outputs": [
    {
     "data": {
      "image/png": "[encoded data removed]",
      "text/plain": [
       "<Figure size 432x288 with 2 Axes>"
      ]
     },
     "metadata": {
      "needs_background": "light"
     },
     "output_type": "display_data"
    }
   ],
   "source": [
    "import scikitplot as skplt  \n",
    "km = KMeans(random_state=123)\n",
    "skplt.cluster.plot_elbow_curve(km, X, cluster_ranges=range(1,9));"
   ]
  },
  {
   "cell_type": "code",
   "execution_count": 24,
   "metadata": {},
   "outputs": [],
   "source": [
    "## algoritmos de clustering no es necesario aplicar train_test_split\n",
    "pipe = Pipeline(steps= [\n",
    "    ('sc', StandardScaler()), #escala de las variables...\n",
    "    ('km', KMeans(n_clusters=3,random_state=123))\n",
    "])\n",
    "\n",
    "cl_number = pipe.fit_predict(X) # entrenando el modelo... "
   ]
  },
  {
   "cell_type": "code",
   "execution_count": 28,
   "metadata": {},
   "outputs": [
    {
     "data": {
      "text/plain": [
       "<matplotlib.collections.PathCollection at 0x259361fb760>"
      ]
     },
     "execution_count": 28,
     "metadata": {},
     "output_type": "execute_result"
    },
    {
     "data": {
      "image/png": "[encoded data removed]",
      "text/plain": [
       "<Figure size 720x576 with 1 Axes>"
      ]
     },
     "metadata": {
      "needs_background": "light"
     },
     "output_type": "display_data"
    }
   ],
   "source": [
    "pca = PCA(n_components = 2, random_state=123)\n",
    "components = pca.fit_transform(X)\n",
    "plt.figure(figsize=(10,8))\n",
    "plt.scatter(components[:,0],components[:,1], c = cl_number)"
   ]
  },
  {
   "cell_type": "code",
   "execution_count": 30,
   "metadata": {},
   "outputs": [
    {
     "data": {
      "image/png": "[encoded data removed]",
      "text/plain": [
       "<Figure size 720x576 with 1 Axes>"
      ]
     },
     "metadata": {
      "needs_background": "light"
     },
     "output_type": "display_data"
    }
   ],
   "source": [
    "plt.figure(figsize=(10,8))\n",
    "plt.scatter(components[:,0],components[:,1], c = y);"
   ]
  },
  {
   "cell_type": "code",
   "execution_count": 36,
   "metadata": {},
   "outputs": [],
   "source": [
    "## GMM\n",
    "\n",
    "gmm = GaussianMixture(n_components=3, random_state=123)\n",
    "cl_number_gmm = gmm.fit_predict(X) ## cl_number\n",
    "cl_number_proba = gmm.predict_proba(X)"
   ]
  },
  {
   "cell_type": "code",
   "execution_count": 39,
   "metadata": {},
   "outputs": [
    {
     "data": {
      "image/png": "[encoded data removed]",
      "text/plain": [
       "<Figure size 720x576 with 1 Axes>"
      ]
     },
     "metadata": {
      "needs_background": "light"
     },
     "output_type": "display_data"
    }
   ],
   "source": [
    "plt.figure(figsize=(10,8))\n",
    "plt.scatter(components[:,0],components[:,1], c = cl_number_gmm);"
   ]
  },
  {
   "cell_type": "code",
   "execution_count": 50,
   "metadata": {},
   "outputs": [
    {
     "data": {
      "text/html": [
       "<div>\n",
       "<style scoped>\n",
       "    .dataframe tbody tr th:only-of-type {\n",
       "        vertical-align: middle;\n",
       "    }\n",
       "\n",
       "    .dataframe tbody tr th {\n",
       "        vertical-align: top;\n",
       "    }\n",
       "\n",
       "    .dataframe thead th {\n",
       "        text-align: right;\n",
       "    }\n",
       "</style>\n",
       "<table border=\"1\" class=\"dataframe\">\n",
       "  <thead>\n",
       "    <tr style=\"text-align: right;\">\n",
       "      <th></th>\n",
       "      <th>song</th>\n",
       "      <th>year</th>\n",
       "      <th>artist</th>\n",
       "      <th>genre</th>\n",
       "      <th>lyrics</th>\n",
       "    </tr>\n",
       "    <tr>\n",
       "      <th>index</th>\n",
       "      <th></th>\n",
       "      <th></th>\n",
       "      <th></th>\n",
       "      <th></th>\n",
       "      <th></th>\n",
       "    </tr>\n",
       "  </thead>\n",
       "  <tbody>\n",
       "    <tr>\n",
       "      <th>85071</th>\n",
       "      <td>beautiful-newborn-child</td>\n",
       "      <td>2006</td>\n",
       "      <td>the-animals</td>\n",
       "      <td>Rock</td>\n",
       "      <td>Oh yeah I'm a child of the funky time Oh yeah ...</td>\n",
       "    </tr>\n",
       "    <tr>\n",
       "      <th>38294</th>\n",
       "      <td>your-always-be-my-baby</td>\n",
       "      <td>2009</td>\n",
       "      <td>david-cook</td>\n",
       "      <td>Rock</td>\n",
       "      <td>We were as one babe For a moment in time And i...</td>\n",
       "    </tr>\n",
       "    <tr>\n",
       "      <th>204298</th>\n",
       "      <td>need-a-man-blues</td>\n",
       "      <td>2006</td>\n",
       "      <td>bronski-beat</td>\n",
       "      <td>Pop</td>\n",
       "      <td>He e hey I got those need a man blues Driving ...</td>\n",
       "    </tr>\n",
       "    <tr>\n",
       "      <th>28457</th>\n",
       "      <td>you-re-fooling-you</td>\n",
       "      <td>2000</td>\n",
       "      <td>the-dramatics</td>\n",
       "      <td>R&amp;B</td>\n",
       "      <td>You ain't fooling me Huh huh no well Well well...</td>\n",
       "    </tr>\n",
       "    <tr>\n",
       "      <th>213862</th>\n",
       "      <td>brutal-hearts</td>\n",
       "      <td>2010</td>\n",
       "      <td>bedouin-soundclash</td>\n",
       "      <td>Rock</td>\n",
       "      <td>Are you the Brutal Heart Are you the Brutal He...</td>\n",
       "    </tr>\n",
       "    <tr>\n",
       "      <th>...</th>\n",
       "      <td>...</td>\n",
       "      <td>...</td>\n",
       "      <td>...</td>\n",
       "      <td>...</td>\n",
       "      <td>...</td>\n",
       "    </tr>\n",
       "    <tr>\n",
       "      <th>55888</th>\n",
       "      <td>villa-vampiria</td>\n",
       "      <td>2007</td>\n",
       "      <td>god-dethroned</td>\n",
       "      <td>Metal</td>\n",
       "      <td>Scum of the earth Winged vermin of the night S...</td>\n",
       "    </tr>\n",
       "    <tr>\n",
       "      <th>67563</th>\n",
       "      <td>no-love</td>\n",
       "      <td>2007</td>\n",
       "      <td>the-gc5</td>\n",
       "      <td>Rock</td>\n",
       "      <td>Get your head out of the clouds kid Get your h...</td>\n",
       "    </tr>\n",
       "    <tr>\n",
       "      <th>347540</th>\n",
       "      <td>newport-living</td>\n",
       "      <td>2007</td>\n",
       "      <td>cute-is-what-we-aim-for</td>\n",
       "      <td>Rock</td>\n",
       "      <td>Everyone's a let down It just depends on how f...</td>\n",
       "    </tr>\n",
       "    <tr>\n",
       "      <th>187975</th>\n",
       "      <td>a-month-today</td>\n",
       "      <td>2006</td>\n",
       "      <td>ben-lee</td>\n",
       "      <td>Pop</td>\n",
       "      <td>Just 18 I've seen the world Done more than som...</td>\n",
       "    </tr>\n",
       "    <tr>\n",
       "      <th>199888</th>\n",
       "      <td>aged-idol-of-dusk</td>\n",
       "      <td>2006</td>\n",
       "      <td>great-horn</td>\n",
       "      <td>Metal</td>\n",
       "      <td>Ages idol of dusk Lord of the dark forest Your...</td>\n",
       "    </tr>\n",
       "  </tbody>\n",
       "</table>\n",
       "<p>1000 rows × 5 columns</p>\n",
       "</div>"
      ],
      "text/plain": [
       "                           song  year                   artist  genre  \\\n",
       "index                                                                   \n",
       "85071   beautiful-newborn-child  2006              the-animals   Rock   \n",
       "38294    your-always-be-my-baby  2009               david-cook   Rock   \n",
       "204298         need-a-man-blues  2006             bronski-beat    Pop   \n",
       "28457        you-re-fooling-you  2000            the-dramatics    R&B   \n",
       "213862            brutal-hearts  2010       bedouin-soundclash   Rock   \n",
       "...                         ...   ...                      ...    ...   \n",
       "55888            villa-vampiria  2007            god-dethroned  Metal   \n",
       "67563                   no-love  2007                  the-gc5   Rock   \n",
       "347540           newport-living  2007  cute-is-what-we-aim-for   Rock   \n",
       "187975            a-month-today  2006                  ben-lee    Pop   \n",
       "199888        aged-idol-of-dusk  2006               great-horn  Metal   \n",
       "\n",
       "                                                   lyrics  \n",
       "index                                                      \n",
       "85071   Oh yeah I'm a child of the funky time Oh yeah ...  \n",
       "38294   We were as one babe For a moment in time And i...  \n",
       "204298  He e hey I got those need a man blues Driving ...  \n",
       "28457   You ain't fooling me Huh huh no well Well well...  \n",
       "213862  Are you the Brutal Heart Are you the Brutal He...  \n",
       "...                                                   ...  \n",
       "55888   Scum of the earth Winged vermin of the night S...  \n",
       "67563   Get your head out of the clouds kid Get your h...  \n",
       "347540  Everyone's a let down It just depends on how f...  \n",
       "187975  Just 18 I've seen the world Done more than som...  \n",
       "199888  Ages idol of dusk Lord of the dark forest Your...  \n",
       "\n",
       "[1000 rows x 5 columns]"
      ]
     },
     "execution_count": 50,
     "metadata": {},
     "output_type": "execute_result"
    }
   ],
   "source": [
    "# LDA: Latent Dirichlet Allocation ... Topic Modelling\n",
    "# Teoricamente Dirichlet como modela bien la distribución de palabras en un texto\n",
    "# Aplicación en NLP Natural Language Processing\n",
    "from sklearn.decomposition import LatentDirichletAllocation\n",
    "from sklearn.feature_extraction.text import CountVectorizer\n",
    "\n",
    "df = pd.read_csv('letras_sample.csv', index_col = 'index').drop(columns = 'Unnamed: 0')\n",
    "df"
   ]
  },
  {
   "cell_type": "code",
   "execution_count": 57,
   "metadata": {},
   "outputs": [
    {
     "data": {
      "text/plain": [
       "\"Oh yeah I'm a child of the funky time Oh yeah my people have committed ugly crimes And in the process of me breaking free I have inherited a painful legacy I have even created some ugly children for you to adopt That you have chosen to embrace You embrace the ugly the dyin and the freak Only because he is a part of you and you are afraid to speak Deep down way down in the depths of you He is ready to take over and rape the last part of the sanity in your mind Let him out let him out let him run wild scream free Get crazy and forget about music what it was what it is or what its supposed to be Give it to the day give in to the funky Give in to the gypsy to the nigger in you soul and fly free Fly free Give it to the Oh lord curse of the newborn child The incredible madness of just you and then Yeah yeah Maybe we will see A beautiful newborn child Something beautiful something beautiful etc Burdon WAR \""
      ]
     },
     "execution_count": 57,
     "metadata": {},
     "output_type": "execute_result"
    }
   ],
   "source": [
    "df.lyrics.iloc[0]"
   ]
  },
  {
   "cell_type": "code",
   "execution_count": 59,
   "metadata": {},
   "outputs": [
    {
     "data": {
      "text/plain": [
       "Rock          457\n",
       "Pop           135\n",
       "Metal         110\n",
       "Hip-Hop       105\n",
       "Country        71\n",
       "Jazz           36\n",
       "Electronic     32\n",
       "R&B            16\n",
       "Indie          15\n",
       "Other          14\n",
       "Folk            9\n",
       "Name: genre, dtype: int64"
      ]
     },
     "execution_count": 59,
     "metadata": {},
     "output_type": "execute_result"
    }
   ],
   "source": [
    "# Encontrar tópicos asociados a las letras ... les aviso este modelo no va a funcionar bien... 1000 filas.\n",
    "\n",
    "df.genre.value_counts()"
   ]
  },
  {
   "cell_type": "markdown",
   "metadata": {},
   "source": [
    "## Data Augmentation en Texto... Traducir a alemán y luego de alemán al inglés.\n",
    "\n",
    "[Doc LDA](https://scikit-learn.org/stable/modules/generated/sklearn.decomposition.LatentDirichletAllocation.html)"
   ]
  },
  {
   "cell_type": "code",
   "execution_count": 62,
   "metadata": {},
   "outputs": [
    {
     "data": {
      "text/html": [
       "<style>#sk-container-id-2 {color: black;background-color: white;}#sk-container-id-2 pre{padding: 0;}#sk-container-id-2 div.sk-toggleable {background-color: white;}#sk-container-id-2 label.sk-toggleable__label {cursor: pointer;display: block;width: 100%;margin-bottom: 0;padding: 0.3em;box-sizing: border-box;text-align: center;}#sk-container-id-2 label.sk-toggleable__label-arrow:before {content: \"▸\";float: left;margin-right: 0.25em;color: #696969;}#sk-container-id-2 label.sk-toggleable__label-arrow:hover:before {color: black;}#sk-container-id-2 div.sk-estimator:hover label.sk-toggleable__label-arrow:before {color: black;}#sk-container-id-2 div.sk-toggleable__content {max-height: 0;max-width: 0;overflow: hidden;text-align: left;background-color: #f0f8ff;}#sk-container-id-2 div.sk-toggleable__content pre {margin: 0.2em;color: black;border-radius: 0.25em;background-color: #f0f8ff;}#sk-container-id-2 input.sk-toggleable__control:checked~div.sk-toggleable__content {max-height: 200px;max-width: 100%;overflow: auto;}#sk-container-id-2 input.sk-toggleable__control:checked~label.sk-toggleable__label-arrow:before {content: \"▾\";}#sk-container-id-2 div.sk-estimator input.sk-toggleable__control:checked~label.sk-toggleable__label {background-color: #d4ebff;}#sk-container-id-2 div.sk-label input.sk-toggleable__control:checked~label.sk-toggleable__label {background-color: #d4ebff;}#sk-container-id-2 input.sk-hidden--visually {border: 0;clip: rect(1px 1px 1px 1px);clip: rect(1px, 1px, 1px, 1px);height: 1px;margin: -1px;overflow: hidden;padding: 0;position: absolute;width: 1px;}#sk-container-id-2 div.sk-estimator {font-family: monospace;background-color: #f0f8ff;border: 1px dotted black;border-radius: 0.25em;box-sizing: border-box;margin-bottom: 0.5em;}#sk-container-id-2 div.sk-estimator:hover {background-color: #d4ebff;}#sk-container-id-2 div.sk-parallel-item::after {content: \"\";width: 100%;border-bottom: 1px solid gray;flex-grow: 1;}#sk-container-id-2 div.sk-label:hover label.sk-toggleable__label {background-color: #d4ebff;}#sk-container-id-2 div.sk-serial::before {content: \"\";position: absolute;border-left: 1px solid gray;box-sizing: border-box;top: 0;bottom: 0;left: 50%;z-index: 0;}#sk-container-id-2 div.sk-serial {display: flex;flex-direction: column;align-items: center;background-color: white;padding-right: 0.2em;padding-left: 0.2em;position: relative;}#sk-container-id-2 div.sk-item {position: relative;z-index: 1;}#sk-container-id-2 div.sk-parallel {display: flex;align-items: stretch;justify-content: center;background-color: white;position: relative;}#sk-container-id-2 div.sk-item::before, #sk-container-id-2 div.sk-parallel-item::before {content: \"\";position: absolute;border-left: 1px solid gray;box-sizing: border-box;top: 0;bottom: 0;left: 50%;z-index: -1;}#sk-container-id-2 div.sk-parallel-item {display: flex;flex-direction: column;z-index: 1;position: relative;background-color: white;}#sk-container-id-2 div.sk-parallel-item:first-child::after {align-self: flex-end;width: 50%;}#sk-container-id-2 div.sk-parallel-item:last-child::after {align-self: flex-start;width: 50%;}#sk-container-id-2 div.sk-parallel-item:only-child::after {width: 0;}#sk-container-id-2 div.sk-dashed-wrapped {border: 1px dashed gray;margin: 0 0.4em 0.5em 0.4em;box-sizing: border-box;padding-bottom: 0.4em;background-color: white;}#sk-container-id-2 div.sk-label label {font-family: monospace;font-weight: bold;display: inline-block;line-height: 1.2em;}#sk-container-id-2 div.sk-label-container {text-align: center;}#sk-container-id-2 div.sk-container {/* jupyter's `normalize.less` sets `[hidden] { display: none; }` but bootstrap.min.css set `[hidden] { display: none !important; }` so we also need the `!important` here to be able to override the default hidden behavior on the sphinx rendered scikit-learn.org. See: https://github.com/scikit-learn/scikit-learn/issues/21755 */display: inline-block !important;position: relative;}#sk-container-id-2 div.sk-text-repr-fallback {display: none;}</style><div id=\"sk-container-id-2\" class=\"sk-top-container\"><div class=\"sk-text-repr-fallback\"><pre>Pipeline(steps=[(&#x27;cv&#x27;, CountVectorizer(stop_words=&#x27;english&#x27;)),\n",
       "                (&#x27;lda&#x27;,\n",
       "                 LatentDirichletAllocation(n_jobs=-1, random_state=123))])</pre><b>In a Jupyter environment, please rerun this cell to show the HTML representation or trust the notebook. <br />On GitHub, the HTML representation is unable to render, please try loading this page with nbviewer.org.</b></div><div class=\"sk-container\" hidden><div class=\"sk-item sk-dashed-wrapped\"><div class=\"sk-label-container\"><div class=\"sk-label sk-toggleable\"><input class=\"sk-toggleable__control sk-hidden--visually\" id=\"sk-estimator-id-4\" type=\"checkbox\" ><label for=\"sk-estimator-id-4\" class=\"sk-toggleable__label sk-toggleable__label-arrow\">Pipeline</label><div class=\"sk-toggleable__content\"><pre>Pipeline(steps=[(&#x27;cv&#x27;, CountVectorizer(stop_words=&#x27;english&#x27;)),\n",
       "                (&#x27;lda&#x27;,\n",
       "                 LatentDirichletAllocation(n_jobs=-1, random_state=123))])</pre></div></div></div><div class=\"sk-serial\"><div class=\"sk-item\"><div class=\"sk-estimator sk-toggleable\"><input class=\"sk-toggleable__control sk-hidden--visually\" id=\"sk-estimator-id-5\" type=\"checkbox\" ><label for=\"sk-estimator-id-5\" class=\"sk-toggleable__label sk-toggleable__label-arrow\">CountVectorizer</label><div class=\"sk-toggleable__content\"><pre>CountVectorizer(stop_words=&#x27;english&#x27;)</pre></div></div></div><div class=\"sk-item\"><div class=\"sk-estimator sk-toggleable\"><input class=\"sk-toggleable__control sk-hidden--visually\" id=\"sk-estimator-id-6\" type=\"checkbox\" ><label for=\"sk-estimator-id-6\" class=\"sk-toggleable__label sk-toggleable__label-arrow\">LatentDirichletAllocation</label><div class=\"sk-toggleable__content\"><pre>LatentDirichletAllocation(n_jobs=-1, random_state=123)</pre></div></div></div></div></div></div></div>"
      ],
      "text/plain": [
       "Pipeline(steps=[('cv', CountVectorizer(stop_words='english')),\n",
       "                ('lda',\n",
       "                 LatentDirichletAllocation(n_jobs=-1, random_state=123))])"
      ]
     },
     "execution_count": 62,
     "metadata": {},
     "output_type": "execute_result"
    }
   ],
   "source": [
    "pipe = Pipeline (steps = [\n",
    "    ('cv', CountVectorizer(stop_words = 'english', ngram_range=(1,3))),\n",
    "    ('lda', LatentDirichletAllocation(n_components=10,n_jobs=-1, random_state=123))\n",
    "])\n",
    "\n",
    "pipe.fit(df.lyrics)"
   ]
  },
  {
   "cell_type": "markdown",
   "metadata": {},
   "source": []
  },
  {
   "cell_type": "code",
   "execution_count": 72,
   "metadata": {},
   "outputs": [
    {
     "data": {
      "text/plain": [
       "(11738,)"
      ]
     },
     "execution_count": 72,
     "metadata": {},
     "output_type": "execute_result"
    }
   ],
   "source": [
    "words = pipe.named_steps.cv.get_feature_names_out()\n",
    "words.shape"
   ]
  },
  {
   "cell_type": "code",
   "execution_count": 71,
   "metadata": {},
   "outputs": [
    {
     "data": {
      "text/plain": [
       "(10, 11738)"
      ]
     },
     "execution_count": 71,
     "metadata": {},
     "output_type": "execute_result"
    }
   ],
   "source": [
    "topics = pipe.named_steps.lda.components_ / pipe.named_steps.lda.components_.sum(axis=1)[:, np.newaxis]\n",
    "topics.shape"
   ]
  },
  {
   "cell_type": "code",
   "execution_count": 73,
   "metadata": {},
   "outputs": [
    {
     "data": {
      "text/html": [
       "<div>\n",
       "<style scoped>\n",
       "    .dataframe tbody tr th:only-of-type {\n",
       "        vertical-align: middle;\n",
       "    }\n",
       "\n",
       "    .dataframe tbody tr th {\n",
       "        vertical-align: top;\n",
       "    }\n",
       "\n",
       "    .dataframe thead th {\n",
       "        text-align: right;\n",
       "    }\n",
       "</style>\n",
       "<table border=\"1\" class=\"dataframe\">\n",
       "  <thead>\n",
       "    <tr style=\"text-align: right;\">\n",
       "      <th></th>\n",
       "      <th>0</th>\n",
       "      <th>1</th>\n",
       "      <th>2</th>\n",
       "      <th>3</th>\n",
       "      <th>4</th>\n",
       "      <th>5</th>\n",
       "      <th>6</th>\n",
       "      <th>7</th>\n",
       "      <th>8</th>\n",
       "      <th>9</th>\n",
       "    </tr>\n",
       "  </thead>\n",
       "  <tbody>\n",
       "    <tr>\n",
       "      <th>000</th>\n",
       "      <td>0.000003</td>\n",
       "      <td>0.000010</td>\n",
       "      <td>0.000006</td>\n",
       "      <td>0.000011</td>\n",
       "      <td>0.000013</td>\n",
       "      <td>0.000008</td>\n",
       "      <td>0.000188</td>\n",
       "      <td>0.000012</td>\n",
       "      <td>0.000015</td>\n",
       "      <td>0.000009</td>\n",
       "    </tr>\n",
       "    <tr>\n",
       "      <th>0bit</th>\n",
       "      <td>0.000003</td>\n",
       "      <td>0.000010</td>\n",
       "      <td>0.000006</td>\n",
       "      <td>0.000011</td>\n",
       "      <td>0.000145</td>\n",
       "      <td>0.000008</td>\n",
       "      <td>0.000017</td>\n",
       "      <td>0.000012</td>\n",
       "      <td>0.000015</td>\n",
       "      <td>0.000009</td>\n",
       "    </tr>\n",
       "    <tr>\n",
       "      <th>10</th>\n",
       "      <td>0.000047</td>\n",
       "      <td>0.000107</td>\n",
       "      <td>0.000006</td>\n",
       "      <td>0.000011</td>\n",
       "      <td>0.000276</td>\n",
       "      <td>0.000176</td>\n",
       "      <td>0.000188</td>\n",
       "      <td>0.000012</td>\n",
       "      <td>0.000015</td>\n",
       "      <td>0.000172</td>\n",
       "    </tr>\n",
       "    <tr>\n",
       "      <th>100</th>\n",
       "      <td>0.000037</td>\n",
       "      <td>0.000010</td>\n",
       "      <td>0.000006</td>\n",
       "      <td>0.000011</td>\n",
       "      <td>0.000013</td>\n",
       "      <td>0.000008</td>\n",
       "      <td>0.000017</td>\n",
       "      <td>0.000012</td>\n",
       "      <td>0.000015</td>\n",
       "      <td>0.000009</td>\n",
       "    </tr>\n",
       "    <tr>\n",
       "      <th>100k</th>\n",
       "      <td>0.000003</td>\n",
       "      <td>0.000010</td>\n",
       "      <td>0.000006</td>\n",
       "      <td>0.000011</td>\n",
       "      <td>0.000013</td>\n",
       "      <td>0.000008</td>\n",
       "      <td>0.000188</td>\n",
       "      <td>0.000012</td>\n",
       "      <td>0.000015</td>\n",
       "      <td>0.000009</td>\n",
       "    </tr>\n",
       "    <tr>\n",
       "      <th>...</th>\n",
       "      <td>...</td>\n",
       "      <td>...</td>\n",
       "      <td>...</td>\n",
       "      <td>...</td>\n",
       "      <td>...</td>\n",
       "      <td>...</td>\n",
       "      <td>...</td>\n",
       "      <td>...</td>\n",
       "      <td>...</td>\n",
       "      <td>...</td>\n",
       "    </tr>\n",
       "    <tr>\n",
       "      <th>zone</th>\n",
       "      <td>0.000003</td>\n",
       "      <td>0.000010</td>\n",
       "      <td>0.000006</td>\n",
       "      <td>0.000011</td>\n",
       "      <td>0.001456</td>\n",
       "      <td>0.000092</td>\n",
       "      <td>0.000188</td>\n",
       "      <td>0.000012</td>\n",
       "      <td>0.000167</td>\n",
       "      <td>0.000107</td>\n",
       "    </tr>\n",
       "    <tr>\n",
       "      <th>zonin</th>\n",
       "      <td>0.000003</td>\n",
       "      <td>0.000010</td>\n",
       "      <td>0.000006</td>\n",
       "      <td>0.000011</td>\n",
       "      <td>0.000013</td>\n",
       "      <td>0.000008</td>\n",
       "      <td>0.000017</td>\n",
       "      <td>0.000012</td>\n",
       "      <td>0.000167</td>\n",
       "      <td>0.000009</td>\n",
       "    </tr>\n",
       "    <tr>\n",
       "      <th>zoo</th>\n",
       "      <td>0.000003</td>\n",
       "      <td>0.000010</td>\n",
       "      <td>0.000067</td>\n",
       "      <td>0.000011</td>\n",
       "      <td>0.000013</td>\n",
       "      <td>0.000092</td>\n",
       "      <td>0.000188</td>\n",
       "      <td>0.000012</td>\n",
       "      <td>0.000015</td>\n",
       "      <td>0.000009</td>\n",
       "    </tr>\n",
       "    <tr>\n",
       "      <th>zoogang</th>\n",
       "      <td>0.000003</td>\n",
       "      <td>0.000010</td>\n",
       "      <td>0.000006</td>\n",
       "      <td>0.000011</td>\n",
       "      <td>0.000013</td>\n",
       "      <td>0.000176</td>\n",
       "      <td>0.000017</td>\n",
       "      <td>0.000012</td>\n",
       "      <td>0.000015</td>\n",
       "      <td>0.000009</td>\n",
       "    </tr>\n",
       "    <tr>\n",
       "      <th>zsa</th>\n",
       "      <td>0.000003</td>\n",
       "      <td>0.000010</td>\n",
       "      <td>0.000006</td>\n",
       "      <td>0.000011</td>\n",
       "      <td>0.000013</td>\n",
       "      <td>0.000008</td>\n",
       "      <td>0.000017</td>\n",
       "      <td>0.000012</td>\n",
       "      <td>0.000319</td>\n",
       "      <td>0.000009</td>\n",
       "    </tr>\n",
       "  </tbody>\n",
       "</table>\n",
       "<p>11738 rows × 10 columns</p>\n",
       "</div>"
      ],
      "text/plain": [
       "                0         1         2         3         4         5         6  \\\n",
       "000      0.000003  0.000010  0.000006  0.000011  0.000013  0.000008  0.000188   \n",
       "0bit     0.000003  0.000010  0.000006  0.000011  0.000145  0.000008  0.000017   \n",
       "10       0.000047  0.000107  0.000006  0.000011  0.000276  0.000176  0.000188   \n",
       "100      0.000037  0.000010  0.000006  0.000011  0.000013  0.000008  0.000017   \n",
       "100k     0.000003  0.000010  0.000006  0.000011  0.000013  0.000008  0.000188   \n",
       "...           ...       ...       ...       ...       ...       ...       ...   \n",
       "zone     0.000003  0.000010  0.000006  0.000011  0.001456  0.000092  0.000188   \n",
       "zonin    0.000003  0.000010  0.000006  0.000011  0.000013  0.000008  0.000017   \n",
       "zoo      0.000003  0.000010  0.000067  0.000011  0.000013  0.000092  0.000188   \n",
       "zoogang  0.000003  0.000010  0.000006  0.000011  0.000013  0.000176  0.000017   \n",
       "zsa      0.000003  0.000010  0.000006  0.000011  0.000013  0.000008  0.000017   \n",
       "\n",
       "                7         8         9  \n",
       "000      0.000012  0.000015  0.000009  \n",
       "0bit     0.000012  0.000015  0.000009  \n",
       "10       0.000012  0.000015  0.000172  \n",
       "100      0.000012  0.000015  0.000009  \n",
       "100k     0.000012  0.000015  0.000009  \n",
       "...           ...       ...       ...  \n",
       "zone     0.000012  0.000167  0.000107  \n",
       "zonin    0.000012  0.000167  0.000009  \n",
       "zoo      0.000012  0.000015  0.000009  \n",
       "zoogang  0.000012  0.000015  0.000009  \n",
       "zsa      0.000012  0.000319  0.000009  \n",
       "\n",
       "[11738 rows x 10 columns]"
      ]
     },
     "execution_count": 73,
     "metadata": {},
     "output_type": "execute_result"
    }
   ],
   "source": [
    "topicos = pd.DataFrame(topics, columns = words).T\n",
    "topicos"
   ]
  },
  {
   "cell_type": "code",
   "execution_count": 74,
   "metadata": {},
   "outputs": [
    {
     "data": {
      "text/plain": [
       "love     0.018350\n",
       "don      0.015871\n",
       "know     0.015080\n",
       "baby     0.014950\n",
       "like     0.013356\n",
       "just     0.013036\n",
       "got      0.010838\n",
       "ll       0.008624\n",
       "time     0.007323\n",
       "want     0.007037\n",
       "way      0.007009\n",
       "cause    0.006682\n",
       "make     0.006628\n",
       "gonna    0.006452\n",
       "say      0.006305\n",
       "heart    0.006114\n",
       "nigga    0.005751\n",
       "ain      0.005700\n",
       "think    0.005604\n",
       "let      0.005342\n",
       "Name: 0, dtype: float64"
      ]
     },
     "execution_count": 74,
     "metadata": {},
     "output_type": "execute_result"
    }
   ],
   "source": [
    "def call_top_topics(topics_df, topic_n, top_n):\n",
    "    return topics_df[topic_n].sort_values(ascending=False).head(top_n)\n",
    "\n",
    "call_top_topics(topicos, 0, 20) # POP Romantica ... Britney Spears"
   ]
  },
  {
   "cell_type": "code",
   "execution_count": 87,
   "metadata": {},
   "outputs": [
    {
     "data": {
      "text/plain": [
       "love         0.014877\n",
       "ve           0.009314\n",
       "like         0.008477\n",
       "got          0.007766\n",
       "gonna        0.007536\n",
       "air          0.007163\n",
       "whoa         0.006508\n",
       "time         0.006492\n",
       "plus         0.005726\n",
       "away         0.004819\n",
       "ya           0.004700\n",
       "life         0.004553\n",
       "know         0.004501\n",
       "ll           0.004400\n",
       "think        0.004198\n",
       "way          0.004147\n",
       "cause        0.003941\n",
       "fish         0.003827\n",
       "said         0.003825\n",
       "don          0.003800\n",
       "mongoloid    0.003696\n",
       "heart        0.003536\n",
       "let          0.003521\n",
       "break        0.003418\n",
       "won          0.003408\n",
       "mind         0.003281\n",
       "hands        0.003225\n",
       "thing        0.003209\n",
       "good         0.003171\n",
       "little       0.003038\n",
       "Name: 4, dtype: float64"
      ]
     },
     "execution_count": 87,
     "metadata": {},
     "output_type": "execute_result"
    }
   ],
   "source": [
    "call_top_topics(topicos, 4, 30) "
   ]
  },
  {
   "cell_type": "code",
   "execution_count": 89,
   "metadata": {},
   "outputs": [
    {
     "data": {
      "text/plain": [
       "0      1.0\n",
       "1      1.0\n",
       "2      1.0\n",
       "3      1.0\n",
       "4      1.0\n",
       "      ... \n",
       "995    1.0\n",
       "996    1.0\n",
       "997    1.0\n",
       "998    1.0\n",
       "999    1.0\n",
       "Length: 1000, dtype: float64"
      ]
     },
     "execution_count": 89,
     "metadata": {},
     "output_type": "execute_result"
    }
   ],
   "source": [
    "pd.DataFrame(pipe.transform(df.lyrics)).sum(axis=1)"
   ]
  },
  {
   "cell_type": "code",
   "execution_count": 91,
   "metadata": {},
   "outputs": [
    {
     "data": {
      "text/plain": [
       "\"Just 18 I've seen the world Done more than some their whole lives unfold Still at school just saving face But a month today I'll be leaving this place I've lived a million lives so far But I'm still naive and a broken heart I feel like I've heard it all before With a whole life ahead to hear a whole lot more You wouldn't believe half the things I've seen Way too much for just 18 I've written songs about them all so far And played them all on an acoustic guitar Life is good it's been alright to me I've recorded my heart on a couple LP's It all comes down to the same old thing Trying to find someone to share it with I'm lost I know that the world is weird I'm swimming in waters that I used to fear Crazy things have made me kind of tough Sometimes I think that I've seen too much Just 18 I've seen the world Done more than some their whole lives unfold Still at school just saving face But a month today I'll be leaving this place But a month today I'll be leaving this place\""
      ]
     },
     "execution_count": 91,
     "metadata": {},
     "output_type": "execute_result"
    }
   ],
   "source": [
    "df.lyrics.iloc[998]"
   ]
  },
  {
   "cell_type": "code",
   "execution_count": null,
   "metadata": {},
   "outputs": [],
   "source": []
  }
 ],
 "metadata": {
  "kernelspec": {
   "display_name": "Python 3.10.4 ('dl')",
   "language": "python",
   "name": "python3"
  },
  "language_info": {
   "codemirror_mode": {
    "name": "ipython",
    "version": 3
   },
   "file_extension": ".py",
   "mimetype": "text/x-python",
   "name": "python",
   "nbconvert_exporter": "python",
   "pygments_lexer": "ipython3",
   "version": "3.10.4"
  },
  "orig_nbformat": 4,
  "vscode": {
   "interpreter": {
    "hash": "c9ccd8639d7ac6d8ae46f08631d02de0d1c9f4a08850208985333be71082afd9"
   }
  }
 },
 "nbformat": 4,
 "nbformat_minor": 2
}
